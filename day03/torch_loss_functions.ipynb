{
 "cells": [
  {
   "cell_type": "markdown",
   "metadata": {
    "id": "16MRkHwODseH"
   },
   "source": [
    "# loss functions"
   ]
  },
  {
   "cell_type": "markdown",
   "metadata": {
    "id": "yjK_fczdDseQ"
   },
   "source": [
    "## nn.L1Loss"
   ]
  },
  {
   "cell_type": "code",
   "execution_count": 1,
   "metadata": {
    "colab": {
     "base_uri": "https://localhost:8080/"
    },
    "executionInfo": {
     "elapsed": 3941,
     "status": "ok",
     "timestamp": 1614997911388,
     "user": {
      "displayName": "노규남",
      "photoUrl": "",
      "userId": "18354138419357331039"
     },
     "user_tz": -540
    },
    "id": "3tq7C5zVDseR",
    "outputId": "10e27aac-7a00-4306-8bb8-6a65e54ed154"
   },
   "outputs": [
    {
     "name": "stdout",
     "output_type": "stream",
     "text": [
      "tensor([[ 1.5635, -0.0165,  2.1463, -0.2796,  0.6402],\n",
      "        [ 1.0082,  1.7912, -0.1949, -0.2445,  1.9221],\n",
      "        [ 0.0150,  0.4875,  0.4756, -0.9043, -0.8711]], requires_grad=True)\n",
      "tensor([[-0.5937,  0.0944,  0.1481,  1.2554, -0.3018],\n",
      "        [-0.1614, -1.3965,  1.3373, -0.2402, -0.9707],\n",
      "        [-0.1643, -1.7411,  0.7255,  0.2472,  1.1645]])\n",
      "1.4249821901321411\n"
     ]
    }
   ],
   "source": [
    "# abs(x-y)\n",
    "\n",
    "import torch\n",
    "import torch.nn as nn\n",
    "\n",
    "loss = nn.L1Loss()\n",
    "input = torch.randn(3, 5, requires_grad=True)\n",
    "target = torch.randn(3, 5)\n",
    "output = loss(input, target)\n",
    "output.backward()\n",
    "\n",
    "print(input)\n",
    "print(target)\n",
    "print(output.item())"
   ]
  },
  {
   "cell_type": "markdown",
   "metadata": {
    "id": "3gfUFHodDseS"
   },
   "source": [
    "## nn.MSELoss"
   ]
  },
  {
   "cell_type": "code",
   "execution_count": 2,
   "metadata": {
    "colab": {
     "base_uri": "https://localhost:8080/"
    },
    "executionInfo": {
     "elapsed": 1066,
     "status": "ok",
     "timestamp": 1614997960383,
     "user": {
      "displayName": "노규남",
      "photoUrl": "",
      "userId": "18354138419357331039"
     },
     "user_tz": -540
    },
    "id": "2SVmm8W9DseT",
    "outputId": "d4f8a051-3719-400e-d7c0-d59b5c69951c"
   },
   "outputs": [
    {
     "name": "stdout",
     "output_type": "stream",
     "text": [
      "tensor([[-1.8886, -0.5651,  0.3043, -1.0647,  0.7739],\n",
      "        [-1.8571,  0.7455,  0.3478,  0.4844, -1.5996],\n",
      "        [ 0.8127,  0.5267, -0.2529,  0.5354, -0.2668]], requires_grad=True)\n",
      "tensor([[ 0.0937,  0.2047, -0.2170, -0.0715, -0.5362],\n",
      "        [-1.2361,  1.8752, -1.6884,  0.5661,  0.6265],\n",
      "        [ 0.3620, -1.1972, -0.4863,  0.8112, -0.8047]])\n",
      "1.4574605226516724\n"
     ]
    }
   ],
   "source": [
    "# (x-y)^2\n",
    "\n",
    "import torch\n",
    "import torch.nn as nn\n",
    "\n",
    "loss = nn.MSELoss()\n",
    "input = torch.randn(3, 5, requires_grad=True)\n",
    "target = torch.randn(3, 5)\n",
    "output = loss(input, target)\n",
    "output.backward()\n",
    "\n",
    "print(input)\n",
    "print(target)\n",
    "print(output.item())"
   ]
  },
  {
   "cell_type": "markdown",
   "metadata": {
    "id": "xf-fIx-vDseT"
   },
   "source": [
    "## nn.CrossEntropyLoss"
   ]
  },
  {
   "cell_type": "code",
   "execution_count": 3,
   "metadata": {
    "colab": {
     "base_uri": "https://localhost:8080/"
    },
    "executionInfo": {
     "elapsed": 3411,
     "status": "ok",
     "timestamp": 1614942238800,
     "user": {
      "displayName": "노규남",
      "photoUrl": "",
      "userId": "18354138419357331039"
     },
     "user_tz": -540
    },
    "id": "8V20Qm4UDseT",
    "outputId": "c8194488-d577-463d-d0cf-67a8e5c0ffd4"
   },
   "outputs": [
    {
     "name": "stdout",
     "output_type": "stream",
     "text": [
      "tensor([[ 0.6596,  1.6158, -0.8915,  0.4191, -0.2218],\n",
      "        [-0.7644, -1.1341,  0.0340, -1.8193,  0.2917],\n",
      "        [ 0.0133,  0.2759,  0.3500,  0.2686, -0.6619]], requires_grad=True)\n",
      "tensor([0, 2, 2])\n",
      "1.382387638092041\n"
     ]
    }
   ],
   "source": [
    "# C개 아이템을 classify할 때 사용\n",
    "# input은 (N, C), target은 (N), output은 scalar (N)\n",
    "# 즉 input중 가장 높은 확률인 아이템이 몇번째인가?가 target이고 그에 따른 loss를 계산한다.\n",
    "\n",
    "import torch\n",
    "import torch.nn as nn\n",
    "\n",
    "loss = nn.CrossEntropyLoss()\n",
    "input = torch.randn(3, 5, requires_grad=True)\n",
    "target = torch.empty(3, dtype=torch.long).random_(5)\n",
    "output = loss(input, target)\n",
    "output.backward()\n",
    "\n",
    "print(input)\n",
    "print(target)\n",
    "print(output.item())"
   ]
  },
  {
   "cell_type": "markdown",
   "metadata": {
    "id": "1FbluVlaDseU"
   },
   "source": [
    "## nn.CTCLoss"
   ]
  },
  {
   "cell_type": "code",
   "execution_count": null,
   "metadata": {
    "colab": {
     "base_uri": "https://localhost:8080/"
    },
    "executionInfo": {
     "elapsed": 3405,
     "status": "ok",
     "timestamp": 1614942238800,
     "user": {
      "displayName": "노규남",
      "photoUrl": "",
      "userId": "18354138419357331039"
     },
     "user_tz": -540
    },
    "id": "BCR1FEMcDseU",
    "outputId": "577a34bb-230b-4a46-c7ca-2f7f1a9a7e34"
   },
   "outputs": [],
   "source": [
    "import torch\n",
    "import torch.nn as nn\n",
    "\n",
    "# Target are to be padded\n",
    "T = 50      # Input sequence length\n",
    "C = 20      # Number of classes (including blank)\n",
    "N = 16      # Batch size\n",
    "S = 30      # Target sequence length of longest target in batch (padding length)\n",
    "S_min = 10  # Minimum target length, for demonstration purposes\n",
    "\n",
    "# Initialize random batch of input vectors, for *size = (T,N,C)\n",
    "input = torch.randn(T, N, C).log_softmax(2).detach().requires_grad_()\n",
    "\n",
    "# Initialize random batch of targets (0 = blank, 1:C = classes)\n",
    "target = torch.randint(low=1, high=C, size=(N, S), dtype=torch.long)\n",
    "\n",
    "input_lengths = torch.full(size=(N,), fill_value=T, dtype=torch.long)\n",
    "target_lengths = torch.randint(low=S_min, high=S, size=(N,), dtype=torch.long)\n",
    "ctc_loss = nn.CTCLoss()\n",
    "loss = ctc_loss(input, target, input_lengths, target_lengths)\n",
    "loss.backward()\n",
    "print(input)\n",
    "print(target)\n",
    "print(loss.item())\n",
    "\n",
    " # Target are to be un-padded\n",
    "T = 50      # Input sequence length\n",
    "C = 20      # Number of classes (including blank)\n",
    "N = 16      # Batch size\n",
    "\n",
    "# Initialize random batch of input vectors, for *size = (T,N,C)\n",
    "input = torch.randn(T, N, C).log_softmax(2).detach().requires_grad_()\n",
    "input_lengths = torch.full(size=(N,), fill_value=T, dtype=torch.long)\n",
    "\n",
    "# Initialize random batch of targets (0 = blank, 1:C = classes)\n",
    "target_lengths = torch.randint(low=1, high=T, size=(N,), dtype=torch.long)\n",
    "target = torch.randint(low=1, high=C, size=(sum(target_lengths),), dtype=torch.long)\n",
    "ctc_loss = nn.CTCLoss()\n",
    "loss = ctc_loss(input, target, input_lengths, target_lengths)\n",
    "loss.backward()\n",
    "print(input)\n",
    "print(target)\n",
    "print(loss.item())"
   ]
  },
  {
   "cell_type": "markdown",
   "metadata": {
    "id": "pySs0dlfDseV"
   },
   "source": [
    "## nn.NLLLoss"
   ]
  },
  {
   "cell_type": "code",
   "execution_count": null,
   "metadata": {
    "colab": {
     "base_uri": "https://localhost:8080/"
    },
    "executionInfo": {
     "elapsed": 3399,
     "status": "ok",
     "timestamp": 1614942238801,
     "user": {
      "displayName": "노규남",
      "photoUrl": "",
      "userId": "18354138419357331039"
     },
     "user_tz": -540
    },
    "id": "CQNVmw1HDseV",
    "outputId": "9abd0b08-b1b4-45f4-b2a9-d114dc14d743"
   },
   "outputs": [],
   "source": [
    "import torch\n",
    "import torch.nn as nn\n",
    "\n",
    "m = nn.LogSoftmax(dim=1)\n",
    "loss = nn.NLLLoss()\n",
    "# input is of size N x C = 3 x 5\n",
    "input = torch.randn(3, 5, requires_grad=True)\n",
    "# each element in target has to have 0 <= value < C\n",
    "target = torch.tensor([1, 0, 4])\n",
    "output = loss(m(input), target)\n",
    "output.backward()\n",
    "\n",
    "# 2D loss example (used, for example, with image inputs)\n",
    "N, C = 5, 4\n",
    "loss = nn.NLLLoss()\n",
    "# input is of size N x C x height x width\n",
    "data = torch.randn(N, 16, 10, 10)\n",
    "conv = nn.Conv2d(16, C, (3, 3))\n",
    "m = nn.LogSoftmax(dim=1)\n",
    "# each element in target has to have 0 <= value < C\n",
    "target = torch.empty(N, 8, 8, dtype=torch.long).random_(0, C)\n",
    "output = loss(m(conv(data)), target)\n",
    "output.backward()\n",
    "print(input)\n",
    "print(target)\n",
    "print(output.item())"
   ]
  },
  {
   "cell_type": "markdown",
   "metadata": {
    "id": "l4Jx3vpwDseW"
   },
   "source": [
    "## nn.PoissonNLLLoss"
   ]
  },
  {
   "cell_type": "code",
   "execution_count": null,
   "metadata": {
    "colab": {
     "base_uri": "https://localhost:8080/"
    },
    "executionInfo": {
     "elapsed": 3394,
     "status": "ok",
     "timestamp": 1614942238802,
     "user": {
      "displayName": "노규남",
      "photoUrl": "",
      "userId": "18354138419357331039"
     },
     "user_tz": -540
    },
    "id": "0Q2PrvToDseW",
    "outputId": "a07d99de-a992-48c6-a4e5-25b40880c06c"
   },
   "outputs": [],
   "source": [
    "import torch\n",
    "import torch.nn as nn\n",
    "\n",
    "loss = nn.PoissonNLLLoss()\n",
    "log_input = torch.randn(5, 2, requires_grad=True)\n",
    "target = torch.randn(5, 2)\n",
    "output = loss(log_input, target)\n",
    "output.backward()\n",
    "print(input)\n",
    "print(target)\n",
    "print(output.item())"
   ]
  },
  {
   "cell_type": "markdown",
   "metadata": {
    "id": "_YcaoV7HDseX"
   },
   "source": [
    "## nn.KLDivLoss"
   ]
  },
  {
   "cell_type": "markdown",
   "metadata": {
    "id": "YjbjYSQmDseX"
   },
   "source": [
    "## nn.BCELoss"
   ]
  },
  {
   "cell_type": "code",
   "execution_count": null,
   "metadata": {
    "colab": {
     "base_uri": "https://localhost:8080/"
    },
    "executionInfo": {
     "elapsed": 3388,
     "status": "ok",
     "timestamp": 1614942238802,
     "user": {
      "displayName": "노규남",
      "photoUrl": "",
      "userId": "18354138419357331039"
     },
     "user_tz": -540
    },
    "id": "N27REJAXDseX",
    "outputId": "eb8e44d5-7668-4ee6-c777-d431caddc10a"
   },
   "outputs": [],
   "source": [
    "# 분류가 두가지인 경우 사용\n",
    "\n",
    "import torch\n",
    "import torch.nn as nn\n",
    "\n",
    "m = nn.Sigmoid()\n",
    "loss = nn.BCELoss()\n",
    "input = torch.randn(3, requires_grad=True)\n",
    "target = torch.empty(3).random_(2)\n",
    "output = loss(m(input), target)\n",
    "output.backward()\n",
    "print(input)\n",
    "print(target)\n",
    "print(output.item())"
   ]
  },
  {
   "cell_type": "markdown",
   "metadata": {
    "id": "NrVWbGuODseY"
   },
   "source": [
    "## nn.BCEWithLogitsLoss"
   ]
  },
  {
   "cell_type": "code",
   "execution_count": null,
   "metadata": {
    "colab": {
     "base_uri": "https://localhost:8080/"
    },
    "executionInfo": {
     "elapsed": 3639,
     "status": "ok",
     "timestamp": 1614942239059,
     "user": {
      "displayName": "노규남",
      "photoUrl": "",
      "userId": "18354138419357331039"
     },
     "user_tz": -540
    },
    "id": "0YSSJmebDseY",
    "outputId": "3f2e03b6-fbfc-47dd-d289-308640a29a85"
   },
   "outputs": [],
   "source": [
    "import torch\n",
    "import torch.nn as nn\n",
    "\n",
    "loss = nn.BCEWithLogitsLoss()\n",
    "input = torch.randn(3, requires_grad=True)\n",
    "target = torch.empty(3).random_(2)\n",
    "output = loss(input, target)\n",
    "output.backward()\n",
    "print(input)\n",
    "print(target)\n",
    "print(output.item())"
   ]
  },
  {
   "cell_type": "markdown",
   "metadata": {
    "id": "27JWMlLfDseY"
   },
   "source": [
    "## nn.MarginRankingLoss"
   ]
  },
  {
   "cell_type": "markdown",
   "metadata": {
    "id": "JRQpEIbIDseY"
   },
   "source": [
    "## nn.HingeEmbeddingLoss"
   ]
  },
  {
   "cell_type": "markdown",
   "metadata": {
    "id": "Rv9O05KLDseZ"
   },
   "source": [
    "## nn.MultiLabelMarginLoss"
   ]
  },
  {
   "cell_type": "code",
   "execution_count": null,
   "metadata": {
    "colab": {
     "base_uri": "https://localhost:8080/"
    },
    "executionInfo": {
     "elapsed": 3634,
     "status": "ok",
     "timestamp": 1614942239060,
     "user": {
      "displayName": "노규남",
      "photoUrl": "",
      "userId": "18354138419357331039"
     },
     "user_tz": -540
    },
    "id": "Yf1jkT-0DseZ",
    "outputId": "610f5723-c698-491a-f0db-606ab6437d2e"
   },
   "outputs": [],
   "source": [
    "import torch\n",
    "import torch.nn as nn\n",
    "\n",
    "loss = nn.MultiLabelMarginLoss()\n",
    "x = torch.FloatTensor([[0.1, 0.2, 0.4, 0.8]])\n",
    "# for target y, only consider labels 3 and 0, not after label -1\n",
    "y = torch.LongTensor([[3, 0, -1, 1]])\n",
    "output = loss(x, y)\n",
    "print(x)\n",
    "print(y)\n",
    "print(output.item())"
   ]
  },
  {
   "cell_type": "markdown",
   "metadata": {
    "id": "LfBqaoJTDseZ"
   },
   "source": [
    "## nn.SmoothL1Loss"
   ]
  },
  {
   "cell_type": "markdown",
   "metadata": {
    "id": "8vHb_ZoKDsea"
   },
   "source": [
    "## nn.SoftMarginLoss"
   ]
  },
  {
   "cell_type": "markdown",
   "metadata": {
    "id": "Yg7M1X36Dsea"
   },
   "source": [
    "## nn.MultiLabelSoftMarginLoss"
   ]
  },
  {
   "cell_type": "markdown",
   "metadata": {
    "id": "0hTedyMmDsea"
   },
   "source": [
    "## nn.CosineEmbeddingLoss"
   ]
  },
  {
   "cell_type": "markdown",
   "metadata": {
    "id": "owxhh7KADsea"
   },
   "source": [
    "## nn.MultiMarginLoss"
   ]
  },
  {
   "cell_type": "markdown",
   "metadata": {
    "id": "VECBF_R6Dseb"
   },
   "source": [
    "## nn.TripletMarginLoss"
   ]
  },
  {
   "cell_type": "code",
   "execution_count": null,
   "metadata": {
    "colab": {
     "base_uri": "https://localhost:8080/"
    },
    "executionInfo": {
     "elapsed": 3629,
     "status": "ok",
     "timestamp": 1614942239061,
     "user": {
      "displayName": "노규남",
      "photoUrl": "",
      "userId": "18354138419357331039"
     },
     "user_tz": -540
    },
    "id": "v0Y49HgIDseb",
    "outputId": "23759b4e-765d-4636-fd50-c3bdc531917d"
   },
   "outputs": [],
   "source": [
    "import torch\n",
    "import torch.nn as nn\n",
    "\n",
    "triplet_loss = nn.TripletMarginLoss(margin=1.0, p=2)\n",
    "anchor = torch.randn(100, 128, requires_grad=True)\n",
    "positive = torch.randn(100, 128, requires_grad=True)\n",
    "negative = torch.randn(100, 128, requires_grad=True)\n",
    "output = triplet_loss(anchor, positive, negative)\n",
    "output.backward()\n",
    "print(input)\n",
    "print(target)\n",
    "print(output.item())"
   ]
  },
  {
   "cell_type": "code",
   "execution_count": null,
   "metadata": {
    "id": "iuwqVal1Dseb"
   },
   "outputs": [],
   "source": []
  }
 ],
 "metadata": {
  "colab": {
   "collapsed_sections": [],
   "name": "torch_loss_functions.ipynb",
   "provenance": []
  },
  "kernelspec": {
   "display_name": "Python 3",
   "language": "python",
   "name": "python3"
  },
  "language_info": {
   "codemirror_mode": {
    "name": "ipython",
    "version": 3
   },
   "file_extension": ".py",
   "mimetype": "text/x-python",
   "name": "python",
   "nbconvert_exporter": "python",
   "pygments_lexer": "ipython3",
   "version": "3.5.2"
  }
 },
 "nbformat": 4,
 "nbformat_minor": 1
}
