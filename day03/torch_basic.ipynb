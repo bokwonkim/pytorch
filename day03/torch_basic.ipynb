{
 "cells": [
  {
   "cell_type": "markdown",
   "metadata": {
    "id": "MS1UFkCA8CIm"
   },
   "source": [
    "# torch basic"
   ]
  },
  {
   "cell_type": "code",
   "execution_count": 2,
   "metadata": {
    "colab": {
     "base_uri": "https://localhost:8080/"
    },
    "executionInfo": {
     "elapsed": 3031,
     "status": "ok",
     "timestamp": 1614989974514,
     "user": {
      "displayName": "노규남",
      "photoUrl": "",
      "userId": "18354138419357331039"
     },
     "user_tz": -540
    },
    "id": "hfV3sauy8CIw",
    "outputId": "d9be29f2-ef2d-45ee-e7b9-b234d671ef15"
   },
   "outputs": [
    {
     "name": "stdout",
     "output_type": "stream",
     "text": [
      "\u001b[33mDEPRECATION: Python 3.5 reached the end of its life on September 13th, 2020. Please upgrade your Python as Python 3.5 is no longer maintained. pip 21.0 will drop support for Python 3.5 in January 2021. pip 21.0 will remove support for this functionality.\u001b[0m\n",
      "Requirement already satisfied: torch in /usr/local/lib/python3.5/dist-packages (1.5.1)\n",
      "Requirement already satisfied: future in /usr/lib/python3/dist-packages (from torch) (0.15.2)\n",
      "Requirement already satisfied: numpy in /usr/local/lib/python3.5/dist-packages (from torch) (1.14.0)\n"
     ]
    }
   ],
   "source": [
    "!pip install torch"
   ]
  },
  {
   "cell_type": "markdown",
   "metadata": {
    "id": "Oj9ELK6s8CIx"
   },
   "source": [
    "## tensor"
   ]
  },
  {
   "cell_type": "code",
   "execution_count": 3,
   "metadata": {
    "colab": {
     "base_uri": "https://localhost:8080/"
    },
    "executionInfo": {
     "elapsed": 648,
     "status": "ok",
     "timestamp": 1614990066823,
     "user": {
      "displayName": "노규남",
      "photoUrl": "",
      "userId": "18354138419357331039"
     },
     "user_tz": -540
    },
    "id": "ofWWQj178CIx",
    "outputId": "dde6f001-6e6f-44f2-b282-55d23992de09"
   },
   "outputs": [
    {
     "name": "stdout",
     "output_type": "stream",
     "text": [
      "tensor([[1, 2, 3],\n",
      "        [4, 5, 6],\n",
      "        [7, 8, 9]])\n",
      "Size: torch.Size([3, 3])\n",
      "Shape: torch.Size([3, 3])\n",
      "랭크(차원): 2\n"
     ]
    }
   ],
   "source": [
    "import torch\n",
    "\n",
    "x = torch.tensor([[1,2,3], [4,5,6], [7,8,9]])\n",
    "print(x)\n",
    "print(\"Size:\", x.size())\n",
    "print(\"Shape:\", x.shape)\n",
    "print(\"랭크(차원):\", x.ndimension())"
   ]
  },
  {
   "cell_type": "code",
   "execution_count": 4,
   "metadata": {
    "colab": {
     "base_uri": "https://localhost:8080/"
    },
    "executionInfo": {
     "elapsed": 6664,
     "status": "ok",
     "timestamp": 1614986935554,
     "user": {
      "displayName": "노규남",
      "photoUrl": "",
      "userId": "18354138419357331039"
     },
     "user_tz": -540
    },
    "id": "q2x6fPTM8CIz",
    "outputId": "73ca4340-d7e5-4379-a158-238c733d7cd2"
   },
   "outputs": [
    {
     "name": "stdout",
     "output_type": "stream",
     "text": [
      "tensor([[[1, 2, 3]],\n",
      "\n",
      "        [[4, 5, 6]],\n",
      "\n",
      "        [[7, 8, 9]]])\n",
      "Size: torch.Size([3, 1, 3])\n",
      "Shape: torch.Size([3, 1, 3])\n",
      "랭크(차원): 3\n"
     ]
    }
   ],
   "source": [
    "# 랭크 늘리기\n",
    "x = torch.unsqueeze(x, 1) # 인덱스는 앞부터 0, 1, 2, -1(마지막 차원)\n",
    "#x = x.unsqueeze(0)\n",
    "print(x)\n",
    "print(\"Size:\", x.size())\n",
    "print(\"Shape:\", x.shape)\n",
    "print(\"랭크(차원):\", x.ndimension())"
   ]
  },
  {
   "cell_type": "code",
   "execution_count": 5,
   "metadata": {
    "colab": {
     "base_uri": "https://localhost:8080/"
    },
    "executionInfo": {
     "elapsed": 6657,
     "status": "ok",
     "timestamp": 1614986935554,
     "user": {
      "displayName": "노규남",
      "photoUrl": "",
      "userId": "18354138419357331039"
     },
     "user_tz": -540
    },
    "id": "-32V9cqj8CI0",
    "outputId": "0a4a0d6a-e6b7-41d6-b49d-56f134fc86b6"
   },
   "outputs": [
    {
     "name": "stdout",
     "output_type": "stream",
     "text": [
      "tensor([[1, 2, 3],\n",
      "        [4, 5, 6],\n",
      "        [7, 8, 9]])\n",
      "Size: torch.Size([3, 3])\n",
      "Shape: torch.Size([3, 3])\n",
      "랭크(차원): 2\n"
     ]
    }
   ],
   "source": [
    "# 랭크 줄이기\n",
    "x = torch.squeeze(x) # 크기가 1인 차원을 모두 제거한다\n",
    "#x = x.squeeze()\n",
    "print(x)\n",
    "print(\"Size:\", x.size())\n",
    "print(\"Shape:\", x.shape) #[3, 3] 2개의 차원에 각 3개의 원소를 가진 텐서\n",
    "print(\"랭크(차원):\", x.ndimension())"
   ]
  },
  {
   "cell_type": "code",
   "execution_count": 6,
   "metadata": {
    "colab": {
     "base_uri": "https://localhost:8080/"
    },
    "executionInfo": {
     "elapsed": 6650,
     "status": "ok",
     "timestamp": 1614986935555,
     "user": {
      "displayName": "노규남",
      "photoUrl": "",
      "userId": "18354138419357331039"
     },
     "user_tz": -540
    },
    "id": "gad_41Xk8CI0",
    "outputId": "16cfd549-8e94-4ffb-e1ae-dd187ea5c6dc"
   },
   "outputs": [
    {
     "name": "stdout",
     "output_type": "stream",
     "text": [
      "tensor([[1, 2],\n",
      "        [3, 4]])\n",
      "tensor([[1, 2],\n",
      "        [3, 4]])\n",
      "tensor([[1., 2.],\n",
      "        [3., 4.]])\n",
      "tensor([[1., 2.],\n",
      "        [3., 4.]])\n",
      "[[1 2]\n",
      " [3 4]]\n"
     ]
    }
   ],
   "source": [
    "import torch\n",
    "import numpy as np\n",
    "\n",
    "array = [[1,2], [3, 4]]\n",
    "x = torch.tensor(array)\n",
    "print(x)\n",
    "#x = torch.from_numpy(array)\n",
    "x = torch.LongTensor(array)\n",
    "print(x)\n",
    "x = torch.Tensor(array)\n",
    "print(x)\n",
    "x = torch.FloatTensor(array)\n",
    "print(x)\n",
    "x = np.array([[1,2], [3, 4]])\n",
    "print(x)"
   ]
  },
  {
   "cell_type": "markdown",
   "metadata": {
    "id": "Qx7BK7uZ8CI1"
   },
   "source": [
    "## view"
   ]
  },
  {
   "cell_type": "code",
   "execution_count": 7,
   "metadata": {
    "colab": {
     "base_uri": "https://localhost:8080/"
    },
    "executionInfo": {
     "elapsed": 6643,
     "status": "ok",
     "timestamp": 1614986935556,
     "user": {
      "displayName": "노규남",
      "photoUrl": "",
      "userId": "18354138419357331039"
     },
     "user_tz": -540
    },
    "id": "DxKf2QMb8CI1",
    "outputId": "a2ae9202-de40-487f-dab2-f0471422de3a"
   },
   "outputs": [
    {
     "name": "stdout",
     "output_type": "stream",
     "text": [
      "torch.Size([3, 3])\n",
      "x.view(2,4)\n",
      "shape '[2, 4]' is invalid for input of size 9\n",
      "x.view(1,9)\n",
      "tensor([[6, 2, 4, 6, 4, 5, 8, 7, 5]])\n",
      "x.view(1,-1)\n",
      "tensor([[6, 2, 4, 6, 4, 5, 8, 7, 5]])\n",
      "x.view(-1,1)\n",
      "tensor([[6],\n",
      "        [2],\n",
      "        [4],\n",
      "        [6],\n",
      "        [4],\n",
      "        [5],\n",
      "        [8],\n",
      "        [7],\n",
      "        [5]])\n"
     ]
    }
   ],
   "source": [
    "x = torch.randint(1, 10, size=(3,3))\n",
    "print(x.shape)\n",
    "\n",
    "print('x.view(2,4)')\n",
    "try:\n",
    "    x = x.view(2,4)\n",
    "except Exception as e:\n",
    "    print(e) #에러 출력\n",
    "\n",
    "print('x.view(1,9)')\n",
    "try:\n",
    "    x = x.view(1,9)\n",
    "    print(x)\n",
    "except Exception as e:\n",
    "    print(e) #에러 출력\n",
    "    \n",
    "print('x.view(1,-1)')\n",
    "try:\n",
    "    x = x.view(1,-1)\n",
    "    print(x)\n",
    "except Exception as e:\n",
    "    print(e) #에러 출력\n",
    "    \n",
    "print('x.view(-1,1)')\n",
    "try:\n",
    "    x = x.view(-1,1)\n",
    "    print(x)\n",
    "except Exception as e:\n",
    "    print(e) #에러 출력"
   ]
  },
  {
   "cell_type": "markdown",
   "metadata": {
    "id": "DMEIC7Hw8CI2"
   },
   "source": [
    "## requires_grad"
   ]
  },
  {
   "cell_type": "code",
   "execution_count": 8,
   "metadata": {
    "colab": {
     "base_uri": "https://localhost:8080/"
    },
    "executionInfo": {
     "elapsed": 6636,
     "status": "ok",
     "timestamp": 1614986935556,
     "user": {
      "displayName": "노규남",
      "photoUrl": "",
      "userId": "18354138419357331039"
     },
     "user_tz": -540
    },
    "id": "0w-ENOm38CI2",
    "outputId": "844b1b3e-4437-4229-8947-4b9698ddc1f3"
   },
   "outputs": [
    {
     "name": "stdout",
     "output_type": "stream",
     "text": [
      "tensor([[-4.3132e+23,  9.1466e-41],\n",
      "        [-2.1566e+23,  4.5733e-41]], grad_fn=<AddBackward0>)\n"
     ]
    }
   ],
   "source": [
    "import torch\n",
    "\n",
    "x = torch.FloatTensor(2, 2)\n",
    "y = torch.FloatTensor(2, 2)\n",
    "\n",
    "y.requires_grad_(True) # 향후 gradient를 계산하기 위해 이 tensor가 포함된 모든 연산을 추적(track)한다\n",
    "z = ( x + y ) + torch.Tensor(2, 2)\n",
    "print(z)"
   ]
  },
  {
   "cell_type": "code",
   "execution_count": 9,
   "metadata": {
    "colab": {
     "base_uri": "https://localhost:8080/"
    },
    "executionInfo": {
     "elapsed": 6630,
     "status": "ok",
     "timestamp": 1614986935557,
     "user": {
      "displayName": "노규남",
      "photoUrl": "",
      "userId": "18354138419357331039"
     },
     "user_tz": -540
    },
    "id": "FLRT77bt8CI3",
    "outputId": "f293d243-2a52-4b62-c5ab-db1b9eec2501"
   },
   "outputs": [
    {
     "name": "stdout",
     "output_type": "stream",
     "text": [
      "tensor([[ 1.4022e+28,  9.1466e-41],\n",
      "        [-2.1566e+23,  4.5733e-41]])\n"
     ]
    }
   ],
   "source": [
    "import torch\n",
    "\n",
    "x = torch.FloatTensor(2, 2)\n",
    "y = torch.FloatTensor(2, 2)\n",
    "\n",
    "y.requires_grad_(True)\n",
    "with torch.no_grad(): # 이 연산은 추적하지 않는다\n",
    "    z = ( x + y ) + torch.Tensor(2, 2)\n",
    "print(z)"
   ]
  },
  {
   "cell_type": "code",
   "execution_count": 10,
   "metadata": {
    "executionInfo": {
     "elapsed": 602,
     "status": "ok",
     "timestamp": 1614991226607,
     "user": {
      "displayName": "노규남",
      "photoUrl": "",
      "userId": "18354138419357331039"
     },
     "user_tz": -540
    },
    "id": "fMskoJo08CI3"
   },
   "outputs": [],
   "source": [
    "import torch\n",
    "\n",
    "w = torch.tensor(2.0, requires_grad=True)"
   ]
  },
  {
   "cell_type": "code",
   "execution_count": 11,
   "metadata": {
    "colab": {
     "base_uri": "https://localhost:8080/"
    },
    "executionInfo": {
     "elapsed": 720,
     "status": "ok",
     "timestamp": 1614991343595,
     "user": {
      "displayName": "노규남",
      "photoUrl": "",
      "userId": "18354138419357331039"
     },
     "user_tz": -540
    },
    "id": "9De3jugF8CI3",
    "outputId": "0ebc0d8c-43fd-4a12-d30e-1c52d547995e"
   },
   "outputs": [
    {
     "name": "stdout",
     "output_type": "stream",
     "text": [
      "tensor(36.)\n",
      "l을 w로 미분한 값은 36.0\n"
     ]
    }
   ],
   "source": [
    "a = w*3 # 3 \n",
    "l = a**2 # 9\n",
    "l.backward() # l = (w*3)^2 = 9w^2\n",
    "print(w.grad) # 미분하면 9 * 2w = 18w\n",
    "print('l을 w로 미분한 값은 {}'.format(w.grad))"
   ]
  },
  {
   "cell_type": "code",
   "execution_count": 12,
   "metadata": {
    "colab": {
     "base_uri": "https://localhost:8080/"
    },
    "executionInfo": {
     "elapsed": 620,
     "status": "ok",
     "timestamp": 1614991387974,
     "user": {
      "displayName": "노규남",
      "photoUrl": "",
      "userId": "18354138419357331039"
     },
     "user_tz": -540
    },
    "id": "opzdC5ef8CI4",
    "outputId": "1df478e5-0c9e-4494-a12e-76e8f49d70d0"
   },
   "outputs": [
    {
     "name": "stdout",
     "output_type": "stream",
     "text": [
      "tensor(18.)\n",
      "l을 w로 미분한 값은 18.0\n"
     ]
    }
   ],
   "source": [
    "w = torch.tensor(1.0, requires_grad=True)\n",
    "a = w*3 # 3 \n",
    "l = a**2 # 9\n",
    "l.backward() # l = (w*3)^2 = 9w^2\n",
    "print(w.grad) # 미분하면 9 * 2w = 18w\n",
    "print('l을 w로 미분한 값은 {}'.format(w.grad))"
   ]
  },
  {
   "cell_type": "code",
   "execution_count": 13,
   "metadata": {
    "colab": {
     "base_uri": "https://localhost:8080/"
    },
    "executionInfo": {
     "elapsed": 620,
     "status": "ok",
     "timestamp": 1614991410862,
     "user": {
      "displayName": "노규남",
      "photoUrl": "",
      "userId": "18354138419357331039"
     },
     "user_tz": -540
    },
    "id": "GCobLnhq8CI4",
    "outputId": "0197cc2b-46cf-434a-d67c-14d2628f6c26"
   },
   "outputs": [
    {
     "name": "stdout",
     "output_type": "stream",
     "text": [
      "tensor(-18.)\n",
      "l을 w로 미분한 값은 -18.0\n"
     ]
    }
   ],
   "source": [
    "w = torch.tensor(-1.0, requires_grad=True)\n",
    "a = w*3 # 3 \n",
    "l = a**2 # 9\n",
    "l.backward() # l = (w*3)^2 = 9w^2\n",
    "print(w.grad) # 미분하면 9 * 2w = 18w\n",
    "print('l을 w로 미분한 값은 {}'.format(w.grad))"
   ]
  },
  {
   "cell_type": "code",
   "execution_count": 14,
   "metadata": {
    "colab": {
     "base_uri": "https://localhost:8080/"
    },
    "executionInfo": {
     "elapsed": 634,
     "status": "ok",
     "timestamp": 1614991422707,
     "user": {
      "displayName": "노규남",
      "photoUrl": "",
      "userId": "18354138419357331039"
     },
     "user_tz": -540
    },
    "id": "oDUjh9Jb8CI4",
    "outputId": "3831ba49-6de0-412b-94ef-f23a8dd71337"
   },
   "outputs": [
    {
     "name": "stdout",
     "output_type": "stream",
     "text": [
      "tensor(-36.)\n",
      "l을 w로 미분한 값은 -36.0\n"
     ]
    }
   ],
   "source": [
    "w = torch.tensor(-2.0, requires_grad=True)\n",
    "a = w*3 # 3 \n",
    "l = a**2 # 9\n",
    "l.backward() # l = (w*3)^2 = 9w^2\n",
    "print(w.grad) # 미분하면 9 * 2w = 18w\n",
    "print('l을 w로 미분한 값은 {}'.format(w.grad))"
   ]
  },
  {
   "cell_type": "code",
   "execution_count": 15,
   "metadata": {
    "colab": {
     "base_uri": "https://localhost:8080/",
     "height": 265
    },
    "executionInfo": {
     "elapsed": 758,
     "status": "ok",
     "timestamp": 1614991465667,
     "user": {
      "displayName": "노규남",
      "photoUrl": "",
      "userId": "18354138419357331039"
     },
     "user_tz": -540
    },
    "id": "wYFxbZRf8CI4",
    "outputId": "8f2ca02f-73a2-4f95-e470-400f65a6eb52"
   },
   "outputs": [
    {
     "data": {
      "image/png": "[encoded data removed]",
      "text/plain": [
       "<matplotlib.figure.Figure at 0x7f7c6e33ca20>"
      ]
     },
     "metadata": {},
     "output_type": "display_data"
    }
   ],
   "source": [
    "import matplotlib.pyplot as plt\n",
    "%matplotlib inline\n",
    "\n",
    "x = [a for a in range(-5, 6)]\n",
    "y = [9 * (b * b) for b in range(-5, 6)]\n",
    "\n",
    "plt.plot(x, y) # 전체 값의 그래프\n",
    "for i in [-2, -1, 1, 2]:\n",
    "    plt.plot(i, 9 * (i*i), 'rx')\n",
    "plt.show()"
   ]
  },
  {
   "cell_type": "code",
   "execution_count": 16,
   "metadata": {
    "colab": {
     "base_uri": "https://localhost:8080/",
     "height": 628
    },
    "executionInfo": {
     "elapsed": 7298,
     "status": "ok",
     "timestamp": 1614986936276,
     "user": {
      "displayName": "노규남",
      "photoUrl": "",
      "userId": "18354138419357331039"
     },
     "user_tz": -540
    },
    "id": "acMqYPqc8CI5",
    "outputId": "97601f20-5ab5-48e8-9c26-938f024ba754"
   },
   "outputs": [
    {
     "name": "stdout",
     "output_type": "stream",
     "text": [
      "tensor(-36.)\n",
      "tensor(-29.5200)\n",
      "tensor(-24.2064)\n",
      "tensor(-19.8492)\n",
      "tensor(-16.2764)\n",
      "tensor(-13.3466)\n",
      "tensor(-10.9442)\n",
      "tensor(-8.9743)\n",
      "tensor(-7.3589)\n",
      "tensor(-6.0343)\n",
      "tensor(-4.9481)\n",
      "tensor(-4.0575)\n",
      "tensor(-3.3271)\n",
      "tensor(-2.7282)\n",
      "tensor(-2.2372)\n",
      "tensor(-1.8345)\n",
      "tensor(-1.5043)\n",
      "tensor(-1.2335)\n",
      "tensor(-1.0115)\n",
      "tensor(-0.8294)\n"
     ]
    },
    {
     "data": {
      "image/png": "[encoded data removed]",
      "text/plain": [
       "<matplotlib.figure.Figure at 0x7f7c641f33c8>"
      ]
     },
     "metadata": {},
     "output_type": "display_data"
    }
   ],
   "source": [
    "# 임의의 x로부터 y가 최소화 되는 위치를 찾는다. 통상 ML에서 x는 param, y는 loss이다.\n",
    "\n",
    "import matplotlib.pyplot as plt\n",
    "\n",
    "w = 9\n",
    "lr = 0.01\n",
    "x = [a for a in range(-5, 6)]\n",
    "y = [w * (b * b) for b in range(-5, 6)]\n",
    "\n",
    "plt.plot(x, y) # 전체 값의 그래프\n",
    "\n",
    "px = torch.tensor(-2.0)\n",
    "\n",
    "for i in range(20):\n",
    "    px.requires_grad = True\n",
    "    py = w * (px * px)\n",
    "    plt.plot(float(px), float(py), 'rx')\n",
    "    py.backward()\n",
    "    grad = px.grad\n",
    "    print(grad)\n",
    "    with torch.no_grad():\n",
    "        px = px - grad * lr"
   ]
  },
  {
   "cell_type": "code",
   "execution_count": 17,
   "metadata": {
    "colab": {
     "base_uri": "https://localhost:8080/",
     "height": 628
    },
    "executionInfo": {
     "elapsed": 7927,
     "status": "ok",
     "timestamp": 1614986936915,
     "user": {
      "displayName": "노규남",
      "photoUrl": "",
      "userId": "18354138419357331039"
     },
     "user_tz": -540
    },
    "id": "D7U2elcy8CI5",
    "outputId": "e632a09f-79dd-49b2-ed36-911ec42f3d89"
   },
   "outputs": [
    {
     "name": "stdout",
     "output_type": "stream",
     "text": [
      "tensor(36.)\n",
      "tensor(29.5200)\n",
      "tensor(24.2064)\n",
      "tensor(19.8492)\n",
      "tensor(16.2764)\n",
      "tensor(13.3466)\n",
      "tensor(10.9442)\n",
      "tensor(8.9743)\n",
      "tensor(7.3589)\n",
      "tensor(6.0343)\n",
      "tensor(4.9481)\n",
      "tensor(4.0575)\n",
      "tensor(3.3271)\n",
      "tensor(2.7282)\n",
      "tensor(2.2372)\n",
      "tensor(1.8345)\n",
      "tensor(1.5043)\n",
      "tensor(1.2335)\n",
      "tensor(1.0115)\n",
      "tensor(0.8294)\n"
     ]
    },
    {
     "data": {
      "image/png": "[encoded data removed]",
      "text/plain": [
       "<matplotlib.figure.Figure at 0x7f7c641b8160>"
      ]
     },
     "metadata": {},
     "output_type": "display_data"
    }
   ],
   "source": [
    "# 임의의 x로부터 y가 최소화 되는 위치를 찾는다. 통상 ML에서 x는 param, y는 loss이다.\n",
    "\n",
    "import matplotlib.pyplot as plt\n",
    "\n",
    "w = 9\n",
    "lr = 0.01\n",
    "x = [a for a in range(-5, 6)]\n",
    "y = [w * (b * b) for b in range(-5, 6)]\n",
    "\n",
    "plt.plot(x, y) # 전체 값의 그래프\n",
    "\n",
    "px = torch.tensor(2.0)\n",
    "\n",
    "for i in range(20):\n",
    "    px.requires_grad = True\n",
    "    py = w * (px * px)\n",
    "    plt.plot(float(px), float(py), 'rx')\n",
    "    py.backward()\n",
    "    grad = px.grad\n",
    "    print(grad)\n",
    "    with torch.no_grad():\n",
    "        px = px - grad * lr"
   ]
  },
  {
   "cell_type": "code",
   "execution_count": 18,
   "metadata": {
    "colab": {
     "base_uri": "https://localhost:8080/",
     "height": 628
    },
    "executionInfo": {
     "elapsed": 7918,
     "status": "ok",
     "timestamp": 1614986936916,
     "user": {
      "displayName": "노규남",
      "photoUrl": "",
      "userId": "18354138419357331039"
     },
     "user_tz": -540
    },
    "id": "bk7Lx5t08CI5",
    "outputId": "652d26b1-3075-45a0-ba39-5682a24f8c3a"
   },
   "outputs": [
    {
     "name": "stdout",
     "output_type": "stream",
     "text": [
      "tensor(36.)\n",
      "tensor(29.5200)\n",
      "tensor(24.2064)\n",
      "tensor(19.8492)\n",
      "tensor(16.2764)\n",
      "tensor(13.3466)\n",
      "tensor(10.9442)\n",
      "tensor(8.9743)\n",
      "tensor(7.3589)\n",
      "tensor(6.0343)\n",
      "tensor(4.9481)\n",
      "tensor(4.0575)\n",
      "tensor(3.3271)\n",
      "tensor(2.7282)\n",
      "tensor(2.2372)\n",
      "tensor(1.8345)\n",
      "tensor(1.5043)\n",
      "tensor(1.2335)\n",
      "tensor(1.0115)\n",
      "tensor(0.8294)\n"
     ]
    },
    {
     "data": {
      "image/png": "[encoded data removed]",
      "text/plain": [
       "<matplotlib.figure.Figure at 0x7f7c64193898>"
      ]
     },
     "metadata": {},
     "output_type": "display_data"
    }
   ],
   "source": [
    "import matplotlib.pyplot as plt\n",
    "\n",
    "w = 9\n",
    "lr = 0.01\n",
    "param = [a for a in range(-5, 6)]\n",
    "loss = [w * (b * b) for b in range(-5, 6)]\n",
    "\n",
    "plt.plot(param, loss) # 전체 값의 그래프\n",
    "\n",
    "p_param = torch.tensor(2.0)\n",
    "\n",
    "for i in range(20):\n",
    "    p_param.requires_grad = True # param에 대한 연산을 track\n",
    "    p_loss = w * (p_param * p_param) # loss를 계산한다(계산식은 여러가지)\n",
    "    plt.plot(float(p_param), float(p_loss), 'rx') \n",
    "    p_loss.backward() # loss에 대한 param의 기울기를 구한다\n",
    "    grad = p_param.grad\n",
    "    print(grad)\n",
    "    with torch.no_grad():\n",
    "        p_param = p_param - grad * lr # 기울기의 반대쪽으로 lr만큼 이동한다. pytorch에서 이 과정은 optimizer가 담당한다. "
   ]
  },
  {
   "cell_type": "markdown",
   "metadata": {
    "id": "lZp_iAW68CI6"
   },
   "source": [
    "## tensor operations"
   ]
  },
  {
   "cell_type": "code",
   "execution_count": 19,
   "metadata": {
    "colab": {
     "base_uri": "https://localhost:8080/"
    },
    "executionInfo": {
     "elapsed": 659,
     "status": "ok",
     "timestamp": 1614993046274,
     "user": {
      "displayName": "노규남",
      "photoUrl": "",
      "userId": "18354138419357331039"
     },
     "user_tz": -540
    },
    "id": "db35uD288CI6",
    "outputId": "6e692aca-bcb1-4646-f2ec-be0980d6fc69"
   },
   "outputs": [
    {
     "name": "stdout",
     "output_type": "stream",
     "text": [
      "w size: torch.Size([5, 3])\n",
      "x size: torch.Size([3, 2])\n"
     ]
    }
   ],
   "source": [
    "import torch\n",
    "\n",
    "w = torch.randn(5,3, dtype=torch.float)\n",
    "x = torch.tensor([[1.0,2.0], [3.0,4.0], [5.0,6.0]])\n",
    "print(\"w size:\", w.size())\n",
    "print(\"x size:\", x.size())"
   ]
  },
  {
   "cell_type": "code",
   "execution_count": 20,
   "metadata": {
    "colab": {
     "base_uri": "https://localhost:8080/"
    },
    "executionInfo": {
     "elapsed": 646,
     "status": "ok",
     "timestamp": 1614993060426,
     "user": {
      "displayName": "노규남",
      "photoUrl": "",
      "userId": "18354138419357331039"
     },
     "user_tz": -540
    },
    "id": "OiIomuuX8CI6",
    "outputId": "4e7a9495-e46a-4637-a50d-ddff64abe806"
   },
   "outputs": [
    {
     "name": "stdout",
     "output_type": "stream",
     "text": [
      "b: torch.Size([5, 2])\n"
     ]
    }
   ],
   "source": [
    "b = torch.randn(5,2, dtype=torch.float)\n",
    "print(\"b:\", b.size())"
   ]
  },
  {
   "cell_type": "code",
   "execution_count": 21,
   "metadata": {
    "colab": {
     "base_uri": "https://localhost:8080/"
    },
    "executionInfo": {
     "elapsed": 7902,
     "status": "ok",
     "timestamp": 1614986936919,
     "user": {
      "displayName": "노규남",
      "photoUrl": "",
      "userId": "18354138419357331039"
     },
     "user_tz": -540
    },
    "id": "kNkB13wT8CI6",
    "outputId": "0508081f-8755-4b70-e3f6-4c1149d41a01"
   },
   "outputs": [
    {
     "name": "stdout",
     "output_type": "stream",
     "text": [
      "wx size: torch.Size([5, 2])\n"
     ]
    }
   ],
   "source": [
    "wx = torch.mm(w,x) # w의 행은 5, x의 열은 2, 즉 shape는 [5, 2]\n",
    "print(\"wx size:\", wx.size())"
   ]
  },
  {
   "cell_type": "code",
   "execution_count": 22,
   "metadata": {
    "colab": {
     "base_uri": "https://localhost:8080/"
    },
    "executionInfo": {
     "elapsed": 7900,
     "status": "ok",
     "timestamp": 1614986936921,
     "user": {
      "displayName": "노규남",
      "photoUrl": "",
      "userId": "18354138419357331039"
     },
     "user_tz": -540
    },
    "id": "zgNp7M4X8CI7",
    "outputId": "300ee57f-ce77-4771-b0bd-57d6752a4a20"
   },
   "outputs": [
    {
     "name": "stdout",
     "output_type": "stream",
     "text": [
      "result size: torch.Size([5, 2])\n"
     ]
    }
   ],
   "source": [
    "result = wx + b\n",
    "print(\"result size:\", result.size()) "
   ]
  },
  {
   "cell_type": "markdown",
   "metadata": {
    "id": "4xcYYGXQ8CI7"
   },
   "source": [
    "## broadcasting "
   ]
  },
  {
   "cell_type": "code",
   "execution_count": 23,
   "metadata": {
    "colab": {
     "base_uri": "https://localhost:8080/"
    },
    "executionInfo": {
     "elapsed": 602,
     "status": "ok",
     "timestamp": 1614993237972,
     "user": {
      "displayName": "노규남",
      "photoUrl": "",
      "userId": "18354138419357331039"
     },
     "user_tz": -540
    },
    "id": "rv_QG3sM8CI7",
    "outputId": "cbad1230-3a69-4cfe-da90-37c82d5594e4"
   },
   "outputs": [
    {
     "name": "stdout",
     "output_type": "stream",
     "text": [
      "torch.Size([1, 2]) torch.Size([1, 2])\n",
      "tensor([[5., 5.]])\n"
     ]
    }
   ],
   "source": [
    "m1 = torch.FloatTensor([[3, 3]])\n",
    "m2 = torch.FloatTensor([[2, 2]])\n",
    "print(m1.shape, m2.shape)\n",
    "print(m1 + m2)"
   ]
  },
  {
   "cell_type": "code",
   "execution_count": 24,
   "metadata": {
    "colab": {
     "base_uri": "https://localhost:8080/"
    },
    "executionInfo": {
     "elapsed": 611,
     "status": "ok",
     "timestamp": 1614993289053,
     "user": {
      "displayName": "노규남",
      "photoUrl": "",
      "userId": "18354138419357331039"
     },
     "user_tz": -540
    },
    "id": "fJhO02D68CI8",
    "outputId": "47f22fad-7f72-4f05-b050-061e08c892f4"
   },
   "outputs": [
    {
     "name": "stdout",
     "output_type": "stream",
     "text": [
      "torch.Size([1, 2]) torch.Size([1])\n",
      "tensor([[4., 5.]])\n"
     ]
    }
   ],
   "source": [
    "# Vector + scalar\n",
    "m1 = torch.FloatTensor([[1, 2]])\n",
    "m2 = torch.FloatTensor([3]) # [3] -> [3, 3]\n",
    "print(m1.shape, m2.shape)\n",
    "print(m1 + m2)"
   ]
  },
  {
   "cell_type": "code",
   "execution_count": 25,
   "metadata": {
    "colab": {
     "base_uri": "https://localhost:8080/"
    },
    "executionInfo": {
     "elapsed": 605,
     "status": "ok",
     "timestamp": 1614993376162,
     "user": {
      "displayName": "노규남",
      "photoUrl": "",
      "userId": "18354138419357331039"
     },
     "user_tz": -540
    },
    "id": "buXEFYrK8CI8",
    "outputId": "03910163-b9a7-4ab4-e55d-6631294b889d"
   },
   "outputs": [
    {
     "name": "stdout",
     "output_type": "stream",
     "text": [
      "torch.Size([1, 2])\n",
      "torch.Size([2, 1])\n",
      "tensor([[4., 5.],\n",
      "        [5., 6.]])\n"
     ]
    }
   ],
   "source": [
    "# 2 x 1 Vector + 1 x 2 Vector\n",
    "m1 = torch.FloatTensor([[1, 2]])\n",
    "print(m1.shape)\n",
    "m2 = torch.FloatTensor([[3], [4]])\n",
    "print(m2.shape)\n",
    "print(m1 + m2)"
   ]
  },
  {
   "cell_type": "markdown",
   "metadata": {
    "id": "ZaubH9Lo8CI9"
   },
   "source": [
    "## mean"
   ]
  },
  {
   "cell_type": "code",
   "execution_count": 26,
   "metadata": {
    "colab": {
     "base_uri": "https://localhost:8080/"
    },
    "executionInfo": {
     "elapsed": 618,
     "status": "ok",
     "timestamp": 1614993449887,
     "user": {
      "displayName": "노규남",
      "photoUrl": "",
      "userId": "18354138419357331039"
     },
     "user_tz": -540
    },
    "id": "nJdX-Vo_8CI9",
    "outputId": "a76b5e71-8529-435e-c8f0-93aa02a7ea46"
   },
   "outputs": [
    {
     "name": "stdout",
     "output_type": "stream",
     "text": [
      "tensor(1.5000)\n"
     ]
    }
   ],
   "source": [
    "t = torch.FloatTensor([1, 2])\n",
    "print(t.mean())"
   ]
  },
  {
   "cell_type": "code",
   "execution_count": 27,
   "metadata": {
    "colab": {
     "base_uri": "https://localhost:8080/"
    },
    "executionInfo": {
     "elapsed": 664,
     "status": "ok",
     "timestamp": 1614993464107,
     "user": {
      "displayName": "노규남",
      "photoUrl": "",
      "userId": "18354138419357331039"
     },
     "user_tz": -540
    },
    "id": "mc60pLlK8CI9",
    "outputId": "dd7ad016-957c-47aa-e13d-17648930a7b1"
   },
   "outputs": [
    {
     "name": "stdout",
     "output_type": "stream",
     "text": [
      "tensor([[1., 2.],\n",
      "        [3., 4.]])\n",
      "tensor(2.5000)\n"
     ]
    }
   ],
   "source": [
    "t = torch.FloatTensor([[1, 2], [3, 4]])\n",
    "print(t)\n",
    "print(t.mean())"
   ]
  },
  {
   "cell_type": "code",
   "execution_count": 28,
   "metadata": {
    "colab": {
     "base_uri": "https://localhost:8080/"
    },
    "executionInfo": {
     "elapsed": 665,
     "status": "ok",
     "timestamp": 1614993469168,
     "user": {
      "displayName": "노규남",
      "photoUrl": "",
      "userId": "18354138419357331039"
     },
     "user_tz": -540
    },
    "id": "ilYBM8pI8CI-",
    "outputId": "00afe393-9da5-4096-d084-786ab5e7c79c"
   },
   "outputs": [
    {
     "name": "stdout",
     "output_type": "stream",
     "text": [
      "tensor([2., 3.])\n",
      "tensor([1.5000, 3.5000])\n",
      "tensor([1.5000, 3.5000])\n"
     ]
    }
   ],
   "source": [
    "print(t.mean(dim=0))\n",
    "print(t.mean(dim=1))\n",
    "print(t.mean(dim=-1))"
   ]
  },
  {
   "cell_type": "markdown",
   "metadata": {
    "id": "pMGkbt--8CI-"
   },
   "source": [
    "## max / argmax"
   ]
  },
  {
   "cell_type": "code",
   "execution_count": 29,
   "metadata": {
    "colab": {
     "base_uri": "https://localhost:8080/"
    },
    "executionInfo": {
     "elapsed": 645,
     "status": "ok",
     "timestamp": 1614993523842,
     "user": {
      "displayName": "노규남",
      "photoUrl": "",
      "userId": "18354138419357331039"
     },
     "user_tz": -540
    },
    "id": "WhvhjVXf8CI-",
    "outputId": "602f1e02-fca2-44ed-8713-0a2dab113fc9"
   },
   "outputs": [
    {
     "name": "stdout",
     "output_type": "stream",
     "text": [
      "tensor([[1., 2.],\n",
      "        [3., 4.]])\n",
      "torch.Size([2, 2])\n"
     ]
    }
   ],
   "source": [
    "t = torch.FloatTensor([[1, 2], [3, 4]])\n",
    "print(t)\n",
    "print(t.shape)"
   ]
  },
  {
   "cell_type": "code",
   "execution_count": 30,
   "metadata": {
    "colab": {
     "base_uri": "https://localhost:8080/"
    },
    "executionInfo": {
     "elapsed": 7877,
     "status": "ok",
     "timestamp": 1614986936937,
     "user": {
      "displayName": "노규남",
      "photoUrl": "",
      "userId": "18354138419357331039"
     },
     "user_tz": -540
    },
    "id": "1Fzuyutz8CI_",
    "outputId": "5c0d807a-010b-4441-8ebc-7eb7309c4222"
   },
   "outputs": [
    {
     "name": "stdout",
     "output_type": "stream",
     "text": [
      "tensor(4.)\n",
      "torch.return_types.max(\n",
      "values=tensor([3., 4.]),\n",
      "indices=tensor([1, 1]))\n"
     ]
    }
   ],
   "source": [
    "print(t.max()) # Returns one value: max\n",
    "print(t.max(dim=0)) # Returns two values: max and argmax"
   ]
  },
  {
   "cell_type": "code",
   "execution_count": 31,
   "metadata": {
    "colab": {
     "base_uri": "https://localhost:8080/"
    },
    "executionInfo": {
     "elapsed": 629,
     "status": "ok",
     "timestamp": 1614993647576,
     "user": {
      "displayName": "노규남",
      "photoUrl": "",
      "userId": "18354138419357331039"
     },
     "user_tz": -540
    },
    "id": "CBjKUdaU8CI_",
    "outputId": "2448e581-f84a-4b4d-eb58-16f1aa4414c6"
   },
   "outputs": [
    {
     "name": "stdout",
     "output_type": "stream",
     "text": [
      "Max:  tensor([3., 4.])\n",
      "Argmax:  tensor([1, 1])\n",
      "Argmax:  tensor([1, 1])\n"
     ]
    }
   ],
   "source": [
    "print('Max: ', t.max(dim=0)[0])\n",
    "print('Argmax: ', t.max(dim=0)[1])\n",
    "print('Argmax: ', t.argmax(dim=0))"
   ]
  },
  {
   "cell_type": "code",
   "execution_count": 32,
   "metadata": {
    "colab": {
     "base_uri": "https://localhost:8080/"
    },
    "executionInfo": {
     "elapsed": 645,
     "status": "ok",
     "timestamp": 1614993684915,
     "user": {
      "displayName": "노규남",
      "photoUrl": "",
      "userId": "18354138419357331039"
     },
     "user_tz": -540
    },
    "id": "_wMWlSy18CJA",
    "outputId": "b0531746-c10b-4a5d-ed52-2c054a97df5c"
   },
   "outputs": [
    {
     "name": "stdout",
     "output_type": "stream",
     "text": [
      "torch.return_types.max(\n",
      "values=tensor([2., 4.]),\n",
      "indices=tensor([1, 1]))\n",
      "torch.return_types.max(\n",
      "values=tensor([2., 4.]),\n",
      "indices=tensor([1, 1]))\n"
     ]
    }
   ],
   "source": [
    "print(t.max(dim=1))\n",
    "print(t.max(dim=-1))"
   ]
  },
  {
   "cell_type": "markdown",
   "metadata": {
    "id": "yUA03a8q8CJA"
   },
   "source": [
    "## linear regression"
   ]
  },
  {
   "cell_type": "code",
   "execution_count": 33,
   "metadata": {
    "colab": {
     "base_uri": "https://localhost:8080/"
    },
    "executionInfo": {
     "elapsed": 716,
     "status": "ok",
     "timestamp": 1614993825315,
     "user": {
      "displayName": "노규남",
      "photoUrl": "",
      "userId": "18354138419357331039"
     },
     "user_tz": -540
    },
    "id": "GBN1SqfX8CJA",
    "outputId": "042d9105-68c4-4662-f7b7-4fe0e5266a9f"
   },
   "outputs": [
    {
     "name": "stdout",
     "output_type": "stream",
     "text": [
      "torch.Size([3, 2])\n",
      "torch.Size([2, 4])\n",
      "torch.Size([4])\n",
      "torch.Size([3, 4])\n"
     ]
    }
   ],
   "source": [
    "import torch\n",
    "\n",
    "def linear(x, W, b):\n",
    "    y = torch.mm(x, W) + b # mm: [n, m] x [m,p] = [n,p]\n",
    "    return y\n",
    "\n",
    "x = torch.randint(0,10,size=(3,2))\n",
    "W = torch.randint(0,10,size=(2,4))\n",
    "b = torch.randint(0,10,size=(4,))\n",
    "\n",
    "y = linear(x, W, b) # [3, 2] X [2, 4] = [3, 4] + [4] = [3, 4] + [3, 4] = [3, 4]\n",
    "\n",
    "print(x.shape)\n",
    "print(W.shape)\n",
    "print(b.shape)\n",
    "print(y.shape)"
   ]
  },
  {
   "cell_type": "code",
   "execution_count": 34,
   "metadata": {
    "colab": {
     "base_uri": "https://localhost:8080/"
    },
    "executionInfo": {
     "elapsed": 661,
     "status": "ok",
     "timestamp": 1614993848729,
     "user": {
      "displayName": "노규남",
      "photoUrl": "",
      "userId": "18354138419357331039"
     },
     "user_tz": -540
    },
    "id": "l4boj6Sv8CJB",
    "outputId": "bb815f4a-efdc-4f69-cf66-77b3058e7a11"
   },
   "outputs": [
    {
     "name": "stdout",
     "output_type": "stream",
     "text": [
      "tensor([[34, 36, 11, 93],\n",
      "        [ 2,  2,  1,  9],\n",
      "        [14, 14,  7, 63]])\n",
      "tensor([7, 5, 3, 2])\n",
      "tensor([[41, 41, 14, 95],\n",
      "        [ 9,  7,  4, 11],\n",
      "        [21, 19, 10, 65]])\n"
     ]
    }
   ],
   "source": [
    "print(torch.mm(x, W))\n",
    "print(b)\n",
    "print(y)"
   ]
  },
  {
   "cell_type": "markdown",
   "metadata": {
    "id": "HZWW06Hd8CJB"
   },
   "source": [
    "## basic linear "
   ]
  },
  {
   "cell_type": "code",
   "execution_count": 35,
   "metadata": {
    "colab": {
     "base_uri": "https://localhost:8080/"
    },
    "executionInfo": {
     "elapsed": 1091,
     "status": "ok",
     "timestamp": 1614994210328,
     "user": {
      "displayName": "노규남",
      "photoUrl": "",
      "userId": "18354138419357331039"
     },
     "user_tz": -540
    },
    "id": "BWQ0-aZR8CJB",
    "outputId": "2521a9fa-a008-4f50-9218-916c034535e6"
   },
   "outputs": [
    {
     "name": "stdout",
     "output_type": "stream",
     "text": [
      "[]\n"
     ]
    }
   ],
   "source": [
    "import torch\n",
    "import torch.nn as nn\n",
    "\n",
    "class MyLinear(nn.Module):\n",
    "    def __init__(self, input_size, output_size):\n",
    "        super().__init__()\n",
    "        self.W = torch.FloatTensor(input_size, output_size)\n",
    "        self.b = torch.FloatTensor(output_size)\n",
    "    \n",
    "    def forward(self, x):\n",
    "        y = torch.mm(x, self.W) + self.b\n",
    "        \n",
    "        return y\n",
    "    \n",
    "x = torch.FloatTensor(16, 10)\n",
    "linear = MyLinear(10, 5)\n",
    "y = linear(x)\n",
    "\n",
    "params =[p.size() for p in linear.parameters()]\n",
    "print(params)"
   ]
  },
  {
   "cell_type": "code",
   "execution_count": 36,
   "metadata": {
    "colab": {
     "base_uri": "https://localhost:8080/"
    },
    "executionInfo": {
     "elapsed": 1143,
     "status": "ok",
     "timestamp": 1614994326853,
     "user": {
      "displayName": "노규남",
      "photoUrl": "",
      "userId": "18354138419357331039"
     },
     "user_tz": -540
    },
    "id": "VwmKhSj28CJG",
    "outputId": "52aa442d-5d04-49df-9b04-546052673594"
   },
   "outputs": [
    {
     "name": "stdout",
     "output_type": "stream",
     "text": [
      "[torch.Size([10, 5]), torch.Size([5])]\n"
     ]
    }
   ],
   "source": [
    "import torch\n",
    "import torch.nn as nn\n",
    "\n",
    "class MyLinear(nn.Module):\n",
    "    def __init__(self, input_size, output_size):\n",
    "        super().__init__()\n",
    "        self.W = nn.Parameter(torch.FloatTensor(input_size, output_size), requires_grad=True)\n",
    "        self.b = nn.Parameter(torch.FloatTensor(output_size), requires_grad=True)\n",
    "    \n",
    "    def forward(self, x):\n",
    "        y = torch.mm(x, self.W) + self.b\n",
    "        \n",
    "        return y\n",
    "    \n",
    "x = torch.FloatTensor(16, 10)\n",
    "linear = MyLinear(10, 5)\n",
    "y = linear(x)\n",
    "\n",
    "params =[p.size() for p in linear.parameters()]\n",
    "print(params) # w, b를 추적. y로부터 미분한 기울기를 구할 수 있다"
   ]
  },
  {
   "cell_type": "code",
   "execution_count": 37,
   "metadata": {
    "colab": {
     "base_uri": "https://localhost:8080/"
    },
    "executionInfo": {
     "elapsed": 7858,
     "status": "ok",
     "timestamp": 1614986936953,
     "user": {
      "displayName": "노규남",
      "photoUrl": "",
      "userId": "18354138419357331039"
     },
     "user_tz": -540
    },
    "id": "0P9xNGHF8CJH",
    "outputId": "ce627cb9-bce7-4e6a-b6fd-381aab2daf9b"
   },
   "outputs": [
    {
     "name": "stdout",
     "output_type": "stream",
     "text": [
      "[torch.Size([5, 10]), torch.Size([5])]\n",
      "MyLinear(\n",
      "  (linear): Linear(in_features=10, out_features=5, bias=True)\n",
      ")\n"
     ]
    }
   ],
   "source": [
    "import torch\n",
    "import torch.nn as nn\n",
    "\n",
    "class MyLinear(nn.Module):\n",
    "    def __init__(self, input_size, output_size):\n",
    "        super(MyLinear, self).__init__()\n",
    "        self.linear = nn.Linear(input_size, output_size)\n",
    "    \n",
    "    def forward(self, x):\n",
    "        y = self.linear(x)\n",
    "        \n",
    "        return y\n",
    "    \n",
    "x = torch.FloatTensor(16, 10)\n",
    "linear = MyLinear(10, 5)\n",
    "y = linear(x)\n",
    "\n",
    "params =[p.size() for p in linear.parameters()]\n",
    "print(params)\n",
    "print(linear)"
   ]
  },
  {
   "cell_type": "code",
   "execution_count": 38,
   "metadata": {
    "executionInfo": {
     "elapsed": 7857,
     "status": "ok",
     "timestamp": 1614986936955,
     "user": {
      "displayName": "노규남",
      "photoUrl": "",
      "userId": "18354138419357331039"
     },
     "user_tz": -540
    },
    "id": "xPibDReH8CJH"
   },
   "outputs": [],
   "source": [
    "objective = 100\n",
    "\n",
    "x = torch.FloatTensor(16, 10)\n",
    "linear = MyLinear(10, 5)\n",
    "y = linear(x)\n",
    "loss = (objective - y.sum())\n",
    "\n",
    "loss.backward() # gt에서 y를 뺀 것이므로 역시 추적 대상, 여기서의 미분값을 계산"
   ]
  },
  {
   "cell_type": "code",
   "execution_count": 39,
   "metadata": {
    "colab": {
     "base_uri": "https://localhost:8080/"
    },
    "executionInfo": {
     "elapsed": 630,
     "status": "ok",
     "timestamp": 1614994779438,
     "user": {
      "displayName": "노규남",
      "photoUrl": "",
      "userId": "18354138419357331039"
     },
     "user_tz": -540
    },
    "id": "1C6C8Ta_8CJH",
    "outputId": "931b4555-2380-4723-a25a-bc60eadeea90"
   },
   "outputs": [
    {
     "data": {
      "text/plain": [
       "MyLinear(\n",
       "  (linear): Linear(in_features=10, out_features=5, bias=True)\n",
       ")"
      ]
     },
     "execution_count": 39,
     "metadata": {},
     "output_type": "execute_result"
    }
   ],
   "source": [
    "# Training...\n",
    "linear.eval()\n",
    "# Do some inference process.\n",
    "linear.train()\n",
    "# Restart training, again."
   ]
  },
  {
   "cell_type": "code",
   "execution_count": 40,
   "metadata": {
    "executionInfo": {
     "elapsed": 657,
     "status": "ok",
     "timestamp": 1614994792370,
     "user": {
      "displayName": "노규남",
      "photoUrl": "",
      "userId": "18354138419357331039"
     },
     "user_tz": -540
    },
    "id": "--8wzJ3C8CJI"
   },
   "outputs": [],
   "source": [
    "import random\n",
    "\n",
    "import torch\n",
    "import torch.nn as nn\n",
    "\n",
    "class MyModel(nn.Module):\n",
    "\n",
    "    def __init__(self, input_size, output_size):\n",
    "        super(MyModel, self).__init__()\n",
    "\n",
    "        self.linear = nn.Linear(input_size, output_size)\n",
    "\n",
    "    def forward(self, x):\n",
    "        y = self.linear(x)\n",
    "\n",
    "        return y"
   ]
  },
  {
   "cell_type": "code",
   "execution_count": 41,
   "metadata": {
    "executionInfo": {
     "elapsed": 664,
     "status": "ok",
     "timestamp": 1614994814565,
     "user": {
      "displayName": "노규남",
      "photoUrl": "",
      "userId": "18354138419357331039"
     },
     "user_tz": -540
    },
    "id": "nhUu3pGv8CJI"
   },
   "outputs": [],
   "source": [
    "def ground_truth(x):\n",
    "    return 3 * x[:, 0] + x[:, 1] - 2 * x[:, 2]"
   ]
  },
  {
   "cell_type": "code",
   "execution_count": 42,
   "metadata": {
    "executionInfo": {
     "elapsed": 7846,
     "status": "ok",
     "timestamp": 1614986936959,
     "user": {
      "displayName": "노규남",
      "photoUrl": "",
      "userId": "18354138419357331039"
     },
     "user_tz": -540
    },
    "id": "rDepXSUD8CJI"
   },
   "outputs": [],
   "source": [
    "def train(model, x, y, optim):\n",
    "    # initialize gradients in all parameters in module.\n",
    "    optim.zero_grad()# backward()는 계속 값을 누적하므로 매번 gradient를 0으로 만들어야 한다.\n",
    "\n",
    "    # feed-forward\n",
    "    y_hat = model(x)\n",
    "    # get error between answer and inferenced.\n",
    "    loss = ((y - y_hat)**2).sum() / x.size(0) # 직접 계산할 수도 있고 pytorch에서 제공하는 loss function을 사용할 수도 있다.\n",
    "\n",
    "    # back-propagation\n",
    "    loss.backward()\n",
    "\n",
    "    # one-step of gradient descent\n",
    "    optim.step()\n",
    "\n",
    "    return loss.data"
   ]
  },
  {
   "cell_type": "code",
   "execution_count": 46,
   "metadata": {
    "colab": {
     "base_uri": "https://localhost:8080/"
    },
    "executionInfo": {
     "elapsed": 646,
     "status": "ok",
     "timestamp": 1614995243305,
     "user": {
      "displayName": "노규남",
      "photoUrl": "",
      "userId": "18354138419357331039"
     },
     "user_tz": -540
    },
    "id": "aNuVafkX8CJI",
    "outputId": "5ca26e9c-5461-42e7-e190-741c68971129"
   },
   "outputs": [
    {
     "name": "stdout",
     "output_type": "stream",
     "text": [
      "MyModel(\n",
      "  (linear): Linear(in_features=3, out_features=1, bias=True)\n",
      ")\n"
     ]
    }
   ],
   "source": [
    "batch_size = 1\n",
    "n_epochs = 1000\n",
    "n_iter = 10000\n",
    "\n",
    "model = MyModel(3, 1)\n",
    "optim = torch.optim.SGD(model.parameters(), lr=0.0001, momentum=0.1)\n",
    "\n",
    "print(model)"
   ]
  },
  {
   "cell_type": "code",
   "execution_count": 47,
   "metadata": {
    "colab": {
     "base_uri": "https://localhost:8080/"
    },
    "executionInfo": {
     "elapsed": 31655,
     "status": "ok",
     "timestamp": 1614995414203,
     "user": {
      "displayName": "노규남",
      "photoUrl": "",
      "userId": "18354138419357331039"
     },
     "user_tz": -540
    },
    "id": "xg7AA9DW8CJJ",
    "outputId": "607ad30b-3464-4461-b41c-bb6830c681b1"
   },
   "outputs": [
    {
     "name": "stdout",
     "output_type": "stream",
     "text": [
      "tensor(0.9999) tensor(0.9000) tensor(0.5607)\n",
      "tensor(0.6331) tensor(0.9000) tensor(0.6285)\n",
      "tensor(0.4336) tensor(0.9000) tensor(0.6787)\n",
      "tensor(0.2967) tensor(0.9000) tensor(0.7353)\n",
      "tensor(0.2117) tensor(0.9000) tensor(0.7567)\n",
      "tensor(0.1417) tensor(0.9000) tensor(0.7880)\n",
      "tensor(0.1014) tensor(0.9000) tensor(0.8097)\n",
      "tensor(0.0686) tensor(0.9000) tensor(0.8275)\n"
     ]
    }
   ],
   "source": [
    "for epoch in range(n_epochs):\n",
    "    avg_loss = 0\n",
    "\n",
    "    for i in range(n_iter):\n",
    "        x = torch.rand(batch_size, 3)\n",
    "        y = ground_truth(x.data)\n",
    "\n",
    "        loss = train(model, x, y, optim)\n",
    "\n",
    "        avg_loss += loss\n",
    "    avg_loss = avg_loss / n_iter\n",
    "\n",
    "    # simple test sample to check the network.\n",
    "    x_valid = torch.FloatTensor([[.3, .2, .1]])\n",
    "    y_valid = ground_truth(x_valid.data)\n",
    "\n",
    "    model.eval()\n",
    "    y_hat = model(x_valid)\n",
    "    model.train()\n",
    "\n",
    "    print(avg_loss, y_valid.data[0], y_hat.data[0, 0])\n",
    "\n",
    "    if avg_loss < .1: # finish the training if the loss is smaller than .1.\n",
    "        break"
   ]
  },
  {
   "cell_type": "code",
   "execution_count": null,
   "metadata": {
    "executionInfo": {
     "elapsed": 39188,
     "status": "ok",
     "timestamp": 1614986968314,
     "user": {
      "displayName": "노규남",
      "photoUrl": "",
      "userId": "18354138419357331039"
     },
     "user_tz": -540
    },
    "id": "nvNZSyle8CJJ"
   },
   "outputs": [],
   "source": [
    "# Note that tensor is declared in torch.cuda.\n",
    "#x = torch.cuda.FloatTensor(16, 10)\n",
    "#linear = MyLinear(10, 5)\n",
    "# .cuda() let module move to GPU memory.\n",
    "#linear.cuda()\n",
    "#y = linear(x)"
   ]
  },
  {
   "cell_type": "markdown",
   "metadata": {
    "id": "GAhRkUxQ8CJK"
   },
   "source": [
    "## torch application basic"
   ]
  },
  {
   "cell_type": "code",
   "execution_count": 48,
   "metadata": {
    "executionInfo": {
     "elapsed": 39187,
     "status": "ok",
     "timestamp": 1614986968315,
     "user": {
      "displayName": "노규남",
      "photoUrl": "",
      "userId": "18354138419357331039"
     },
     "user_tz": -540
    },
    "id": "G2GpbaPx8CJK"
   },
   "outputs": [],
   "source": [
    "# import 패키지\n",
    "\n",
    "import torch\n",
    "import torch.nn as nn\n",
    "import torch.nn.functional as F\n",
    "import torch.optim as optim\n",
    "import torch.utils.data as data_utils"
   ]
  },
  {
   "cell_type": "code",
   "execution_count": 49,
   "metadata": {
    "executionInfo": {
     "elapsed": 39185,
     "status": "ok",
     "timestamp": 1614986968316,
     "user": {
      "displayName": "노규남",
      "photoUrl": "",
      "userId": "18354138419357331039"
     },
     "user_tz": -540
    },
    "id": "iJrJ2IDH8CJM"
   },
   "outputs": [],
   "source": [
    "class MyModel(nn.Module):\n",
    "    def __init__(self, X_dim, y_dim):\n",
    "        super(MyModel, self).__init__()\n",
    "        layer1 = nn.Linear(X_dim, 128)\n",
    "        activation1 = nn.ReLU()\n",
    "        layer2 = nn.Linear(128, y_dim)\n",
    "        self.module = nn.Sequential(\n",
    "            layer1,\n",
    "            activation1,\n",
    "            layer2\n",
    "        )\n",
    "        \n",
    "    def forward(self, x):\n",
    "        out = self.module(x)\n",
    "        result = F.softmax(out, dim=1)\n",
    "        return result        "
   ]
  },
  {
   "cell_type": "code",
   "execution_count": null,
   "metadata": {
    "executionInfo": {
     "elapsed": 39183,
     "status": "ok",
     "timestamp": 1614986968316,
     "user": {
      "displayName": "노규남",
      "photoUrl": "",
      "userId": "18354138419357331039"
     },
     "user_tz": -540
    },
    "id": "yiO0Abx18CJM"
   },
   "outputs": [],
   "source": [
    "## pytorch 어플리케이션의 기본 구조\n",
    "\n",
    "#for input, target in dataset:\n",
    "#    optimizer.zero_grad()\n",
    "#    output = model(input)\n",
    "#    loss = loss_fn(output, target)\n",
    "#    loss.backward()\n",
    "#    optimizer.step()"
   ]
  },
  {
   "cell_type": "code",
   "execution_count": null,
   "metadata": {
    "executionInfo": {
     "elapsed": 39182,
     "status": "ok",
     "timestamp": 1614986968317,
     "user": {
      "displayName": "노규남",
      "photoUrl": "",
      "userId": "18354138419357331039"
     },
     "user_tz": -540
    },
    "id": "nxbCA0Om8CJN"
   },
   "outputs": [],
   "source": []
  }
 ],
 "metadata": {
  "colab": {
   "name": "torch_basic.ipynb",
   "provenance": []
  },
  "kernelspec": {
   "display_name": "Python 3",
   "language": "python",
   "name": "python3"
  },
  "language_info": {
   "codemirror_mode": {
    "name": "ipython",
    "version": 3
   },
   "file_extension": ".py",
   "mimetype": "text/x-python",
   "name": "python",
   "nbconvert_exporter": "python",
   "pygments_lexer": "ipython3",
   "version": "3.5.2"
  }
 },
 "nbformat": 4,
 "nbformat_minor": 1
}
