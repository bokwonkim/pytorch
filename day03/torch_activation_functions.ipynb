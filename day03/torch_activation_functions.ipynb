{
 "cells": [
  {
   "cell_type": "markdown",
   "metadata": {
    "id": "Si5maQ89Ddl7"
   },
   "source": [
    "# torch activation functions"
   ]
  },
  {
   "cell_type": "markdown",
   "metadata": {
    "id": "5evYUI2nDdmE"
   },
   "source": [
    "## [Non-linear Activations (weighted sum, nonlinearity)](https://pytorch.org/docs/stable/nn.html#non-linear-activations-weighted-sum-nonlinearity)"
   ]
  },
  {
   "cell_type": "markdown",
   "metadata": {
    "id": "UQ56eY6nDdmF"
   },
   "source": [
    "### Sigmoid (0~1)"
   ]
  },
  {
   "cell_type": "code",
   "execution_count": 1,
   "metadata": {
    "colab": {
     "base_uri": "https://localhost:8080/"
    },
    "executionInfo": {
     "elapsed": 4929,
     "status": "ok",
     "timestamp": 1614997139354,
     "user": {
      "displayName": "노규남",
      "photoUrl": "",
      "userId": "18354138419357331039"
     },
     "user_tz": -540
    },
    "id": "ctzORQPqDdmF",
    "outputId": "02c0f438-73c8-4a8f-a8d3-498baf168560"
   },
   "outputs": [
    {
     "name": "stdout",
     "output_type": "stream",
     "text": [
      "tensor([ 0.1470, -1.9911]) tensor([0.5367, 0.1201])\n"
     ]
    }
   ],
   "source": [
    "import torch\n",
    "from torch import nn\n",
    "\n",
    "m = nn.Sigmoid()\n",
    "input = torch.randn(2)\n",
    "output = m(input)\n",
    "\n",
    "print(input, output)"
   ]
  },
  {
   "cell_type": "markdown",
   "metadata": {
    "id": "ZaCwnO3cDdmH"
   },
   "source": [
    "### Tanh (-1~1)"
   ]
  },
  {
   "cell_type": "code",
   "execution_count": 4,
   "metadata": {
    "colab": {
     "base_uri": "https://localhost:8080/"
    },
    "executionInfo": {
     "elapsed": 582,
     "status": "ok",
     "timestamp": 1614997192376,
     "user": {
      "displayName": "노규남",
      "photoUrl": "",
      "userId": "18354138419357331039"
     },
     "user_tz": -540
    },
    "id": "l6QJtnERDdmI",
    "outputId": "08357fb3-a7a1-45ad-9547-9babaa538533"
   },
   "outputs": [
    {
     "name": "stdout",
     "output_type": "stream",
     "text": [
      "tensor([1.8107, 1.6250]) tensor([0.9479, 0.9253])\n"
     ]
    }
   ],
   "source": [
    "from torch import nn\n",
    "\n",
    "m = m = nn.Tanh()\n",
    "input = torch.randn(2)\n",
    "output = m(input)\n",
    "\n",
    "print(input, output)"
   ]
  },
  {
   "cell_type": "markdown",
   "metadata": {
    "id": "TuZqEMRZDdmJ"
   },
   "source": [
    "### ReLU (0~)"
   ]
  },
  {
   "cell_type": "code",
   "execution_count": 5,
   "metadata": {
    "colab": {
     "base_uri": "https://localhost:8080/"
    },
    "executionInfo": {
     "elapsed": 610,
     "status": "ok",
     "timestamp": 1614997226233,
     "user": {
      "displayName": "노규남",
      "photoUrl": "",
      "userId": "18354138419357331039"
     },
     "user_tz": -540
    },
    "id": "Om5sAwq7DdmJ",
    "outputId": "6cf42cd2-cecc-4587-9bc0-15ba269fae49"
   },
   "outputs": [
    {
     "name": "stdout",
     "output_type": "stream",
     "text": [
      "tensor([ 0.1293, -2.1435]) tensor([0.1293, 0.0000])\n"
     ]
    }
   ],
   "source": [
    "from torch import nn\n",
    "\n",
    "m = m = nn.ReLU()\n",
    "input = torch.randn(2)\n",
    "output = m(input)\n",
    "\n",
    "print(input, output)"
   ]
  },
  {
   "cell_type": "markdown",
   "metadata": {
    "id": "llO-LCf3DdmK"
   },
   "source": [
    "### LeakyReLU "
   ]
  },
  {
   "cell_type": "code",
   "execution_count": 6,
   "metadata": {
    "colab": {
     "base_uri": "https://localhost:8080/"
    },
    "executionInfo": {
     "elapsed": 570,
     "status": "ok",
     "timestamp": 1614997395033,
     "user": {
      "displayName": "노규남",
      "photoUrl": "",
      "userId": "18354138419357331039"
     },
     "user_tz": -540
    },
    "id": "fG3oAR2ADdmK",
    "outputId": "dff41a14-ada0-49b9-8d76-c6db8da08b74"
   },
   "outputs": [
    {
     "name": "stdout",
     "output_type": "stream",
     "text": [
      "tensor([-0.2640,  0.7024]) tensor([-0.0264,  0.7024])\n"
     ]
    }
   ],
   "source": [
    "from torch import nn\n",
    "\n",
    "m = m = nn.LeakyReLU(0.1)\n",
    "input = torch.randn(2)\n",
    "output = m(input)\n",
    "\n",
    "print(input, output)"
   ]
  },
  {
   "cell_type": "markdown",
   "metadata": {
    "id": "0iMq6m1PDdmL"
   },
   "source": [
    "### PReLU"
   ]
  },
  {
   "cell_type": "code",
   "execution_count": null,
   "metadata": {
    "colab": {
     "base_uri": "https://localhost:8080/"
    },
    "executionInfo": {
     "elapsed": 826,
     "status": "ok",
     "timestamp": 1614997442332,
     "user": {
      "displayName": "노규남",
      "photoUrl": "",
      "userId": "18354138419357331039"
     },
     "user_tz": -540
    },
    "id": "A_BM6BuEDdmL",
    "outputId": "84b05643-f905-41f8-ad33-929900c30aa0"
   },
   "outputs": [],
   "source": [
    "from torch import nn\n",
    "\n",
    "m = m = nn.PReLU()\n",
    "input = torch.randn(2)\n",
    "output = m(input)\n",
    "\n",
    "print(input, output)"
   ]
  },
  {
   "cell_type": "markdown",
   "metadata": {
    "id": "sFSFBBTFDdmM"
   },
   "source": [
    "### ELU"
   ]
  },
  {
   "cell_type": "code",
   "execution_count": null,
   "metadata": {
    "colab": {
     "base_uri": "https://localhost:8080/"
    },
    "executionInfo": {
     "elapsed": 599,
     "status": "ok",
     "timestamp": 1614997458653,
     "user": {
      "displayName": "노규남",
      "photoUrl": "",
      "userId": "18354138419357331039"
     },
     "user_tz": -540
    },
    "id": "XaG_QcCHDdmM",
    "outputId": "17ffd19e-2949-44da-b5fb-fad91527ac43"
   },
   "outputs": [],
   "source": [
    "from torch import nn\n",
    "\n",
    "m = m = nn.ELU()\n",
    "input = torch.randn(2)\n",
    "output = m(input)\n",
    "\n",
    "print(input, output)"
   ]
  },
  {
   "cell_type": "markdown",
   "metadata": {
    "id": "W8e2sSzsDdmN"
   },
   "source": [
    "### CELU"
   ]
  },
  {
   "cell_type": "code",
   "execution_count": null,
   "metadata": {
    "colab": {
     "base_uri": "https://localhost:8080/"
    },
    "executionInfo": {
     "elapsed": 565,
     "status": "ok",
     "timestamp": 1614997467733,
     "user": {
      "displayName": "노규남",
      "photoUrl": "",
      "userId": "18354138419357331039"
     },
     "user_tz": -540
    },
    "id": "WpjvNnLuDdmN",
    "outputId": "bfa761bb-0bc6-406a-d9c4-3e537f6e9ce8"
   },
   "outputs": [],
   "source": [
    "from torch import nn\n",
    "\n",
    "m = m = nn.CELU()\n",
    "input = torch.randn(2)\n",
    "output = m(input)\n",
    "\n",
    "print(input, output)"
   ]
  },
  {
   "cell_type": "markdown",
   "metadata": {
    "id": "XIv-MYpUDdmO"
   },
   "source": [
    "## [Non-linear Activations (other)](https://pytorch.org/docs/stable/nn.html#non-linear-activations-other)"
   ]
  },
  {
   "cell_type": "markdown",
   "metadata": {
    "id": "RPtbFFWkDdmO"
   },
   "source": [
    "### nn.Softmax (확률)"
   ]
  },
  {
   "cell_type": "code",
   "execution_count": 7,
   "metadata": {
    "colab": {
     "base_uri": "https://localhost:8080/"
    },
    "executionInfo": {
     "elapsed": 1011,
     "status": "ok",
     "timestamp": 1614942207001,
     "user": {
      "displayName": "노규남",
      "photoUrl": "",
      "userId": "18354138419357331039"
     },
     "user_tz": -540
    },
    "id": "_1YYaS_RDdmP",
    "outputId": "99741cfd-db4c-4ca1-b9bb-aac3a744fd74"
   },
   "outputs": [
    {
     "name": "stdout",
     "output_type": "stream",
     "text": [
      "tensor([[ 0.2422,  0.2882,  0.6019],\n",
      "        [-0.1839, -0.0858,  0.9286]])\n",
      "tensor([[0.2874, 0.3009, 0.4118],\n",
      "        [0.1944, 0.2144, 0.5913]])\n",
      "tensor([1.0000, 1.0000])\n",
      "tensor([2, 2])\n"
     ]
    }
   ],
   "source": [
    "from torch import nn\n",
    "import numpy as np\n",
    "\n",
    "m = nn.Softmax(dim=1)\n",
    "input = torch.randn(2, 3)\n",
    "output = m(input)\n",
    "print(input)\n",
    "print(output)\n",
    "print(output.sum(dim=1))\n",
    "print(np.argmax(output, axis=1)) # 최대값의 인덱스를 찾는 함수. max = 최대값 자체를 찾는다."
   ]
  },
  {
   "cell_type": "code",
   "execution_count": null,
   "metadata": {
    "id": "YO1onbgvDdmP"
   },
   "outputs": [],
   "source": []
  }
 ],
 "metadata": {
  "colab": {
   "collapsed_sections": [],
   "name": "torch_activation_functions.ipynb",
   "provenance": []
  },
  "kernelspec": {
   "display_name": "Python 3",
   "language": "python",
   "name": "python3"
  },
  "language_info": {
   "codemirror_mode": {
    "name": "ipython",
    "version": 3
   },
   "file_extension": ".py",
   "mimetype": "text/x-python",
   "name": "python",
   "nbconvert_exporter": "python",
   "pygments_lexer": "ipython3",
   "version": "3.5.2"
  }
 },
 "nbformat": 4,
 "nbformat_minor": 1
}
