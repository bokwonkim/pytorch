{
  "nbformat": 4,
  "nbformat_minor": 0,
  "metadata": {
    "kernelspec": {
      "display_name": "Python 3",
      "language": "python",
      "name": "python3"
    },
    "language_info": {
      "codemirror_mode": {
        "name": "ipython",
        "version": 3
      },
      "file_extension": ".py",
      "mimetype": "text/x-python",
      "name": "python",
      "nbconvert_exporter": "python",
      "pygments_lexer": "ipython3",
      "version": "3.5.2"
    },
    "colab": {
      "name": "QMNIST.ipynb",
      "provenance": [],
      "collapsed_sections": []
    },
    "accelerator": "GPU",
    "widgets": {
      "application/vnd.jupyter.widget-state+json": {
        "a77e7ea774df4c8583b68eff0dd0350b": {
          "model_module": "@jupyter-widgets/controls",
          "model_name": "HBoxModel",
          "model_module_version": "1.5.0",
          "state": {
            "_dom_classes": [],
            "_model_module": "@jupyter-widgets/controls",
            "_model_module_version": "1.5.0",
            "_model_name": "HBoxModel",
            "_view_count": null,
            "_view_module": "@jupyter-widgets/controls",
            "_view_module_version": "1.5.0",
            "_view_name": "HBoxView",
            "box_style": "",
            "children": [
              "IPY_MODEL_b0cf0b2e0bed4d59886ac3487f5e625b",
              "IPY_MODEL_d9a879abbb8d4824a3bab39398ff4e62",
              "IPY_MODEL_033c1f25d7904e2596ab323f80ee5878"
            ],
            "layout": "IPY_MODEL_3786c3b565df4d27849225ca4f1ddf4f"
          }
        },
        "b0cf0b2e0bed4d59886ac3487f5e625b": {
          "model_module": "@jupyter-widgets/controls",
          "model_name": "HTMLModel",
          "model_module_version": "1.5.0",
          "state": {
            "_dom_classes": [],
            "_model_module": "@jupyter-widgets/controls",
            "_model_module_version": "1.5.0",
            "_model_name": "HTMLModel",
            "_view_count": null,
            "_view_module": "@jupyter-widgets/controls",
            "_view_module_version": "1.5.0",
            "_view_name": "HTMLView",
            "description": "",
            "description_tooltip": null,
            "layout": "IPY_MODEL_35f4b9afb147439fbcab498e741abeb6",
            "placeholder": "​",
            "style": "IPY_MODEL_c7fd0e600ad34a92aa6033bed6c9e2dd",
            "value": ""
          }
        },
        "d9a879abbb8d4824a3bab39398ff4e62": {
          "model_module": "@jupyter-widgets/controls",
          "model_name": "FloatProgressModel",
          "model_module_version": "1.5.0",
          "state": {
            "_dom_classes": [],
            "_model_module": "@jupyter-widgets/controls",
            "_model_module_version": "1.5.0",
            "_model_name": "FloatProgressModel",
            "_view_count": null,
            "_view_module": "@jupyter-widgets/controls",
            "_view_module_version": "1.5.0",
            "_view_name": "ProgressView",
            "bar_style": "success",
            "description": "",
            "description_tooltip": null,
            "layout": "IPY_MODEL_af7f331746f8401d9a8b095ffdea520b",
            "max": 9704059,
            "min": 0,
            "orientation": "horizontal",
            "style": "IPY_MODEL_2c46ac087b764550a07d0fb9e45cce6a",
            "value": 9704059
          }
        },
        "033c1f25d7904e2596ab323f80ee5878": {
          "model_module": "@jupyter-widgets/controls",
          "model_name": "HTMLModel",
          "model_module_version": "1.5.0",
          "state": {
            "_dom_classes": [],
            "_model_module": "@jupyter-widgets/controls",
            "_model_module_version": "1.5.0",
            "_model_name": "HTMLModel",
            "_view_count": null,
            "_view_module": "@jupyter-widgets/controls",
            "_view_module_version": "1.5.0",
            "_view_name": "HTMLView",
            "description": "",
            "description_tooltip": null,
            "layout": "IPY_MODEL_d9262497855d4cd58eaaaa24b1ce7806",
            "placeholder": "​",
            "style": "IPY_MODEL_ef7d3264a47a41d0906223fef0885595",
            "value": " 9704448/? [00:00&lt;00:00, 50320865.44it/s]"
          }
        },
        "3786c3b565df4d27849225ca4f1ddf4f": {
          "model_module": "@jupyter-widgets/base",
          "model_name": "LayoutModel",
          "model_module_version": "1.2.0",
          "state": {
            "_model_module": "@jupyter-widgets/base",
            "_model_module_version": "1.2.0",
            "_model_name": "LayoutModel",
            "_view_count": null,
            "_view_module": "@jupyter-widgets/base",
            "_view_module_version": "1.2.0",
            "_view_name": "LayoutView",
            "align_content": null,
            "align_items": null,
            "align_self": null,
            "border": null,
            "bottom": null,
            "display": null,
            "flex": null,
            "flex_flow": null,
            "grid_area": null,
            "grid_auto_columns": null,
            "grid_auto_flow": null,
            "grid_auto_rows": null,
            "grid_column": null,
            "grid_gap": null,
            "grid_row": null,
            "grid_template_areas": null,
            "grid_template_columns": null,
            "grid_template_rows": null,
            "height": null,
            "justify_content": null,
            "justify_items": null,
            "left": null,
            "margin": null,
            "max_height": null,
            "max_width": null,
            "min_height": null,
            "min_width": null,
            "object_fit": null,
            "object_position": null,
            "order": null,
            "overflow": null,
            "overflow_x": null,
            "overflow_y": null,
            "padding": null,
            "right": null,
            "top": null,
            "visibility": null,
            "width": null
          }
        },
        "35f4b9afb147439fbcab498e741abeb6": {
          "model_module": "@jupyter-widgets/base",
          "model_name": "LayoutModel",
          "model_module_version": "1.2.0",
          "state": {
            "_model_module": "@jupyter-widgets/base",
            "_model_module_version": "1.2.0",
            "_model_name": "LayoutModel",
            "_view_count": null,
            "_view_module": "@jupyter-widgets/base",
            "_view_module_version": "1.2.0",
            "_view_name": "LayoutView",
            "align_content": null,
            "align_items": null,
            "align_self": null,
            "border": null,
            "bottom": null,
            "display": null,
            "flex": null,
            "flex_flow": null,
            "grid_area": null,
            "grid_auto_columns": null,
            "grid_auto_flow": null,
            "grid_auto_rows": null,
            "grid_column": null,
            "grid_gap": null,
            "grid_row": null,
            "grid_template_areas": null,
            "grid_template_columns": null,
            "grid_template_rows": null,
            "height": null,
            "justify_content": null,
            "justify_items": null,
            "left": null,
            "margin": null,
            "max_height": null,
            "max_width": null,
            "min_height": null,
            "min_width": null,
            "object_fit": null,
            "object_position": null,
            "order": null,
            "overflow": null,
            "overflow_x": null,
            "overflow_y": null,
            "padding": null,
            "right": null,
            "top": null,
            "visibility": null,
            "width": null
          }
        },
        "c7fd0e600ad34a92aa6033bed6c9e2dd": {
          "model_module": "@jupyter-widgets/controls",
          "model_name": "DescriptionStyleModel",
          "model_module_version": "1.5.0",
          "state": {
            "_model_module": "@jupyter-widgets/controls",
            "_model_module_version": "1.5.0",
            "_model_name": "DescriptionStyleModel",
            "_view_count": null,
            "_view_module": "@jupyter-widgets/base",
            "_view_module_version": "1.2.0",
            "_view_name": "StyleView",
            "description_width": ""
          }
        },
        "af7f331746f8401d9a8b095ffdea520b": {
          "model_module": "@jupyter-widgets/base",
          "model_name": "LayoutModel",
          "model_module_version": "1.2.0",
          "state": {
            "_model_module": "@jupyter-widgets/base",
            "_model_module_version": "1.2.0",
            "_model_name": "LayoutModel",
            "_view_count": null,
            "_view_module": "@jupyter-widgets/base",
            "_view_module_version": "1.2.0",
            "_view_name": "LayoutView",
            "align_content": null,
            "align_items": null,
            "align_self": null,
            "border": null,
            "bottom": null,
            "display": null,
            "flex": null,
            "flex_flow": null,
            "grid_area": null,
            "grid_auto_columns": null,
            "grid_auto_flow": null,
            "grid_auto_rows": null,
            "grid_column": null,
            "grid_gap": null,
            "grid_row": null,
            "grid_template_areas": null,
            "grid_template_columns": null,
            "grid_template_rows": null,
            "height": null,
            "justify_content": null,
            "justify_items": null,
            "left": null,
            "margin": null,
            "max_height": null,
            "max_width": null,
            "min_height": null,
            "min_width": null,
            "object_fit": null,
            "object_position": null,
            "order": null,
            "overflow": null,
            "overflow_x": null,
            "overflow_y": null,
            "padding": null,
            "right": null,
            "top": null,
            "visibility": null,
            "width": null
          }
        },
        "2c46ac087b764550a07d0fb9e45cce6a": {
          "model_module": "@jupyter-widgets/controls",
          "model_name": "ProgressStyleModel",
          "model_module_version": "1.5.0",
          "state": {
            "_model_module": "@jupyter-widgets/controls",
            "_model_module_version": "1.5.0",
            "_model_name": "ProgressStyleModel",
            "_view_count": null,
            "_view_module": "@jupyter-widgets/base",
            "_view_module_version": "1.2.0",
            "_view_name": "StyleView",
            "bar_color": null,
            "description_width": ""
          }
        },
        "d9262497855d4cd58eaaaa24b1ce7806": {
          "model_module": "@jupyter-widgets/base",
          "model_name": "LayoutModel",
          "model_module_version": "1.2.0",
          "state": {
            "_model_module": "@jupyter-widgets/base",
            "_model_module_version": "1.2.0",
            "_model_name": "LayoutModel",
            "_view_count": null,
            "_view_module": "@jupyter-widgets/base",
            "_view_module_version": "1.2.0",
            "_view_name": "LayoutView",
            "align_content": null,
            "align_items": null,
            "align_self": null,
            "border": null,
            "bottom": null,
            "display": null,
            "flex": null,
            "flex_flow": null,
            "grid_area": null,
            "grid_auto_columns": null,
            "grid_auto_flow": null,
            "grid_auto_rows": null,
            "grid_column": null,
            "grid_gap": null,
            "grid_row": null,
            "grid_template_areas": null,
            "grid_template_columns": null,
            "grid_template_rows": null,
            "height": null,
            "justify_content": null,
            "justify_items": null,
            "left": null,
            "margin": null,
            "max_height": null,
            "max_width": null,
            "min_height": null,
            "min_width": null,
            "object_fit": null,
            "object_position": null,
            "order": null,
            "overflow": null,
            "overflow_x": null,
            "overflow_y": null,
            "padding": null,
            "right": null,
            "top": null,
            "visibility": null,
            "width": null
          }
        },
        "ef7d3264a47a41d0906223fef0885595": {
          "model_module": "@jupyter-widgets/controls",
          "model_name": "DescriptionStyleModel",
          "model_module_version": "1.5.0",
          "state": {
            "_model_module": "@jupyter-widgets/controls",
            "_model_module_version": "1.5.0",
            "_model_name": "DescriptionStyleModel",
            "_view_count": null,
            "_view_module": "@jupyter-widgets/base",
            "_view_module_version": "1.2.0",
            "_view_name": "StyleView",
            "description_width": ""
          }
        },
        "a7b385cce70340af8662d12519975f01": {
          "model_module": "@jupyter-widgets/controls",
          "model_name": "HBoxModel",
          "model_module_version": "1.5.0",
          "state": {
            "_dom_classes": [],
            "_model_module": "@jupyter-widgets/controls",
            "_model_module_version": "1.5.0",
            "_model_name": "HBoxModel",
            "_view_count": null,
            "_view_module": "@jupyter-widgets/controls",
            "_view_module_version": "1.5.0",
            "_view_name": "HBoxView",
            "box_style": "",
            "children": [
              "IPY_MODEL_0a300e5c03004b0b998c87fdcf4c31b0",
              "IPY_MODEL_c3475354ae6e4b61bbb984405690bb34",
              "IPY_MODEL_9bc72b69b43c46a89dd3719e561d18c0"
            ],
            "layout": "IPY_MODEL_8117c6b1d7bc443eac8d3439c81f9005"
          }
        },
        "0a300e5c03004b0b998c87fdcf4c31b0": {
          "model_module": "@jupyter-widgets/controls",
          "model_name": "HTMLModel",
          "model_module_version": "1.5.0",
          "state": {
            "_dom_classes": [],
            "_model_module": "@jupyter-widgets/controls",
            "_model_module_version": "1.5.0",
            "_model_name": "HTMLModel",
            "_view_count": null,
            "_view_module": "@jupyter-widgets/controls",
            "_view_module_version": "1.5.0",
            "_view_name": "HTMLView",
            "description": "",
            "description_tooltip": null,
            "layout": "IPY_MODEL_82c859f577a04663b0adfba096ec484f",
            "placeholder": "​",
            "style": "IPY_MODEL_e0c1e33bad8a4828a0e0da9be825c8d0",
            "value": ""
          }
        },
        "c3475354ae6e4b61bbb984405690bb34": {
          "model_module": "@jupyter-widgets/controls",
          "model_name": "FloatProgressModel",
          "model_module_version": "1.5.0",
          "state": {
            "_dom_classes": [],
            "_model_module": "@jupyter-widgets/controls",
            "_model_module_version": "1.5.0",
            "_model_name": "FloatProgressModel",
            "_view_count": null,
            "_view_module": "@jupyter-widgets/controls",
            "_view_module_version": "1.5.0",
            "_view_name": "ProgressView",
            "bar_style": "success",
            "description": "",
            "description_tooltip": null,
            "layout": "IPY_MODEL_f12de843511b435ea08b2b221c41cb46",
            "max": 463024,
            "min": 0,
            "orientation": "horizontal",
            "style": "IPY_MODEL_04efddd83dc0494cb9e0cbe37e023ef2",
            "value": 463024
          }
        },
        "9bc72b69b43c46a89dd3719e561d18c0": {
          "model_module": "@jupyter-widgets/controls",
          "model_name": "HTMLModel",
          "model_module_version": "1.5.0",
          "state": {
            "_dom_classes": [],
            "_model_module": "@jupyter-widgets/controls",
            "_model_module_version": "1.5.0",
            "_model_name": "HTMLModel",
            "_view_count": null,
            "_view_module": "@jupyter-widgets/controls",
            "_view_module_version": "1.5.0",
            "_view_name": "HTMLView",
            "description": "",
            "description_tooltip": null,
            "layout": "IPY_MODEL_4b31079a738f45ef8b1befa85250af56",
            "placeholder": "​",
            "style": "IPY_MODEL_e7e07b4f5d3a489fa9ce377d0b1f9315",
            "value": " 463872/? [00:00&lt;00:00, 5307621.68it/s]"
          }
        },
        "8117c6b1d7bc443eac8d3439c81f9005": {
          "model_module": "@jupyter-widgets/base",
          "model_name": "LayoutModel",
          "model_module_version": "1.2.0",
          "state": {
            "_model_module": "@jupyter-widgets/base",
            "_model_module_version": "1.2.0",
            "_model_name": "LayoutModel",
            "_view_count": null,
            "_view_module": "@jupyter-widgets/base",
            "_view_module_version": "1.2.0",
            "_view_name": "LayoutView",
            "align_content": null,
            "align_items": null,
            "align_self": null,
            "border": null,
            "bottom": null,
            "display": null,
            "flex": null,
            "flex_flow": null,
            "grid_area": null,
            "grid_auto_columns": null,
            "grid_auto_flow": null,
            "grid_auto_rows": null,
            "grid_column": null,
            "grid_gap": null,
            "grid_row": null,
            "grid_template_areas": null,
            "grid_template_columns": null,
            "grid_template_rows": null,
            "height": null,
            "justify_content": null,
            "justify_items": null,
            "left": null,
            "margin": null,
            "max_height": null,
            "max_width": null,
            "min_height": null,
            "min_width": null,
            "object_fit": null,
            "object_position": null,
            "order": null,
            "overflow": null,
            "overflow_x": null,
            "overflow_y": null,
            "padding": null,
            "right": null,
            "top": null,
            "visibility": null,
            "width": null
          }
        },
        "82c859f577a04663b0adfba096ec484f": {
          "model_module": "@jupyter-widgets/base",
          "model_name": "LayoutModel",
          "model_module_version": "1.2.0",
          "state": {
            "_model_module": "@jupyter-widgets/base",
            "_model_module_version": "1.2.0",
            "_model_name": "LayoutModel",
            "_view_count": null,
            "_view_module": "@jupyter-widgets/base",
            "_view_module_version": "1.2.0",
            "_view_name": "LayoutView",
            "align_content": null,
            "align_items": null,
            "align_self": null,
            "border": null,
            "bottom": null,
            "display": null,
            "flex": null,
            "flex_flow": null,
            "grid_area": null,
            "grid_auto_columns": null,
            "grid_auto_flow": null,
            "grid_auto_rows": null,
            "grid_column": null,
            "grid_gap": null,
            "grid_row": null,
            "grid_template_areas": null,
            "grid_template_columns": null,
            "grid_template_rows": null,
            "height": null,
            "justify_content": null,
            "justify_items": null,
            "left": null,
            "margin": null,
            "max_height": null,
            "max_width": null,
            "min_height": null,
            "min_width": null,
            "object_fit": null,
            "object_position": null,
            "order": null,
            "overflow": null,
            "overflow_x": null,
            "overflow_y": null,
            "padding": null,
            "right": null,
            "top": null,
            "visibility": null,
            "width": null
          }
        },
        "e0c1e33bad8a4828a0e0da9be825c8d0": {
          "model_module": "@jupyter-widgets/controls",
          "model_name": "DescriptionStyleModel",
          "model_module_version": "1.5.0",
          "state": {
            "_model_module": "@jupyter-widgets/controls",
            "_model_module_version": "1.5.0",
            "_model_name": "DescriptionStyleModel",
            "_view_count": null,
            "_view_module": "@jupyter-widgets/base",
            "_view_module_version": "1.2.0",
            "_view_name": "StyleView",
            "description_width": ""
          }
        },
        "f12de843511b435ea08b2b221c41cb46": {
          "model_module": "@jupyter-widgets/base",
          "model_name": "LayoutModel",
          "model_module_version": "1.2.0",
          "state": {
            "_model_module": "@jupyter-widgets/base",
            "_model_module_version": "1.2.0",
            "_model_name": "LayoutModel",
            "_view_count": null,
            "_view_module": "@jupyter-widgets/base",
            "_view_module_version": "1.2.0",
            "_view_name": "LayoutView",
            "align_content": null,
            "align_items": null,
            "align_self": null,
            "border": null,
            "bottom": null,
            "display": null,
            "flex": null,
            "flex_flow": null,
            "grid_area": null,
            "grid_auto_columns": null,
            "grid_auto_flow": null,
            "grid_auto_rows": null,
            "grid_column": null,
            "grid_gap": null,
            "grid_row": null,
            "grid_template_areas": null,
            "grid_template_columns": null,
            "grid_template_rows": null,
            "height": null,
            "justify_content": null,
            "justify_items": null,
            "left": null,
            "margin": null,
            "max_height": null,
            "max_width": null,
            "min_height": null,
            "min_width": null,
            "object_fit": null,
            "object_position": null,
            "order": null,
            "overflow": null,
            "overflow_x": null,
            "overflow_y": null,
            "padding": null,
            "right": null,
            "top": null,
            "visibility": null,
            "width": null
          }
        },
        "04efddd83dc0494cb9e0cbe37e023ef2": {
          "model_module": "@jupyter-widgets/controls",
          "model_name": "ProgressStyleModel",
          "model_module_version": "1.5.0",
          "state": {
            "_model_module": "@jupyter-widgets/controls",
            "_model_module_version": "1.5.0",
            "_model_name": "ProgressStyleModel",
            "_view_count": null,
            "_view_module": "@jupyter-widgets/base",
            "_view_module_version": "1.2.0",
            "_view_name": "StyleView",
            "bar_color": null,
            "description_width": ""
          }
        },
        "4b31079a738f45ef8b1befa85250af56": {
          "model_module": "@jupyter-widgets/base",
          "model_name": "LayoutModel",
          "model_module_version": "1.2.0",
          "state": {
            "_model_module": "@jupyter-widgets/base",
            "_model_module_version": "1.2.0",
            "_model_name": "LayoutModel",
            "_view_count": null,
            "_view_module": "@jupyter-widgets/base",
            "_view_module_version": "1.2.0",
            "_view_name": "LayoutView",
            "align_content": null,
            "align_items": null,
            "align_self": null,
            "border": null,
            "bottom": null,
            "display": null,
            "flex": null,
            "flex_flow": null,
            "grid_area": null,
            "grid_auto_columns": null,
            "grid_auto_flow": null,
            "grid_auto_rows": null,
            "grid_column": null,
            "grid_gap": null,
            "grid_row": null,
            "grid_template_areas": null,
            "grid_template_columns": null,
            "grid_template_rows": null,
            "height": null,
            "justify_content": null,
            "justify_items": null,
            "left": null,
            "margin": null,
            "max_height": null,
            "max_width": null,
            "min_height": null,
            "min_width": null,
            "object_fit": null,
            "object_position": null,
            "order": null,
            "overflow": null,
            "overflow_x": null,
            "overflow_y": null,
            "padding": null,
            "right": null,
            "top": null,
            "visibility": null,
            "width": null
          }
        },
        "e7e07b4f5d3a489fa9ce377d0b1f9315": {
          "model_module": "@jupyter-widgets/controls",
          "model_name": "DescriptionStyleModel",
          "model_module_version": "1.5.0",
          "state": {
            "_model_module": "@jupyter-widgets/controls",
            "_model_module_version": "1.5.0",
            "_model_name": "DescriptionStyleModel",
            "_view_count": null,
            "_view_module": "@jupyter-widgets/base",
            "_view_module_version": "1.2.0",
            "_view_name": "StyleView",
            "description_width": ""
          }
        },
        "9073b9a2d74949ff803081586e196744": {
          "model_module": "@jupyter-widgets/controls",
          "model_name": "HBoxModel",
          "model_module_version": "1.5.0",
          "state": {
            "_dom_classes": [],
            "_model_module": "@jupyter-widgets/controls",
            "_model_module_version": "1.5.0",
            "_model_name": "HBoxModel",
            "_view_count": null,
            "_view_module": "@jupyter-widgets/controls",
            "_view_module_version": "1.5.0",
            "_view_name": "HBoxView",
            "box_style": "",
            "children": [
              "IPY_MODEL_9fb98c7af83849c59f4b7ad7df464bc2",
              "IPY_MODEL_55e7d32bf2374aecb1a489a530240018",
              "IPY_MODEL_70978c750a3d4f879e6779f0de46e3b3"
            ],
            "layout": "IPY_MODEL_57402c43157a48bca2419baecfb6e153"
          }
        },
        "9fb98c7af83849c59f4b7ad7df464bc2": {
          "model_module": "@jupyter-widgets/controls",
          "model_name": "HTMLModel",
          "model_module_version": "1.5.0",
          "state": {
            "_dom_classes": [],
            "_model_module": "@jupyter-widgets/controls",
            "_model_module_version": "1.5.0",
            "_model_name": "HTMLModel",
            "_view_count": null,
            "_view_module": "@jupyter-widgets/controls",
            "_view_module_version": "1.5.0",
            "_view_name": "HTMLView",
            "description": "",
            "description_tooltip": null,
            "layout": "IPY_MODEL_3a7a2d6f47c44752b3cf863cdd14f89f",
            "placeholder": "​",
            "style": "IPY_MODEL_7f0e54489bb446fdba2888be39070802",
            "value": ""
          }
        },
        "55e7d32bf2374aecb1a489a530240018": {
          "model_module": "@jupyter-widgets/controls",
          "model_name": "FloatProgressModel",
          "model_module_version": "1.5.0",
          "state": {
            "_dom_classes": [],
            "_model_module": "@jupyter-widgets/controls",
            "_model_module_version": "1.5.0",
            "_model_name": "FloatProgressModel",
            "_view_count": null,
            "_view_module": "@jupyter-widgets/controls",
            "_view_module_version": "1.5.0",
            "_view_name": "ProgressView",
            "bar_style": "success",
            "description": "",
            "description_tooltip": null,
            "layout": "IPY_MODEL_552213eca039470f8f725600d079750a",
            "max": 9742279,
            "min": 0,
            "orientation": "horizontal",
            "style": "IPY_MODEL_9fcc4aa0bbc04986b70ab16e17225033",
            "value": 9742279
          }
        },
        "70978c750a3d4f879e6779f0de46e3b3": {
          "model_module": "@jupyter-widgets/controls",
          "model_name": "HTMLModel",
          "model_module_version": "1.5.0",
          "state": {
            "_dom_classes": [],
            "_model_module": "@jupyter-widgets/controls",
            "_model_module_version": "1.5.0",
            "_model_name": "HTMLModel",
            "_view_count": null,
            "_view_module": "@jupyter-widgets/controls",
            "_view_module_version": "1.5.0",
            "_view_name": "HTMLView",
            "description": "",
            "description_tooltip": null,
            "layout": "IPY_MODEL_4bc1f167bc494dac911d4ff260fa7305",
            "placeholder": "​",
            "style": "IPY_MODEL_55522b5f416e4561b43d6ab9905fbf85",
            "value": " 9742336/? [00:00&lt;00:00, 47999917.75it/s]"
          }
        },
        "57402c43157a48bca2419baecfb6e153": {
          "model_module": "@jupyter-widgets/base",
          "model_name": "LayoutModel",
          "model_module_version": "1.2.0",
          "state": {
            "_model_module": "@jupyter-widgets/base",
            "_model_module_version": "1.2.0",
            "_model_name": "LayoutModel",
            "_view_count": null,
            "_view_module": "@jupyter-widgets/base",
            "_view_module_version": "1.2.0",
            "_view_name": "LayoutView",
            "align_content": null,
            "align_items": null,
            "align_self": null,
            "border": null,
            "bottom": null,
            "display": null,
            "flex": null,
            "flex_flow": null,
            "grid_area": null,
            "grid_auto_columns": null,
            "grid_auto_flow": null,
            "grid_auto_rows": null,
            "grid_column": null,
            "grid_gap": null,
            "grid_row": null,
            "grid_template_areas": null,
            "grid_template_columns": null,
            "grid_template_rows": null,
            "height": null,
            "justify_content": null,
            "justify_items": null,
            "left": null,
            "margin": null,
            "max_height": null,
            "max_width": null,
            "min_height": null,
            "min_width": null,
            "object_fit": null,
            "object_position": null,
            "order": null,
            "overflow": null,
            "overflow_x": null,
            "overflow_y": null,
            "padding": null,
            "right": null,
            "top": null,
            "visibility": null,
            "width": null
          }
        },
        "3a7a2d6f47c44752b3cf863cdd14f89f": {
          "model_module": "@jupyter-widgets/base",
          "model_name": "LayoutModel",
          "model_module_version": "1.2.0",
          "state": {
            "_model_module": "@jupyter-widgets/base",
            "_model_module_version": "1.2.0",
            "_model_name": "LayoutModel",
            "_view_count": null,
            "_view_module": "@jupyter-widgets/base",
            "_view_module_version": "1.2.0",
            "_view_name": "LayoutView",
            "align_content": null,
            "align_items": null,
            "align_self": null,
            "border": null,
            "bottom": null,
            "display": null,
            "flex": null,
            "flex_flow": null,
            "grid_area": null,
            "grid_auto_columns": null,
            "grid_auto_flow": null,
            "grid_auto_rows": null,
            "grid_column": null,
            "grid_gap": null,
            "grid_row": null,
            "grid_template_areas": null,
            "grid_template_columns": null,
            "grid_template_rows": null,
            "height": null,
            "justify_content": null,
            "justify_items": null,
            "left": null,
            "margin": null,
            "max_height": null,
            "max_width": null,
            "min_height": null,
            "min_width": null,
            "object_fit": null,
            "object_position": null,
            "order": null,
            "overflow": null,
            "overflow_x": null,
            "overflow_y": null,
            "padding": null,
            "right": null,
            "top": null,
            "visibility": null,
            "width": null
          }
        },
        "7f0e54489bb446fdba2888be39070802": {
          "model_module": "@jupyter-widgets/controls",
          "model_name": "DescriptionStyleModel",
          "model_module_version": "1.5.0",
          "state": {
            "_model_module": "@jupyter-widgets/controls",
            "_model_module_version": "1.5.0",
            "_model_name": "DescriptionStyleModel",
            "_view_count": null,
            "_view_module": "@jupyter-widgets/base",
            "_view_module_version": "1.2.0",
            "_view_name": "StyleView",
            "description_width": ""
          }
        },
        "552213eca039470f8f725600d079750a": {
          "model_module": "@jupyter-widgets/base",
          "model_name": "LayoutModel",
          "model_module_version": "1.2.0",
          "state": {
            "_model_module": "@jupyter-widgets/base",
            "_model_module_version": "1.2.0",
            "_model_name": "LayoutModel",
            "_view_count": null,
            "_view_module": "@jupyter-widgets/base",
            "_view_module_version": "1.2.0",
            "_view_name": "LayoutView",
            "align_content": null,
            "align_items": null,
            "align_self": null,
            "border": null,
            "bottom": null,
            "display": null,
            "flex": null,
            "flex_flow": null,
            "grid_area": null,
            "grid_auto_columns": null,
            "grid_auto_flow": null,
            "grid_auto_rows": null,
            "grid_column": null,
            "grid_gap": null,
            "grid_row": null,
            "grid_template_areas": null,
            "grid_template_columns": null,
            "grid_template_rows": null,
            "height": null,
            "justify_content": null,
            "justify_items": null,
            "left": null,
            "margin": null,
            "max_height": null,
            "max_width": null,
            "min_height": null,
            "min_width": null,
            "object_fit": null,
            "object_position": null,
            "order": null,
            "overflow": null,
            "overflow_x": null,
            "overflow_y": null,
            "padding": null,
            "right": null,
            "top": null,
            "visibility": null,
            "width": null
          }
        },
        "9fcc4aa0bbc04986b70ab16e17225033": {
          "model_module": "@jupyter-widgets/controls",
          "model_name": "ProgressStyleModel",
          "model_module_version": "1.5.0",
          "state": {
            "_model_module": "@jupyter-widgets/controls",
            "_model_module_version": "1.5.0",
            "_model_name": "ProgressStyleModel",
            "_view_count": null,
            "_view_module": "@jupyter-widgets/base",
            "_view_module_version": "1.2.0",
            "_view_name": "StyleView",
            "bar_color": null,
            "description_width": ""
          }
        },
        "4bc1f167bc494dac911d4ff260fa7305": {
          "model_module": "@jupyter-widgets/base",
          "model_name": "LayoutModel",
          "model_module_version": "1.2.0",
          "state": {
            "_model_module": "@jupyter-widgets/base",
            "_model_module_version": "1.2.0",
            "_model_name": "LayoutModel",
            "_view_count": null,
            "_view_module": "@jupyter-widgets/base",
            "_view_module_version": "1.2.0",
            "_view_name": "LayoutView",
            "align_content": null,
            "align_items": null,
            "align_self": null,
            "border": null,
            "bottom": null,
            "display": null,
            "flex": null,
            "flex_flow": null,
            "grid_area": null,
            "grid_auto_columns": null,
            "grid_auto_flow": null,
            "grid_auto_rows": null,
            "grid_column": null,
            "grid_gap": null,
            "grid_row": null,
            "grid_template_areas": null,
            "grid_template_columns": null,
            "grid_template_rows": null,
            "height": null,
            "justify_content": null,
            "justify_items": null,
            "left": null,
            "margin": null,
            "max_height": null,
            "max_width": null,
            "min_height": null,
            "min_width": null,
            "object_fit": null,
            "object_position": null,
            "order": null,
            "overflow": null,
            "overflow_x": null,
            "overflow_y": null,
            "padding": null,
            "right": null,
            "top": null,
            "visibility": null,
            "width": null
          }
        },
        "55522b5f416e4561b43d6ab9905fbf85": {
          "model_module": "@jupyter-widgets/controls",
          "model_name": "DescriptionStyleModel",
          "model_module_version": "1.5.0",
          "state": {
            "_model_module": "@jupyter-widgets/controls",
            "_model_module_version": "1.5.0",
            "_model_name": "DescriptionStyleModel",
            "_view_count": null,
            "_view_module": "@jupyter-widgets/base",
            "_view_module_version": "1.2.0",
            "_view_name": "StyleView",
            "description_width": ""
          }
        },
        "d59dcd9211e24c398a24aad35def21c4": {
          "model_module": "@jupyter-widgets/controls",
          "model_name": "HBoxModel",
          "model_module_version": "1.5.0",
          "state": {
            "_dom_classes": [],
            "_model_module": "@jupyter-widgets/controls",
            "_model_module_version": "1.5.0",
            "_model_name": "HBoxModel",
            "_view_count": null,
            "_view_module": "@jupyter-widgets/controls",
            "_view_module_version": "1.5.0",
            "_view_name": "HBoxView",
            "box_style": "",
            "children": [
              "IPY_MODEL_43c4a7bef1ca4fea8ec816b7cefdbfa3",
              "IPY_MODEL_02ad8d11a6fc489786c50d8140c6d343",
              "IPY_MODEL_29673f5878554813a31cdb5ef90b5945"
            ],
            "layout": "IPY_MODEL_0c60af1c20dd436fa198593253401c2d"
          }
        },
        "43c4a7bef1ca4fea8ec816b7cefdbfa3": {
          "model_module": "@jupyter-widgets/controls",
          "model_name": "HTMLModel",
          "model_module_version": "1.5.0",
          "state": {
            "_dom_classes": [],
            "_model_module": "@jupyter-widgets/controls",
            "_model_module_version": "1.5.0",
            "_model_name": "HTMLModel",
            "_view_count": null,
            "_view_module": "@jupyter-widgets/controls",
            "_view_module_version": "1.5.0",
            "_view_name": "HTMLView",
            "description": "",
            "description_tooltip": null,
            "layout": "IPY_MODEL_a5688560f43446da8164b42ab7971d10",
            "placeholder": "​",
            "style": "IPY_MODEL_b4903bc47d6044eaac82c738e6bd1e3a",
            "value": ""
          }
        },
        "02ad8d11a6fc489786c50d8140c6d343": {
          "model_module": "@jupyter-widgets/controls",
          "model_name": "FloatProgressModel",
          "model_module_version": "1.5.0",
          "state": {
            "_dom_classes": [],
            "_model_module": "@jupyter-widgets/controls",
            "_model_module_version": "1.5.0",
            "_model_name": "FloatProgressModel",
            "_view_count": null,
            "_view_module": "@jupyter-widgets/controls",
            "_view_module_version": "1.5.0",
            "_view_name": "ProgressView",
            "bar_style": "success",
            "description": "",
            "description_tooltip": null,
            "layout": "IPY_MODEL_50df72dc5964433e802f6dc75f081dcc",
            "max": 526800,
            "min": 0,
            "orientation": "horizontal",
            "style": "IPY_MODEL_f0213ff80cb94cb2b4f4c4fea54bcb24",
            "value": 526800
          }
        },
        "29673f5878554813a31cdb5ef90b5945": {
          "model_module": "@jupyter-widgets/controls",
          "model_name": "HTMLModel",
          "model_module_version": "1.5.0",
          "state": {
            "_dom_classes": [],
            "_model_module": "@jupyter-widgets/controls",
            "_model_module_version": "1.5.0",
            "_model_name": "HTMLModel",
            "_view_count": null,
            "_view_module": "@jupyter-widgets/controls",
            "_view_module_version": "1.5.0",
            "_view_name": "HTMLView",
            "description": "",
            "description_tooltip": null,
            "layout": "IPY_MODEL_b1e566a180914ef586f0888e7dd9782e",
            "placeholder": "​",
            "style": "IPY_MODEL_e8c74e369a924f6aa6ee0bf0c1469c58",
            "value": " 527360/? [00:00&lt;00:00, 6043382.35it/s]"
          }
        },
        "0c60af1c20dd436fa198593253401c2d": {
          "model_module": "@jupyter-widgets/base",
          "model_name": "LayoutModel",
          "model_module_version": "1.2.0",
          "state": {
            "_model_module": "@jupyter-widgets/base",
            "_model_module_version": "1.2.0",
            "_model_name": "LayoutModel",
            "_view_count": null,
            "_view_module": "@jupyter-widgets/base",
            "_view_module_version": "1.2.0",
            "_view_name": "LayoutView",
            "align_content": null,
            "align_items": null,
            "align_self": null,
            "border": null,
            "bottom": null,
            "display": null,
            "flex": null,
            "flex_flow": null,
            "grid_area": null,
            "grid_auto_columns": null,
            "grid_auto_flow": null,
            "grid_auto_rows": null,
            "grid_column": null,
            "grid_gap": null,
            "grid_row": null,
            "grid_template_areas": null,
            "grid_template_columns": null,
            "grid_template_rows": null,
            "height": null,
            "justify_content": null,
            "justify_items": null,
            "left": null,
            "margin": null,
            "max_height": null,
            "max_width": null,
            "min_height": null,
            "min_width": null,
            "object_fit": null,
            "object_position": null,
            "order": null,
            "overflow": null,
            "overflow_x": null,
            "overflow_y": null,
            "padding": null,
            "right": null,
            "top": null,
            "visibility": null,
            "width": null
          }
        },
        "a5688560f43446da8164b42ab7971d10": {
          "model_module": "@jupyter-widgets/base",
          "model_name": "LayoutModel",
          "model_module_version": "1.2.0",
          "state": {
            "_model_module": "@jupyter-widgets/base",
            "_model_module_version": "1.2.0",
            "_model_name": "LayoutModel",
            "_view_count": null,
            "_view_module": "@jupyter-widgets/base",
            "_view_module_version": "1.2.0",
            "_view_name": "LayoutView",
            "align_content": null,
            "align_items": null,
            "align_self": null,
            "border": null,
            "bottom": null,
            "display": null,
            "flex": null,
            "flex_flow": null,
            "grid_area": null,
            "grid_auto_columns": null,
            "grid_auto_flow": null,
            "grid_auto_rows": null,
            "grid_column": null,
            "grid_gap": null,
            "grid_row": null,
            "grid_template_areas": null,
            "grid_template_columns": null,
            "grid_template_rows": null,
            "height": null,
            "justify_content": null,
            "justify_items": null,
            "left": null,
            "margin": null,
            "max_height": null,
            "max_width": null,
            "min_height": null,
            "min_width": null,
            "object_fit": null,
            "object_position": null,
            "order": null,
            "overflow": null,
            "overflow_x": null,
            "overflow_y": null,
            "padding": null,
            "right": null,
            "top": null,
            "visibility": null,
            "width": null
          }
        },
        "b4903bc47d6044eaac82c738e6bd1e3a": {
          "model_module": "@jupyter-widgets/controls",
          "model_name": "DescriptionStyleModel",
          "model_module_version": "1.5.0",
          "state": {
            "_model_module": "@jupyter-widgets/controls",
            "_model_module_version": "1.5.0",
            "_model_name": "DescriptionStyleModel",
            "_view_count": null,
            "_view_module": "@jupyter-widgets/base",
            "_view_module_version": "1.2.0",
            "_view_name": "StyleView",
            "description_width": ""
          }
        },
        "50df72dc5964433e802f6dc75f081dcc": {
          "model_module": "@jupyter-widgets/base",
          "model_name": "LayoutModel",
          "model_module_version": "1.2.0",
          "state": {
            "_model_module": "@jupyter-widgets/base",
            "_model_module_version": "1.2.0",
            "_model_name": "LayoutModel",
            "_view_count": null,
            "_view_module": "@jupyter-widgets/base",
            "_view_module_version": "1.2.0",
            "_view_name": "LayoutView",
            "align_content": null,
            "align_items": null,
            "align_self": null,
            "border": null,
            "bottom": null,
            "display": null,
            "flex": null,
            "flex_flow": null,
            "grid_area": null,
            "grid_auto_columns": null,
            "grid_auto_flow": null,
            "grid_auto_rows": null,
            "grid_column": null,
            "grid_gap": null,
            "grid_row": null,
            "grid_template_areas": null,
            "grid_template_columns": null,
            "grid_template_rows": null,
            "height": null,
            "justify_content": null,
            "justify_items": null,
            "left": null,
            "margin": null,
            "max_height": null,
            "max_width": null,
            "min_height": null,
            "min_width": null,
            "object_fit": null,
            "object_position": null,
            "order": null,
            "overflow": null,
            "overflow_x": null,
            "overflow_y": null,
            "padding": null,
            "right": null,
            "top": null,
            "visibility": null,
            "width": null
          }
        },
        "f0213ff80cb94cb2b4f4c4fea54bcb24": {
          "model_module": "@jupyter-widgets/controls",
          "model_name": "ProgressStyleModel",
          "model_module_version": "1.5.0",
          "state": {
            "_model_module": "@jupyter-widgets/controls",
            "_model_module_version": "1.5.0",
            "_model_name": "ProgressStyleModel",
            "_view_count": null,
            "_view_module": "@jupyter-widgets/base",
            "_view_module_version": "1.2.0",
            "_view_name": "StyleView",
            "bar_color": null,
            "description_width": ""
          }
        },
        "b1e566a180914ef586f0888e7dd9782e": {
          "model_module": "@jupyter-widgets/base",
          "model_name": "LayoutModel",
          "model_module_version": "1.2.0",
          "state": {
            "_model_module": "@jupyter-widgets/base",
            "_model_module_version": "1.2.0",
            "_model_name": "LayoutModel",
            "_view_count": null,
            "_view_module": "@jupyter-widgets/base",
            "_view_module_version": "1.2.0",
            "_view_name": "LayoutView",
            "align_content": null,
            "align_items": null,
            "align_self": null,
            "border": null,
            "bottom": null,
            "display": null,
            "flex": null,
            "flex_flow": null,
            "grid_area": null,
            "grid_auto_columns": null,
            "grid_auto_flow": null,
            "grid_auto_rows": null,
            "grid_column": null,
            "grid_gap": null,
            "grid_row": null,
            "grid_template_areas": null,
            "grid_template_columns": null,
            "grid_template_rows": null,
            "height": null,
            "justify_content": null,
            "justify_items": null,
            "left": null,
            "margin": null,
            "max_height": null,
            "max_width": null,
            "min_height": null,
            "min_width": null,
            "object_fit": null,
            "object_position": null,
            "order": null,
            "overflow": null,
            "overflow_x": null,
            "overflow_y": null,
            "padding": null,
            "right": null,
            "top": null,
            "visibility": null,
            "width": null
          }
        },
        "e8c74e369a924f6aa6ee0bf0c1469c58": {
          "model_module": "@jupyter-widgets/controls",
          "model_name": "DescriptionStyleModel",
          "model_module_version": "1.5.0",
          "state": {
            "_model_module": "@jupyter-widgets/controls",
            "_model_module_version": "1.5.0",
            "_model_name": "DescriptionStyleModel",
            "_view_count": null,
            "_view_module": "@jupyter-widgets/base",
            "_view_module_version": "1.2.0",
            "_view_name": "StyleView",
            "description_width": ""
          }
        }
      }
    }
  },
  "cells": [
    {
      "cell_type": "markdown",
      "metadata": {
        "id": "LlCgM9taJwb6"
      },
      "source": [
        "## [MNIST](https://pytorch.org/docs/stable/torchvision/datasets.html#mnist)"
      ]
    },
    {
      "cell_type": "code",
      "metadata": {
        "id": "W799OrnsJwb6"
      },
      "source": [
        "import os\n",
        "import random\n",
        "import numpy as np\n",
        "import torch\n",
        "import torchvision"
      ],
      "execution_count": 1,
      "outputs": []
    },
    {
      "cell_type": "code",
      "metadata": {
        "id": "FX2UYM-jdrbC"
      },
      "source": [
        "def seed_everything(seed):\n",
        "    random.seed(seed)\n",
        "    os.environ['PYTHONHASHSEED'] = str(seed)\n",
        "    np.random.seed(seed)\n",
        "    torch.manual_seed(seed)\n",
        "    torch.cuda.manual_seed(seed)\n",
        "    torch.backends.cudnn.deterministic = True\n",
        "    torch.backends.cudnn.benchmark = False\n",
        "\n",
        "seed_everything(42)"
      ],
      "execution_count": 2,
      "outputs": []
    },
    {
      "cell_type": "code",
      "metadata": {
        "id": "nml4KU9nJwb6",
        "colab": {
          "base_uri": "https://localhost:8080/",
          "height": 174,
          "referenced_widgets": [
            "a77e7ea774df4c8583b68eff0dd0350b",
            "b0cf0b2e0bed4d59886ac3487f5e625b",
            "d9a879abbb8d4824a3bab39398ff4e62",
            "033c1f25d7904e2596ab323f80ee5878",
            "3786c3b565df4d27849225ca4f1ddf4f",
            "35f4b9afb147439fbcab498e741abeb6",
            "c7fd0e600ad34a92aa6033bed6c9e2dd",
            "af7f331746f8401d9a8b095ffdea520b",
            "2c46ac087b764550a07d0fb9e45cce6a",
            "d9262497855d4cd58eaaaa24b1ce7806",
            "ef7d3264a47a41d0906223fef0885595",
            "a7b385cce70340af8662d12519975f01",
            "0a300e5c03004b0b998c87fdcf4c31b0",
            "c3475354ae6e4b61bbb984405690bb34",
            "9bc72b69b43c46a89dd3719e561d18c0",
            "8117c6b1d7bc443eac8d3439c81f9005",
            "82c859f577a04663b0adfba096ec484f",
            "e0c1e33bad8a4828a0e0da9be825c8d0",
            "f12de843511b435ea08b2b221c41cb46",
            "04efddd83dc0494cb9e0cbe37e023ef2",
            "4b31079a738f45ef8b1befa85250af56",
            "e7e07b4f5d3a489fa9ce377d0b1f9315"
          ]
        },
        "outputId": "b6f7d583-7f0b-447d-d6e1-8b3aae5bbde9"
      },
      "source": [
        "dataset = torchvision.datasets.QMNIST('./data', download=True)"
      ],
      "execution_count": 3,
      "outputs": [
        {
          "output_type": "stream",
          "name": "stdout",
          "text": [
            "Downloading https://raw.githubusercontent.com/facebookresearch/qmnist/master/qmnist-train-images-idx3-ubyte.gz to ./data/QMNIST/raw/qmnist-train-images-idx3-ubyte.gz\n"
          ]
        },
        {
          "output_type": "display_data",
          "data": {
            "text/plain": [
              "  0%|          | 0/9704059 [00:00<?, ?it/s]"
            ],
            "application/vnd.jupyter.widget-view+json": {
              "version_major": 2,
              "version_minor": 0,
              "model_id": "a77e7ea774df4c8583b68eff0dd0350b"
            }
          },
          "metadata": {}
        },
        {
          "output_type": "stream",
          "name": "stdout",
          "text": [
            "Extracting ./data/QMNIST/raw/qmnist-train-images-idx3-ubyte.gz to ./data/QMNIST/raw\n",
            "Downloading https://raw.githubusercontent.com/facebookresearch/qmnist/master/qmnist-train-labels-idx2-int.gz to ./data/QMNIST/raw/qmnist-train-labels-idx2-int.gz\n"
          ]
        },
        {
          "output_type": "display_data",
          "data": {
            "text/plain": [
              "  0%|          | 0/463024 [00:00<?, ?it/s]"
            ],
            "application/vnd.jupyter.widget-view+json": {
              "version_major": 2,
              "version_minor": 0,
              "model_id": "a7b385cce70340af8662d12519975f01"
            }
          },
          "metadata": {}
        },
        {
          "output_type": "stream",
          "name": "stdout",
          "text": [
            "Extracting ./data/QMNIST/raw/qmnist-train-labels-idx2-int.gz to ./data/QMNIST/raw\n"
          ]
        }
      ]
    },
    {
      "cell_type": "code",
      "metadata": {
        "id": "TSlH780eJwb6",
        "colab": {
          "base_uri": "https://localhost:8080/"
        },
        "outputId": "38641719-4c88-4e7e-a0db-93af6d6da60e"
      },
      "source": [
        "print(type(dataset))\n",
        "\n",
        "# tuple: (image, target)"
      ],
      "execution_count": 4,
      "outputs": [
        {
          "output_type": "stream",
          "name": "stdout",
          "text": [
            "<class 'torchvision.datasets.mnist.QMNIST'>\n"
          ]
        }
      ]
    },
    {
      "cell_type": "code",
      "metadata": {
        "id": "fNrFWcM5Jwb7",
        "colab": {
          "base_uri": "https://localhost:8080/"
        },
        "outputId": "701a8572-1c8d-4c2b-8d84-e470621a2d9f"
      },
      "source": [
        "print(len(dataset))"
      ],
      "execution_count": 5,
      "outputs": [
        {
          "output_type": "stream",
          "name": "stdout",
          "text": [
            "60000\n"
          ]
        }
      ]
    },
    {
      "cell_type": "code",
      "metadata": {
        "id": "7Wkaywg1Jwb7"
      },
      "source": [
        "n = 200\n",
        "data, target = dataset[n]"
      ],
      "execution_count": 6,
      "outputs": []
    },
    {
      "cell_type": "code",
      "metadata": {
        "id": "eTGJ4zgVJwb8",
        "colab": {
          "base_uri": "https://localhost:8080/"
        },
        "outputId": "292c5518-8293-42b4-8e93-721ade931c06"
      },
      "source": [
        "print(type(data))"
      ],
      "execution_count": 7,
      "outputs": [
        {
          "output_type": "stream",
          "name": "stdout",
          "text": [
            "<class 'PIL.Image.Image'>\n"
          ]
        }
      ]
    },
    {
      "cell_type": "code",
      "metadata": {
        "id": "06LhHh-TzCwg",
        "colab": {
          "base_uri": "https://localhost:8080/"
        },
        "outputId": "eec7b785-88da-4510-9924-dc919c28bc14"
      },
      "source": [
        "print(data.mode, data.width, data.height)"
      ],
      "execution_count": 8,
      "outputs": [
        {
          "output_type": "stream",
          "name": "stdout",
          "text": [
            "L 28 28\n"
          ]
        }
      ]
    },
    {
      "cell_type": "code",
      "metadata": {
        "id": "wTyu7DRzJwb8",
        "colab": {
          "base_uri": "https://localhost:8080/"
        },
        "outputId": "67a148dd-b8ff-4d9e-abaa-a99fbd0b5b65"
      },
      "source": [
        "print(type(target))"
      ],
      "execution_count": 9,
      "outputs": [
        {
          "output_type": "stream",
          "name": "stdout",
          "text": [
            "<class 'int'>\n"
          ]
        }
      ]
    },
    {
      "cell_type": "code",
      "metadata": {
        "id": "_KEg637dJwb8",
        "colab": {
          "base_uri": "https://localhost:8080/",
          "height": 281
        },
        "outputId": "6f853923-e00e-4fd5-e32a-ba7160fddf87"
      },
      "source": [
        "import matplotlib.pyplot as plt\n",
        "%matplotlib inline\n",
        "\n",
        "plt.title(target)\n",
        "plt.imshow(data, cmap='gray')\n",
        "data.show()"
      ],
      "execution_count": 10,
      "outputs": [
        {
          "output_type": "display_data",
          "data": {
            "text/plain": [
              "<Figure size 432x288 with 1 Axes>"
            ],
            "image/png": "[encoded data removed]"
          },
          "metadata": {
            "needs_background": "light"
          }
        }
      ]
    },
    {
      "cell_type": "code",
      "metadata": {
        "id": "6DsiDw7wJwb8"
      },
      "source": [
        "import torchvision.transforms as transforms\n",
        "# batch must contain tensors, numpy arrays, numbers, dicts or lists\n",
        "ToTensor = transforms.Compose([\n",
        "    transforms.ToTensor()\n",
        "])\n",
        "dataset = torchvision.datasets.QMNIST('./data', transform = ToTensor)"
      ],
      "execution_count": 11,
      "outputs": []
    },
    {
      "cell_type": "code",
      "metadata": {
        "id": "GrB--IvSJwb8"
      },
      "source": [
        "data_loader = torch.utils.data.DataLoader(dataset,\n",
        "                                          batch_size=1,\n",
        "                                          shuffle=True)"
      ],
      "execution_count": 12,
      "outputs": []
    },
    {
      "cell_type": "code",
      "metadata": {
        "id": "b9-5bqlWJwb8",
        "colab": {
          "base_uri": "https://localhost:8080/",
          "height": 318
        },
        "outputId": "9a9d81ef-57d4-47ce-926f-29e53c2beb6c"
      },
      "source": [
        "ToPILImage = transforms.Compose([\n",
        "    transforms.ToPILImage()\n",
        "])\n",
        "\n",
        "for data, target in data_loader:\n",
        "    print(data.shape)\n",
        "    data = data.squeeze() # 불필요한 차원 하나를 줄인다(batch_size=1)\n",
        "    data = data.squeeze() # 불필요한 차원 하나를 줄인다(color)\n",
        "    print(data.shape)\n",
        "    pic = ToPILImage(data)\n",
        "    plt.title(int(target))\n",
        "    plt.imshow(pic, cmap='gray')\n",
        "    plt.show()\n",
        "    break"
      ],
      "execution_count": 13,
      "outputs": [
        {
          "output_type": "stream",
          "name": "stdout",
          "text": [
            "torch.Size([1, 1, 28, 28])\n",
            "torch.Size([28, 28])\n"
          ]
        },
        {
          "output_type": "display_data",
          "data": {
            "text/plain": [
              "<Figure size 432x288 with 1 Axes>"
            ],
            "image/png": "[encoded data removed]"
          },
          "metadata": {
            "needs_background": "light"
          }
        }
      ]
    },
    {
      "cell_type": "code",
      "metadata": {
        "id": "UZlUCeMeJwb8"
      },
      "source": [
        "data_loader = torch.utils.data.DataLoader(dataset,\n",
        "                                          batch_size=10,\n",
        "                                          shuffle=True)"
      ],
      "execution_count": 14,
      "outputs": []
    },
    {
      "cell_type": "code",
      "metadata": {
        "id": "nZGsSucCJwb8",
        "colab": {
          "base_uri": "https://localhost:8080/",
          "height": 336
        },
        "outputId": "3448254a-71a7-4774-9db5-a2f2c668e086"
      },
      "source": [
        "ToPILImage = transforms.Compose([\n",
        "    transforms.ToPILImage()\n",
        "])\n",
        "\n",
        "for data, target in data_loader:\n",
        "    index = 5\n",
        "    print(data.shape)\n",
        "    img = data[index]\n",
        "    print(img.shape)\n",
        "    img = img[0] \n",
        "    print(img.shape)\n",
        "    pic = ToPILImage(img)\n",
        "    plt.title(int(target[index]))\n",
        "    plt.imshow(img, cmap='gray')\n",
        "    plt.show()\n",
        "    break"
      ],
      "execution_count": 15,
      "outputs": [
        {
          "output_type": "stream",
          "name": "stdout",
          "text": [
            "torch.Size([10, 1, 28, 28])\n",
            "torch.Size([1, 28, 28])\n",
            "torch.Size([28, 28])\n"
          ]
        },
        {
          "output_type": "display_data",
          "data": {
            "text/plain": [
              "<Figure size 432x288 with 1 Axes>"
            ],
            "image/png": "[encoded data removed]"
          },
          "metadata": {
            "needs_background": "light"
          }
        }
      ]
    },
    {
      "cell_type": "code",
      "metadata": {
        "id": "jOQuiaBdJwb8",
        "colab": {
          "base_uri": "https://localhost:8080/"
        },
        "outputId": "d7f04801-6370-4bcb-d271-07f58405e45a"
      },
      "source": [
        "# 1000개 batch\n",
        "n = 1000\n",
        "data_loader = torch.utils.data.DataLoader(dataset,\n",
        "                                          batch_size=n,\n",
        "                                          shuffle=True)\n",
        "i = 0\n",
        "l = []\n",
        "for data, target in data_loader:\n",
        "    i += len(data)\n",
        "    l.append(len(data))\n",
        "    \n",
        "print(l)\n",
        "print('Total number of data: {}'.format(i))\n",
        "\n",
        "# 2000개 batch\n",
        "n = 2000\n",
        "data_loader = torch.utils.data.DataLoader(dataset,\n",
        "                                          batch_size=n,\n",
        "                                          shuffle=True)\n",
        "i = 0\n",
        "l = []\n",
        "for data, target in data_loader:\n",
        "    i += len(data)\n",
        "    l.append(len(data))\n",
        "    \n",
        "print(l)\n",
        "print('Total number of data: {}'.format(i))\n",
        "\n",
        "# 999개 batch\n",
        "n = 999\n",
        "data_loader = torch.utils.data.DataLoader(dataset,\n",
        "                                          batch_size=n,\n",
        "                                          shuffle=True)\n",
        "i = 0\n",
        "l = []\n",
        "for data, target in data_loader:\n",
        "    i += len(data)\n",
        "    l.append(len(data))\n",
        "\n",
        "print(l)\n",
        "print('Total number of data: {}'.format(i))"
      ],
      "execution_count": 16,
      "outputs": [
        {
          "output_type": "stream",
          "name": "stdout",
          "text": [
            "[1000, 1000, 1000, 1000, 1000, 1000, 1000, 1000, 1000, 1000, 1000, 1000, 1000, 1000, 1000, 1000, 1000, 1000, 1000, 1000, 1000, 1000, 1000, 1000, 1000, 1000, 1000, 1000, 1000, 1000, 1000, 1000, 1000, 1000, 1000, 1000, 1000, 1000, 1000, 1000, 1000, 1000, 1000, 1000, 1000, 1000, 1000, 1000, 1000, 1000, 1000, 1000, 1000, 1000, 1000, 1000, 1000, 1000, 1000, 1000]\n",
            "Total number of data: 60000\n",
            "[2000, 2000, 2000, 2000, 2000, 2000, 2000, 2000, 2000, 2000, 2000, 2000, 2000, 2000, 2000, 2000, 2000, 2000, 2000, 2000, 2000, 2000, 2000, 2000, 2000, 2000, 2000, 2000, 2000, 2000]\n",
            "Total number of data: 60000\n",
            "[999, 999, 999, 999, 999, 999, 999, 999, 999, 999, 999, 999, 999, 999, 999, 999, 999, 999, 999, 999, 999, 999, 999, 999, 999, 999, 999, 999, 999, 999, 999, 999, 999, 999, 999, 999, 999, 999, 999, 999, 999, 999, 999, 999, 999, 999, 999, 999, 999, 999, 999, 999, 999, 999, 999, 999, 999, 999, 999, 999, 60]\n",
            "Total number of data: 60000\n"
          ]
        }
      ]
    },
    {
      "cell_type": "code",
      "metadata": {
        "id": "R6Ob7Vk8KSgM"
      },
      "source": [
        "%matplotlib inline\n",
        "\n",
        "import numpy as np\n",
        "\n",
        "import torch\n",
        "import torch.nn as nn\n",
        "import torch.nn.functional as F\n",
        "import torch.optim as optim\n",
        "import torchvision.utils as utils\n",
        "import torchvision.transforms as transforms\n",
        "\n",
        "is_cuda = torch.cuda.is_available()\n",
        "device = torch.device('cuda' if is_cuda else 'cpu')"
      ],
      "execution_count": 17,
      "outputs": []
    },
    {
      "cell_type": "code",
      "metadata": {
        "id": "He8bMST7iTtw",
        "colab": {
          "base_uri": "https://localhost:8080/",
          "height": 174,
          "referenced_widgets": [
            "9073b9a2d74949ff803081586e196744",
            "9fb98c7af83849c59f4b7ad7df464bc2",
            "55e7d32bf2374aecb1a489a530240018",
            "70978c750a3d4f879e6779f0de46e3b3",
            "57402c43157a48bca2419baecfb6e153",
            "3a7a2d6f47c44752b3cf863cdd14f89f",
            "7f0e54489bb446fdba2888be39070802",
            "552213eca039470f8f725600d079750a",
            "9fcc4aa0bbc04986b70ab16e17225033",
            "4bc1f167bc494dac911d4ff260fa7305",
            "55522b5f416e4561b43d6ab9905fbf85",
            "d59dcd9211e24c398a24aad35def21c4",
            "43c4a7bef1ca4fea8ec816b7cefdbfa3",
            "02ad8d11a6fc489786c50d8140c6d343",
            "29673f5878554813a31cdb5ef90b5945",
            "0c60af1c20dd436fa198593253401c2d",
            "a5688560f43446da8164b42ab7971d10",
            "b4903bc47d6044eaac82c738e6bd1e3a",
            "50df72dc5964433e802f6dc75f081dcc",
            "f0213ff80cb94cb2b4f4c4fea54bcb24",
            "b1e566a180914ef586f0888e7dd9782e",
            "e8c74e369a924f6aa6ee0bf0c1469c58"
          ]
        },
        "outputId": "1b6684fd-84a4-4e16-ece8-eeb0b037a7eb"
      },
      "source": [
        "import torchvision.transforms as transforms\n",
        "compose = transforms.Compose([\n",
        "    transforms.ToTensor()\n",
        "])\n",
        "\n",
        "train_data = torchvision.datasets.QMNIST(root='./data/', train=True, transform=compose, download=True)\n",
        "test_data  = torchvision.datasets.QMNIST(root='./data/', train=False, transform=compose, download=True)"
      ],
      "execution_count": 18,
      "outputs": [
        {
          "output_type": "stream",
          "name": "stdout",
          "text": [
            "Downloading https://raw.githubusercontent.com/facebookresearch/qmnist/master/qmnist-test-images-idx3-ubyte.gz to ./data/QMNIST/raw/qmnist-test-images-idx3-ubyte.gz\n"
          ]
        },
        {
          "output_type": "display_data",
          "data": {
            "text/plain": [
              "  0%|          | 0/9742279 [00:00<?, ?it/s]"
            ],
            "application/vnd.jupyter.widget-view+json": {
              "version_major": 2,
              "version_minor": 0,
              "model_id": "9073b9a2d74949ff803081586e196744"
            }
          },
          "metadata": {}
        },
        {
          "output_type": "stream",
          "name": "stdout",
          "text": [
            "Extracting ./data/QMNIST/raw/qmnist-test-images-idx3-ubyte.gz to ./data/QMNIST/raw\n",
            "Downloading https://raw.githubusercontent.com/facebookresearch/qmnist/master/qmnist-test-labels-idx2-int.gz to ./data/QMNIST/raw/qmnist-test-labels-idx2-int.gz\n"
          ]
        },
        {
          "output_type": "display_data",
          "data": {
            "text/plain": [
              "  0%|          | 0/526800 [00:00<?, ?it/s]"
            ],
            "application/vnd.jupyter.widget-view+json": {
              "version_major": 2,
              "version_minor": 0,
              "model_id": "d59dcd9211e24c398a24aad35def21c4"
            }
          },
          "metadata": {}
        },
        {
          "output_type": "stream",
          "name": "stdout",
          "text": [
            "Extracting ./data/QMNIST/raw/qmnist-test-labels-idx2-int.gz to ./data/QMNIST/raw\n"
          ]
        }
      ]
    },
    {
      "cell_type": "code",
      "metadata": {
        "id": "wTjnS56zi36O",
        "colab": {
          "base_uri": "https://localhost:8080/"
        },
        "outputId": "720c833d-28f4-4670-fbd8-92a282c0cc1f"
      },
      "source": [
        "print('train sets: {}'.format(len(train_data)))\n",
        "print('test sets: {}'.format(len(test_data)))"
      ],
      "execution_count": 19,
      "outputs": [
        {
          "output_type": "stream",
          "name": "stdout",
          "text": [
            "train sets: 60000\n",
            "test sets: 60000\n"
          ]
        }
      ]
    },
    {
      "cell_type": "code",
      "metadata": {
        "id": "GL9pEBkBjO3I"
      },
      "source": [
        "BATCH_SIZE = 10\n",
        "\n",
        "train_loader = torch.utils.data.DataLoader(train_data,\n",
        "                                          batch_size=BATCH_SIZE,\n",
        "                                          shuffle=True)\n",
        "test_loader = torch.utils.data.DataLoader(test_data,\n",
        "                                          batch_size=BATCH_SIZE,\n",
        "                                          shuffle=True)"
      ],
      "execution_count": 20,
      "outputs": []
    },
    {
      "cell_type": "code",
      "metadata": {
        "id": "Bj6t-yD2joSr"
      },
      "source": [
        "class MNISTModel(nn.Module):\n",
        "    def __init__(self, output_size):\n",
        "        super(MNISTModel, self).__init__()\n",
        "        self.cv = nn.Sequential(\n",
        "                nn.Conv2d(1, 8, kernel_size=3), # 1 = input channel size(gray), 8 = output(filter) volume size (n, 8, 26, 26)\n",
        "                                              # padding = 0, stride = (1, 1)\n",
        "                nn.ReLU(),\n",
        "                nn.MaxPool2d(2), # (n, 8, 13, 13)\n",
        "                nn.Conv2d(8, 10, kernel_size=4), # (n, 10, 10, 10)\n",
        "                nn.ReLU(),\n",
        "                nn.Conv2d(10, 16, kernel_size=3), # (n, 16, 8, 8)\n",
        "                nn.ReLU(),\n",
        "                nn.MaxPool2d(2) # (n, 16, 4, 4)\n",
        "        )\n",
        "\n",
        "        self.fc = nn.Sequential(nn.Linear(16*4*4, output_size),\n",
        "              )        \n",
        "        \n",
        "    def forward(self, x):\n",
        "        x = self.cv(x)\n",
        "        x = x.view(-1, 16*4*4)\n",
        "        output = self.fc(x)\n",
        "        value = torch.max(output, 1)[1]\n",
        "        return output, value"
      ],
      "execution_count": 21,
      "outputs": []
    },
    {
      "cell_type": "code",
      "metadata": {
        "id": "YoABcrSWjyLt"
      },
      "source": [
        "model = MNISTModel(10).to(device)"
      ],
      "execution_count": 22,
      "outputs": []
    },
    {
      "cell_type": "code",
      "metadata": {
        "id": "Z4v_e3ioj_Co",
        "colab": {
          "base_uri": "https://localhost:8080/"
        },
        "outputId": "692ce10c-78ba-4eb2-e99a-444fcb33f23e"
      },
      "source": [
        "n = 0\n",
        "for data, target in train_loader:\n",
        "    print(data.shape) # (batch, channel, width, height)\n",
        "    break\n",
        "\n",
        "data = data.to(device)\n",
        "\n",
        "with torch.no_grad():\n",
        "    y, _ = model(data)\n",
        "    print(y)\n",
        "    print(np.argmax(y.cpu(), axis=1), target)"
      ],
      "execution_count": 23,
      "outputs": [
        {
          "output_type": "stream",
          "name": "stdout",
          "text": [
            "torch.Size([10, 1, 28, 28])\n",
            "tensor([[-0.0121, -0.0358, -0.0951,  0.0507,  0.0450, -0.0336,  0.0200,  0.0676,\n",
            "          0.1098,  0.0224],\n",
            "        [-0.0036, -0.0433, -0.0862,  0.0634,  0.0488, -0.0483,  0.0175,  0.0635,\n",
            "          0.0973,  0.0191],\n",
            "        [-0.0125, -0.0343, -0.0952,  0.0499,  0.0461, -0.0366,  0.0271,  0.0615,\n",
            "          0.1037,  0.0345],\n",
            "        [-0.0097, -0.0347, -0.0986,  0.0585,  0.0479, -0.0486,  0.0296,  0.0530,\n",
            "          0.1035,  0.0222],\n",
            "        [-0.0065, -0.0343, -0.0896,  0.0545,  0.0494, -0.0504,  0.0212,  0.0582,\n",
            "          0.1031,  0.0261],\n",
            "        [-0.0086, -0.0364, -0.0997,  0.0546,  0.0487, -0.0475,  0.0177,  0.0742,\n",
            "          0.0962,  0.0244],\n",
            "        [-0.0083, -0.0421, -0.1005,  0.0574,  0.0487, -0.0464,  0.0293,  0.0564,\n",
            "          0.1067,  0.0335],\n",
            "        [-0.0097, -0.0326, -0.0927,  0.0521,  0.0480, -0.0505,  0.0243,  0.0590,\n",
            "          0.1038,  0.0239],\n",
            "        [-0.0079, -0.0299, -0.0987,  0.0576,  0.0514, -0.0430,  0.0250,  0.0571,\n",
            "          0.1063,  0.0202],\n",
            "        [-0.0049, -0.0279, -0.0955,  0.0556,  0.0480, -0.0458,  0.0217,  0.0666,\n",
            "          0.1105,  0.0240]], device='cuda:0')\n",
            "tensor([8, 8, 8, 8, 8, 8, 8, 8, 8, 8]) tensor([8, 0, 5, 9, 0, 3, 6, 0, 9, 9])\n"
          ]
        }
      ]
    },
    {
      "cell_type": "code",
      "metadata": {
        "id": "My2ja1_0nT7_"
      },
      "source": [
        "BATCH_SIZE = 1000\n",
        "\n",
        "train_loader = torch.utils.data.DataLoader(train_data,\n",
        "                                          batch_size=BATCH_SIZE,\n",
        "                                          shuffle=True)\n",
        "test_loader = torch.utils.data.DataLoader(test_data,\n",
        "                                          batch_size=BATCH_SIZE,\n",
        "                                          shuffle=True)"
      ],
      "execution_count": 24,
      "outputs": []
    },
    {
      "cell_type": "code",
      "metadata": {
        "id": "GYuHTXCiomhn",
        "colab": {
          "base_uri": "https://localhost:8080/"
        },
        "outputId": "51f42dd8-be38-4979-eff1-4b4bd584fecf"
      },
      "source": [
        "model = MNISTModel(10).to(device) \n",
        "optimizer = torch.optim.Adam(model.parameters(), lr=0.001)\n",
        "criterion = nn.CrossEntropyLoss().to(device)\n",
        "\n",
        "n_epochs = 5 # 5회 학습\n",
        "\n",
        "list_training_loss = []\n",
        "list_test_loss = []\n",
        "\n",
        "for epoch in range(n_epochs):\n",
        "    n_train = 0\n",
        "    train_loss = 0\n",
        "    model.train()\n",
        "    for train_data, train_target in train_loader:\n",
        "        train_data = train_data.to(device)\n",
        "        train_target = train_target.to(device)\n",
        "        y, _ = model(train_data)\n",
        "        loss = criterion(y, train_target).sum()\n",
        "        train_loss += loss.data.cpu().numpy()\n",
        "        optimizer.zero_grad()\n",
        "        loss.backward()\n",
        "        optimizer.step()\n",
        "        n_train += 1\n",
        "        del train_data\n",
        "        del train_target\n",
        "\n",
        "    model.eval()\n",
        "    n_test = 0\n",
        "    test_loss = 0\n",
        "    correct = 0\n",
        "    total = 0\n",
        "    for test_data, test_target in test_loader:\n",
        "        test_data = test_data.to(device)\n",
        "        test_target = test_target.to(device)\n",
        "        y_pred, idx_pred = model(test_data)\n",
        "        del test_data\n",
        "        loss = criterion(y_pred, test_target).sum()\n",
        "        test_loss += loss.data.cpu().numpy()\n",
        "        n_test += 1\n",
        "        total += len(test_target)\n",
        "        correct += (idx_pred == test_target).sum()\n",
        "\n",
        "    accuracy = correct * 100 / total\n",
        "    print('epoch {}th training loss: {} test loss: {}, accuracy: {}'.format(\n",
        "            epoch, train_loss / n_train, test_loss / n_test,\n",
        "            accuracy\n",
        "        ))\n",
        "    list_training_loss.append(train_loss / n_train)\n",
        "    list_test_loss.append(test_loss / n_test)"
      ],
      "execution_count": 25,
      "outputs": [
        {
          "output_type": "stream",
          "name": "stdout",
          "text": [
            "epoch 0th training loss: 1.6266281257073085 test loss: 0.5311641092101733, accuracy: 83.1500015258789\n",
            "epoch 1th training loss: 0.40142158965269725 test loss: 0.315893567353487, accuracy: 90.33000183105469\n",
            "epoch 2th training loss: 0.27803432097037634 test loss: 0.23348577270905177, accuracy: 93.01499938964844\n",
            "epoch 3th training loss: 0.2142127809425195 test loss: 0.18537846505641936, accuracy: 94.4366683959961\n",
            "epoch 4th training loss: 0.17168615634242693 test loss: 0.1509795812269052, accuracy: 95.50333404541016\n"
          ]
        }
      ]
    },
    {
      "cell_type": "code",
      "metadata": {
        "id": "GimmZFqco_cn",
        "colab": {
          "base_uri": "https://localhost:8080/",
          "height": 265
        },
        "outputId": "da5ca206-4ea4-41a6-86e4-c32451d8ff52"
      },
      "source": [
        "import matplotlib.pyplot as plt\n",
        "\n",
        "plt.plot(list_training_loss, label='training')\n",
        "plt.plot(list_test_loss, label='test')\n",
        "plt.legend()\n",
        "plt.show()"
      ],
      "execution_count": 26,
      "outputs": [
        {
          "output_type": "display_data",
          "data": {
            "text/plain": [
              "<Figure size 432x288 with 1 Axes>"
            ],
            "image/png": "[encoded data removed]"
          },
          "metadata": {
            "needs_background": "light"
          }
        }
      ]
    },
    {
      "cell_type": "code",
      "metadata": {
        "id": "_CCtqC0LpBnZ",
        "colab": {
          "base_uri": "https://localhost:8080/"
        },
        "outputId": "6cac4fb9-6658-422a-8f45-feebdbe770ca"
      },
      "source": [
        "from sklearn.metrics import accuracy_score\n",
        "import numpy as np\n",
        "\n",
        "model.eval()\n",
        "y_test = None\n",
        "y_pred = None\n",
        "for test_data, test_target in test_loader:\n",
        "    test_data = test_data.to(device)\n",
        "    test_target = test_target.to(device)\n",
        "    _, y = model(test_data)\n",
        "    del test_data\n",
        "    if None == y_test:\n",
        "        y_test = test_target\n",
        "    else:\n",
        "        torch.cat([y_test, test_target], dim=0)\n",
        "    if None == y_pred:\n",
        "        y_pred = y\n",
        "    else:\n",
        "        torch.cat([y_pred, y], dim=0)\n",
        "\n",
        "score = accuracy_score(y_test.cpu(), y_pred.cpu())\n",
        "print(score)"
      ],
      "execution_count": 27,
      "outputs": [
        {
          "output_type": "stream",
          "name": "stdout",
          "text": [
            "0.957\n"
          ]
        }
      ]
    }
  ]
}