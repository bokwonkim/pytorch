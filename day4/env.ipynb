{
 "cells": [
  {
   "cell_type": "code",
   "execution_count": 1,
   "metadata": {
    "colab": {
<<<<<<< HEAD
     "base_uri": "https://localhost:8080/"
=======
      "name": "env.ipynb",
      "provenance": [],
      "collapsed_sections": []
>>>>>>> 7f035ce39bbb5b376ea5a06bf6c9eb7a3826a0e1
    },
    "id": "Jxb-z-cQgOIN",
    "outputId": "5b59dc60-690e-462d-ad39-58fb9d7cafd3"
   },
   "outputs": [
    {
     "name": "stdout",
     "output_type": "stream",
     "text": [
      "Mounted at /content/mnt\n"
     ]
    }
   ],
   "source": [
    "import os, sys\n",
    "from google.colab import drive\n",
    "drive.mount('/content/mnt')\n",
    "nb_path = '/content/notebooks'\n",
    "os.symlink('/content/mnt/My Drive/Colab Notebooks', nb_path)\n",
    "sys.path.insert(0, nb_path)"
   ]
  },
<<<<<<< HEAD
  {
   "cell_type": "code",
   "execution_count": 2,
   "metadata": {
    "id": "F8kahGNXiSDs"
   },
   "outputs": [],
   "source": [
    "!cd /content/notebooks/\n",
    "!git config --global user.name \"bardroh\"\n",
    "!git config --global user.email \"bardroh@empas.com\""
   ]
  },
  {
   "cell_type": "code",
   "execution_count": 3,
   "metadata": {
    "id": "yUksRiLuinI0"
   },
   "outputs": [],
   "source": [
    "!mkdir ~/.ssh\n",
    "!cp /content/mnt/'My Drive'/id_rsa ~/.ssh\n",
    "!cp /content/mnt/'My Drive'/id_rsa.pub ~/.ssh\n",
    "!cp /content/mnt/'My Drive'/known_hosts ~/.ssh\n",
    "!cp /content/mnt/'My Drive'/authorized_keys ~/.ssh"
   ]
  },
  {
   "cell_type": "code",
   "execution_count": 4,
   "metadata": {
    "colab": {
     "base_uri": "https://localhost:8080/"
=======
  "cells": [
    {
      "cell_type": "code",
      "execution_count": null,
      "metadata": {
        "colab": {
          "base_uri": "https://localhost:8080/"
        },
        "id": "Jxb-z-cQgOIN",
        "outputId": "5b59dc60-690e-462d-ad39-58fb9d7cafd3"
      },
      "outputs": [
        {
          "output_type": "stream",
          "name": "stdout",
          "text": [
            "Mounted at /content/mnt\n"
          ]
        }
      ],
      "source": [
        "import os, sys\n",
        "from google.colab import drive\n",
        "drive.mount('/content/mnt')\n",
        "nb_path = '/content/notebooks'\n",
        "os.symlink('/content/mnt/My Drive/Colab Notebooks', nb_path)\n",
        "sys.path.insert(0, nb_path)"
      ]
    },
    {
      "cell_type": "code",
      "source": [
        "!cd /content/notebooks/\n",
        "!git config --global user.name \"bardroh\"\n",
        "!git config --global user.email \"bardroh@empas.com\""
      ],
      "metadata": {
        "id": "F8kahGNXiSDs"
      },
      "execution_count": null,
      "outputs": []
    },
    {
      "cell_type": "code",
      "source": [
        "!mkdir ~/.ssh\n",
        "!cp /content/mnt/'My Drive'/id_rsa ~/.ssh\n",
        "!cp /content/mnt/'My Drive'/id_rsa.pub ~/.ssh\n",
        "!cp /content/mnt/'My Drive'/known_hosts ~/.ssh\n",
        "!cp /content/mnt/'My Drive'/authorized_keys ~/.ssh"
      ],
      "metadata": {
        "id": "yUksRiLuinI0"
      },
      "execution_count": null,
      "outputs": []
>>>>>>> 7f035ce39bbb5b376ea5a06bf6c9eb7a3826a0e1
    },
    "id": "K8gqKRZsisoC",
    "outputId": "4aaf20c3-2d7d-41f4-ea79-a1f64f84cb93"
   },
   "outputs": [
    {
<<<<<<< HEAD
     "name": "stdout",
     "output_type": "stream",
     "text": [
      "Cloning into '/content/notebooks/kosa-2022-vision-1st'...\n",
      "remote: Enumerating objects: 1157, done.\u001b[K\n",
      "remote: Counting objects: 100% (170/170), done.\u001b[K\n",
      "remote: Compressing objects: 100% (170/170), done.\u001b[K\n",
      "remote: Total 1157 (delta 110), reused 0 (delta 0), pack-reused 987\u001b[K\n",
      "Receiving objects: 100% (1157/1157), 83.91 MiB | 11.16 MiB/s, done.\n",
      "Resolving deltas: 100% (681/681), done.\n",
      "Checking out files: 100% (325/325), done.\n"
     ]
=======
      "cell_type": "code",
      "source": [
        "!git clone git@gitlab.com:k1936/kosa-2022-vision-1st.git /content/notebooks/kosa-2022-vision-1st"
      ],
      "metadata": {
        "colab": {
          "base_uri": "https://localhost:8080/"
        },
        "id": "K8gqKRZsisoC",
        "outputId": "4aaf20c3-2d7d-41f4-ea79-a1f64f84cb93"
      },
      "execution_count": null,
      "outputs": [
        {
          "output_type": "stream",
          "name": "stdout",
          "text": [
            "Cloning into '/content/notebooks/kosa-2022-vision-1st'...\n",
            "remote: Enumerating objects: 1157, done.\u001b[K\n",
            "remote: Counting objects: 100% (170/170), done.\u001b[K\n",
            "remote: Compressing objects: 100% (170/170), done.\u001b[K\n",
            "remote: Total 1157 (delta 110), reused 0 (delta 0), pack-reused 987\u001b[K\n",
            "Receiving objects: 100% (1157/1157), 83.91 MiB | 11.16 MiB/s, done.\n",
            "Resolving deltas: 100% (681/681), done.\n",
            "Checking out files: 100% (325/325), done.\n"
          ]
        }
      ]
    },
    {
      "cell_type": "code",
      "source": [
        "%cd /content/notebooks/kosa-2022-vision-1st"
      ],
      "metadata": {
        "colab": {
          "base_uri": "https://localhost:8080/"
        },
        "id": "GsOuCOmuy4pW",
        "outputId": "eef8142c-96cc-4911-e817-be1bfd00a597"
      },
      "execution_count": 23,
      "outputs": [
        {
          "output_type": "stream",
          "name": "stdout",
          "text": [
            "/content/mnt/My Drive/Colab Notebooks/kosa-2022-vision-1st\n"
          ]
        }
      ]
    },
    {
      "cell_type": "code",
      "source": [
        "!git checkout main"
      ],
      "metadata": {
        "colab": {
          "base_uri": "https://localhost:8080/"
        },
        "id": "DRCAguSYx_XO",
        "outputId": "55cafabf-5200-4dfa-caf5-60d4b8cc1efb"
      },
      "execution_count": 24,
      "outputs": [
        {
          "output_type": "stream",
          "name": "stdout",
          "text": [
            "M\texercise/bardroh/day03/torch_basic.ipynb\n",
            "Already on 'main'\n",
            "Your branch is up to date with 'origin/main'.\n"
          ]
        }
      ]
    },
    {
      "cell_type": "code",
      "source": [
        "!git pull"
      ],
      "metadata": {
        "colab": {
          "base_uri": "https://localhost:8080/"
        },
        "id": "mfPMKH-Vy0sH",
        "outputId": "1eb8df30-2fb0-40ba-eaf3-194d48f521fb"
      },
      "execution_count": 25,
      "outputs": [
        {
          "output_type": "stream",
          "name": "stdout",
          "text": [
            "Already up to date.\n"
          ]
        }
      ]
>>>>>>> 7f035ce39bbb5b376ea5a06bf6c9eb7a3826a0e1
    }
   ],
   "source": [
    "!git clone git@gitlab.com:k1936/kosa-2022-vision-1st.git /content/notebooks/kosa-2022-vision-1st"
   ]
  }
 ],
 "metadata": {
  "colab": {
   "name": "env.ipynb",
   "provenance": []
  },
  "kernelspec": {
   "display_name": "Python 3",
   "language": "python",
   "name": "python3"
  },
  "language_info": {
   "codemirror_mode": {
    "name": "ipython",
    "version": 3
   },
   "file_extension": ".py",
   "mimetype": "text/x-python",
   "name": "python",
   "nbconvert_exporter": "python",
   "pygments_lexer": "ipython3",
   "version": "3.5.2"
  }
 },
 "nbformat": 4,
 "nbformat_minor": 1
}
