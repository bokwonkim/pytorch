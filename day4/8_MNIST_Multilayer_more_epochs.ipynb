{
  "nbformat": 4,
  "nbformat_minor": 0,
  "metadata": {
    "kernelspec": {
      "display_name": "Python 3",
      "language": "python",
      "name": "python3"
    },
    "language_info": {
      "codemirror_mode": {
        "name": "ipython",
        "version": 3
      },
      "file_extension": ".py",
      "mimetype": "text/x-python",
      "name": "python",
      "nbconvert_exporter": "python",
      "pygments_lexer": "ipython3",
      "version": "3.5.2"
    },
    "colab": {
      "name": "8. MNIST-Multilayer-more-epochs.ipynb",
      "provenance": [],
      "collapsed_sections": []
    },
    "accelerator": "GPU",
    "widgets": {
      "application/vnd.jupyter.widget-state+json": {
        "8ba9c3f4ddb643b3b31ece32a57d3d6e": {
          "model_module": "@jupyter-widgets/controls",
          "model_name": "HBoxModel",
          "model_module_version": "1.5.0",
          "state": {
            "_dom_classes": [],
            "_model_module": "@jupyter-widgets/controls",
            "_model_module_version": "1.5.0",
            "_model_name": "HBoxModel",
            "_view_count": null,
            "_view_module": "@jupyter-widgets/controls",
            "_view_module_version": "1.5.0",
            "_view_name": "HBoxView",
            "box_style": "",
            "children": [
              "IPY_MODEL_34ecf22c4a4445a4939f4abc07b0a736",
              "IPY_MODEL_75d031d533514284a70cbe175f3fa7e8",
              "IPY_MODEL_ccc218f08bc8427a894f8711c06ef2d1"
            ],
            "layout": "IPY_MODEL_4708a1cde15a4f35b595a6554bbf81c8"
          }
        },
        "34ecf22c4a4445a4939f4abc07b0a736": {
          "model_module": "@jupyter-widgets/controls",
          "model_name": "HTMLModel",
          "model_module_version": "1.5.0",
          "state": {
            "_dom_classes": [],
            "_model_module": "@jupyter-widgets/controls",
            "_model_module_version": "1.5.0",
            "_model_name": "HTMLModel",
            "_view_count": null,
            "_view_module": "@jupyter-widgets/controls",
            "_view_module_version": "1.5.0",
            "_view_name": "HTMLView",
            "description": "",
            "description_tooltip": null,
            "layout": "IPY_MODEL_d875cb05ea114757814aae4433b67bcf",
            "placeholder": "​",
            "style": "IPY_MODEL_c79dfd172a8947819288bff38c8e2069",
            "value": ""
          }
        },
        "75d031d533514284a70cbe175f3fa7e8": {
          "model_module": "@jupyter-widgets/controls",
          "model_name": "FloatProgressModel",
          "model_module_version": "1.5.0",
          "state": {
            "_dom_classes": [],
            "_model_module": "@jupyter-widgets/controls",
            "_model_module_version": "1.5.0",
            "_model_name": "FloatProgressModel",
            "_view_count": null,
            "_view_module": "@jupyter-widgets/controls",
            "_view_module_version": "1.5.0",
            "_view_name": "ProgressView",
            "bar_style": "success",
            "description": "",
            "description_tooltip": null,
            "layout": "IPY_MODEL_b9e524239a894f8f908fde59294b55d8",
            "max": 9912422,
            "min": 0,
            "orientation": "horizontal",
            "style": "IPY_MODEL_cca9b4543276410087cf8fe3a8b1ae12",
            "value": 9912422
          }
        },
        "ccc218f08bc8427a894f8711c06ef2d1": {
          "model_module": "@jupyter-widgets/controls",
          "model_name": "HTMLModel",
          "model_module_version": "1.5.0",
          "state": {
            "_dom_classes": [],
            "_model_module": "@jupyter-widgets/controls",
            "_model_module_version": "1.5.0",
            "_model_name": "HTMLModel",
            "_view_count": null,
            "_view_module": "@jupyter-widgets/controls",
            "_view_module_version": "1.5.0",
            "_view_name": "HTMLView",
            "description": "",
            "description_tooltip": null,
            "layout": "IPY_MODEL_60182f576e1b4b9cb02e31227eb29769",
            "placeholder": "​",
            "style": "IPY_MODEL_aa4c6d46852a4faa952d51e609eb86b3",
            "value": " 9913344/? [00:00&lt;00:00, 35784038.07it/s]"
          }
        },
        "4708a1cde15a4f35b595a6554bbf81c8": {
          "model_module": "@jupyter-widgets/base",
          "model_name": "LayoutModel",
          "model_module_version": "1.2.0",
          "state": {
            "_model_module": "@jupyter-widgets/base",
            "_model_module_version": "1.2.0",
            "_model_name": "LayoutModel",
            "_view_count": null,
            "_view_module": "@jupyter-widgets/base",
            "_view_module_version": "1.2.0",
            "_view_name": "LayoutView",
            "align_content": null,
            "align_items": null,
            "align_self": null,
            "border": null,
            "bottom": null,
            "display": null,
            "flex": null,
            "flex_flow": null,
            "grid_area": null,
            "grid_auto_columns": null,
            "grid_auto_flow": null,
            "grid_auto_rows": null,
            "grid_column": null,
            "grid_gap": null,
            "grid_row": null,
            "grid_template_areas": null,
            "grid_template_columns": null,
            "grid_template_rows": null,
            "height": null,
            "justify_content": null,
            "justify_items": null,
            "left": null,
            "margin": null,
            "max_height": null,
            "max_width": null,
            "min_height": null,
            "min_width": null,
            "object_fit": null,
            "object_position": null,
            "order": null,
            "overflow": null,
            "overflow_x": null,
            "overflow_y": null,
            "padding": null,
            "right": null,
            "top": null,
            "visibility": null,
            "width": null
          }
        },
        "d875cb05ea114757814aae4433b67bcf": {
          "model_module": "@jupyter-widgets/base",
          "model_name": "LayoutModel",
          "model_module_version": "1.2.0",
          "state": {
            "_model_module": "@jupyter-widgets/base",
            "_model_module_version": "1.2.0",
            "_model_name": "LayoutModel",
            "_view_count": null,
            "_view_module": "@jupyter-widgets/base",
            "_view_module_version": "1.2.0",
            "_view_name": "LayoutView",
            "align_content": null,
            "align_items": null,
            "align_self": null,
            "border": null,
            "bottom": null,
            "display": null,
            "flex": null,
            "flex_flow": null,
            "grid_area": null,
            "grid_auto_columns": null,
            "grid_auto_flow": null,
            "grid_auto_rows": null,
            "grid_column": null,
            "grid_gap": null,
            "grid_row": null,
            "grid_template_areas": null,
            "grid_template_columns": null,
            "grid_template_rows": null,
            "height": null,
            "justify_content": null,
            "justify_items": null,
            "left": null,
            "margin": null,
            "max_height": null,
            "max_width": null,
            "min_height": null,
            "min_width": null,
            "object_fit": null,
            "object_position": null,
            "order": null,
            "overflow": null,
            "overflow_x": null,
            "overflow_y": null,
            "padding": null,
            "right": null,
            "top": null,
            "visibility": null,
            "width": null
          }
        },
        "c79dfd172a8947819288bff38c8e2069": {
          "model_module": "@jupyter-widgets/controls",
          "model_name": "DescriptionStyleModel",
          "model_module_version": "1.5.0",
          "state": {
            "_model_module": "@jupyter-widgets/controls",
            "_model_module_version": "1.5.0",
            "_model_name": "DescriptionStyleModel",
            "_view_count": null,
            "_view_module": "@jupyter-widgets/base",
            "_view_module_version": "1.2.0",
            "_view_name": "StyleView",
            "description_width": ""
          }
        },
        "b9e524239a894f8f908fde59294b55d8": {
          "model_module": "@jupyter-widgets/base",
          "model_name": "LayoutModel",
          "model_module_version": "1.2.0",
          "state": {
            "_model_module": "@jupyter-widgets/base",
            "_model_module_version": "1.2.0",
            "_model_name": "LayoutModel",
            "_view_count": null,
            "_view_module": "@jupyter-widgets/base",
            "_view_module_version": "1.2.0",
            "_view_name": "LayoutView",
            "align_content": null,
            "align_items": null,
            "align_self": null,
            "border": null,
            "bottom": null,
            "display": null,
            "flex": null,
            "flex_flow": null,
            "grid_area": null,
            "grid_auto_columns": null,
            "grid_auto_flow": null,
            "grid_auto_rows": null,
            "grid_column": null,
            "grid_gap": null,
            "grid_row": null,
            "grid_template_areas": null,
            "grid_template_columns": null,
            "grid_template_rows": null,
            "height": null,
            "justify_content": null,
            "justify_items": null,
            "left": null,
            "margin": null,
            "max_height": null,
            "max_width": null,
            "min_height": null,
            "min_width": null,
            "object_fit": null,
            "object_position": null,
            "order": null,
            "overflow": null,
            "overflow_x": null,
            "overflow_y": null,
            "padding": null,
            "right": null,
            "top": null,
            "visibility": null,
            "width": null
          }
        },
        "cca9b4543276410087cf8fe3a8b1ae12": {
          "model_module": "@jupyter-widgets/controls",
          "model_name": "ProgressStyleModel",
          "model_module_version": "1.5.0",
          "state": {
            "_model_module": "@jupyter-widgets/controls",
            "_model_module_version": "1.5.0",
            "_model_name": "ProgressStyleModel",
            "_view_count": null,
            "_view_module": "@jupyter-widgets/base",
            "_view_module_version": "1.2.0",
            "_view_name": "StyleView",
            "bar_color": null,
            "description_width": ""
          }
        },
        "60182f576e1b4b9cb02e31227eb29769": {
          "model_module": "@jupyter-widgets/base",
          "model_name": "LayoutModel",
          "model_module_version": "1.2.0",
          "state": {
            "_model_module": "@jupyter-widgets/base",
            "_model_module_version": "1.2.0",
            "_model_name": "LayoutModel",
            "_view_count": null,
            "_view_module": "@jupyter-widgets/base",
            "_view_module_version": "1.2.0",
            "_view_name": "LayoutView",
            "align_content": null,
            "align_items": null,
            "align_self": null,
            "border": null,
            "bottom": null,
            "display": null,
            "flex": null,
            "flex_flow": null,
            "grid_area": null,
            "grid_auto_columns": null,
            "grid_auto_flow": null,
            "grid_auto_rows": null,
            "grid_column": null,
            "grid_gap": null,
            "grid_row": null,
            "grid_template_areas": null,
            "grid_template_columns": null,
            "grid_template_rows": null,
            "height": null,
            "justify_content": null,
            "justify_items": null,
            "left": null,
            "margin": null,
            "max_height": null,
            "max_width": null,
            "min_height": null,
            "min_width": null,
            "object_fit": null,
            "object_position": null,
            "order": null,
            "overflow": null,
            "overflow_x": null,
            "overflow_y": null,
            "padding": null,
            "right": null,
            "top": null,
            "visibility": null,
            "width": null
          }
        },
        "aa4c6d46852a4faa952d51e609eb86b3": {
          "model_module": "@jupyter-widgets/controls",
          "model_name": "DescriptionStyleModel",
          "model_module_version": "1.5.0",
          "state": {
            "_model_module": "@jupyter-widgets/controls",
            "_model_module_version": "1.5.0",
            "_model_name": "DescriptionStyleModel",
            "_view_count": null,
            "_view_module": "@jupyter-widgets/base",
            "_view_module_version": "1.2.0",
            "_view_name": "StyleView",
            "description_width": ""
          }
        },
        "f89282197fac406fa5f164c2126e638b": {
          "model_module": "@jupyter-widgets/controls",
          "model_name": "HBoxModel",
          "model_module_version": "1.5.0",
          "state": {
            "_dom_classes": [],
            "_model_module": "@jupyter-widgets/controls",
            "_model_module_version": "1.5.0",
            "_model_name": "HBoxModel",
            "_view_count": null,
            "_view_module": "@jupyter-widgets/controls",
            "_view_module_version": "1.5.0",
            "_view_name": "HBoxView",
            "box_style": "",
            "children": [
              "IPY_MODEL_ab106cd79849445dbd834e7a31a68274",
              "IPY_MODEL_ddf1493d11c4480bbb7bdeaba8ef85a0",
              "IPY_MODEL_2930c3063702476a9ebaeb756b311006"
            ],
            "layout": "IPY_MODEL_38b52b8dbb4240569c6e8d4e754c35fa"
          }
        },
        "ab106cd79849445dbd834e7a31a68274": {
          "model_module": "@jupyter-widgets/controls",
          "model_name": "HTMLModel",
          "model_module_version": "1.5.0",
          "state": {
            "_dom_classes": [],
            "_model_module": "@jupyter-widgets/controls",
            "_model_module_version": "1.5.0",
            "_model_name": "HTMLModel",
            "_view_count": null,
            "_view_module": "@jupyter-widgets/controls",
            "_view_module_version": "1.5.0",
            "_view_name": "HTMLView",
            "description": "",
            "description_tooltip": null,
            "layout": "IPY_MODEL_57375a49a295460999dc293a9c644f47",
            "placeholder": "​",
            "style": "IPY_MODEL_2998ea03108944e2b0b3ae9bd39ae536",
            "value": ""
          }
        },
        "ddf1493d11c4480bbb7bdeaba8ef85a0": {
          "model_module": "@jupyter-widgets/controls",
          "model_name": "FloatProgressModel",
          "model_module_version": "1.5.0",
          "state": {
            "_dom_classes": [],
            "_model_module": "@jupyter-widgets/controls",
            "_model_module_version": "1.5.0",
            "_model_name": "FloatProgressModel",
            "_view_count": null,
            "_view_module": "@jupyter-widgets/controls",
            "_view_module_version": "1.5.0",
            "_view_name": "ProgressView",
            "bar_style": "success",
            "description": "",
            "description_tooltip": null,
            "layout": "IPY_MODEL_95656508ede349838dcd25503ef90c69",
            "max": 28881,
            "min": 0,
            "orientation": "horizontal",
            "style": "IPY_MODEL_d8ec0a5b14704aa8b981f243912ce546",
            "value": 28881
          }
        },
        "2930c3063702476a9ebaeb756b311006": {
          "model_module": "@jupyter-widgets/controls",
          "model_name": "HTMLModel",
          "model_module_version": "1.5.0",
          "state": {
            "_dom_classes": [],
            "_model_module": "@jupyter-widgets/controls",
            "_model_module_version": "1.5.0",
            "_model_name": "HTMLModel",
            "_view_count": null,
            "_view_module": "@jupyter-widgets/controls",
            "_view_module_version": "1.5.0",
            "_view_name": "HTMLView",
            "description": "",
            "description_tooltip": null,
            "layout": "IPY_MODEL_9846c0b5c2e348fd80a0563581f0f721",
            "placeholder": "​",
            "style": "IPY_MODEL_bbfa2e2a3bda4a57b6101a1df0163b3a",
            "value": " 29696/? [00:00&lt;00:00, 327774.68it/s]"
          }
        },
        "38b52b8dbb4240569c6e8d4e754c35fa": {
          "model_module": "@jupyter-widgets/base",
          "model_name": "LayoutModel",
          "model_module_version": "1.2.0",
          "state": {
            "_model_module": "@jupyter-widgets/base",
            "_model_module_version": "1.2.0",
            "_model_name": "LayoutModel",
            "_view_count": null,
            "_view_module": "@jupyter-widgets/base",
            "_view_module_version": "1.2.0",
            "_view_name": "LayoutView",
            "align_content": null,
            "align_items": null,
            "align_self": null,
            "border": null,
            "bottom": null,
            "display": null,
            "flex": null,
            "flex_flow": null,
            "grid_area": null,
            "grid_auto_columns": null,
            "grid_auto_flow": null,
            "grid_auto_rows": null,
            "grid_column": null,
            "grid_gap": null,
            "grid_row": null,
            "grid_template_areas": null,
            "grid_template_columns": null,
            "grid_template_rows": null,
            "height": null,
            "justify_content": null,
            "justify_items": null,
            "left": null,
            "margin": null,
            "max_height": null,
            "max_width": null,
            "min_height": null,
            "min_width": null,
            "object_fit": null,
            "object_position": null,
            "order": null,
            "overflow": null,
            "overflow_x": null,
            "overflow_y": null,
            "padding": null,
            "right": null,
            "top": null,
            "visibility": null,
            "width": null
          }
        },
        "57375a49a295460999dc293a9c644f47": {
          "model_module": "@jupyter-widgets/base",
          "model_name": "LayoutModel",
          "model_module_version": "1.2.0",
          "state": {
            "_model_module": "@jupyter-widgets/base",
            "_model_module_version": "1.2.0",
            "_model_name": "LayoutModel",
            "_view_count": null,
            "_view_module": "@jupyter-widgets/base",
            "_view_module_version": "1.2.0",
            "_view_name": "LayoutView",
            "align_content": null,
            "align_items": null,
            "align_self": null,
            "border": null,
            "bottom": null,
            "display": null,
            "flex": null,
            "flex_flow": null,
            "grid_area": null,
            "grid_auto_columns": null,
            "grid_auto_flow": null,
            "grid_auto_rows": null,
            "grid_column": null,
            "grid_gap": null,
            "grid_row": null,
            "grid_template_areas": null,
            "grid_template_columns": null,
            "grid_template_rows": null,
            "height": null,
            "justify_content": null,
            "justify_items": null,
            "left": null,
            "margin": null,
            "max_height": null,
            "max_width": null,
            "min_height": null,
            "min_width": null,
            "object_fit": null,
            "object_position": null,
            "order": null,
            "overflow": null,
            "overflow_x": null,
            "overflow_y": null,
            "padding": null,
            "right": null,
            "top": null,
            "visibility": null,
            "width": null
          }
        },
        "2998ea03108944e2b0b3ae9bd39ae536": {
          "model_module": "@jupyter-widgets/controls",
          "model_name": "DescriptionStyleModel",
          "model_module_version": "1.5.0",
          "state": {
            "_model_module": "@jupyter-widgets/controls",
            "_model_module_version": "1.5.0",
            "_model_name": "DescriptionStyleModel",
            "_view_count": null,
            "_view_module": "@jupyter-widgets/base",
            "_view_module_version": "1.2.0",
            "_view_name": "StyleView",
            "description_width": ""
          }
        },
        "95656508ede349838dcd25503ef90c69": {
          "model_module": "@jupyter-widgets/base",
          "model_name": "LayoutModel",
          "model_module_version": "1.2.0",
          "state": {
            "_model_module": "@jupyter-widgets/base",
            "_model_module_version": "1.2.0",
            "_model_name": "LayoutModel",
            "_view_count": null,
            "_view_module": "@jupyter-widgets/base",
            "_view_module_version": "1.2.0",
            "_view_name": "LayoutView",
            "align_content": null,
            "align_items": null,
            "align_self": null,
            "border": null,
            "bottom": null,
            "display": null,
            "flex": null,
            "flex_flow": null,
            "grid_area": null,
            "grid_auto_columns": null,
            "grid_auto_flow": null,
            "grid_auto_rows": null,
            "grid_column": null,
            "grid_gap": null,
            "grid_row": null,
            "grid_template_areas": null,
            "grid_template_columns": null,
            "grid_template_rows": null,
            "height": null,
            "justify_content": null,
            "justify_items": null,
            "left": null,
            "margin": null,
            "max_height": null,
            "max_width": null,
            "min_height": null,
            "min_width": null,
            "object_fit": null,
            "object_position": null,
            "order": null,
            "overflow": null,
            "overflow_x": null,
            "overflow_y": null,
            "padding": null,
            "right": null,
            "top": null,
            "visibility": null,
            "width": null
          }
        },
        "d8ec0a5b14704aa8b981f243912ce546": {
          "model_module": "@jupyter-widgets/controls",
          "model_name": "ProgressStyleModel",
          "model_module_version": "1.5.0",
          "state": {
            "_model_module": "@jupyter-widgets/controls",
            "_model_module_version": "1.5.0",
            "_model_name": "ProgressStyleModel",
            "_view_count": null,
            "_view_module": "@jupyter-widgets/base",
            "_view_module_version": "1.2.0",
            "_view_name": "StyleView",
            "bar_color": null,
            "description_width": ""
          }
        },
        "9846c0b5c2e348fd80a0563581f0f721": {
          "model_module": "@jupyter-widgets/base",
          "model_name": "LayoutModel",
          "model_module_version": "1.2.0",
          "state": {
            "_model_module": "@jupyter-widgets/base",
            "_model_module_version": "1.2.0",
            "_model_name": "LayoutModel",
            "_view_count": null,
            "_view_module": "@jupyter-widgets/base",
            "_view_module_version": "1.2.0",
            "_view_name": "LayoutView",
            "align_content": null,
            "align_items": null,
            "align_self": null,
            "border": null,
            "bottom": null,
            "display": null,
            "flex": null,
            "flex_flow": null,
            "grid_area": null,
            "grid_auto_columns": null,
            "grid_auto_flow": null,
            "grid_auto_rows": null,
            "grid_column": null,
            "grid_gap": null,
            "grid_row": null,
            "grid_template_areas": null,
            "grid_template_columns": null,
            "grid_template_rows": null,
            "height": null,
            "justify_content": null,
            "justify_items": null,
            "left": null,
            "margin": null,
            "max_height": null,
            "max_width": null,
            "min_height": null,
            "min_width": null,
            "object_fit": null,
            "object_position": null,
            "order": null,
            "overflow": null,
            "overflow_x": null,
            "overflow_y": null,
            "padding": null,
            "right": null,
            "top": null,
            "visibility": null,
            "width": null
          }
        },
        "bbfa2e2a3bda4a57b6101a1df0163b3a": {
          "model_module": "@jupyter-widgets/controls",
          "model_name": "DescriptionStyleModel",
          "model_module_version": "1.5.0",
          "state": {
            "_model_module": "@jupyter-widgets/controls",
            "_model_module_version": "1.5.0",
            "_model_name": "DescriptionStyleModel",
            "_view_count": null,
            "_view_module": "@jupyter-widgets/base",
            "_view_module_version": "1.2.0",
            "_view_name": "StyleView",
            "description_width": ""
          }
        },
        "4b72228bc28348cfac518429b7d40c19": {
          "model_module": "@jupyter-widgets/controls",
          "model_name": "HBoxModel",
          "model_module_version": "1.5.0",
          "state": {
            "_dom_classes": [],
            "_model_module": "@jupyter-widgets/controls",
            "_model_module_version": "1.5.0",
            "_model_name": "HBoxModel",
            "_view_count": null,
            "_view_module": "@jupyter-widgets/controls",
            "_view_module_version": "1.5.0",
            "_view_name": "HBoxView",
            "box_style": "",
            "children": [
              "IPY_MODEL_2da63a3c54f7440ca1ddd3f140dbd5e6",
              "IPY_MODEL_a2c00bd30e52455aa6068ae493836e98",
              "IPY_MODEL_2452fca67a8c4f86b130d8208beedb39"
            ],
            "layout": "IPY_MODEL_547ba1a832b64735b0fbbf79cf4707b9"
          }
        },
        "2da63a3c54f7440ca1ddd3f140dbd5e6": {
          "model_module": "@jupyter-widgets/controls",
          "model_name": "HTMLModel",
          "model_module_version": "1.5.0",
          "state": {
            "_dom_classes": [],
            "_model_module": "@jupyter-widgets/controls",
            "_model_module_version": "1.5.0",
            "_model_name": "HTMLModel",
            "_view_count": null,
            "_view_module": "@jupyter-widgets/controls",
            "_view_module_version": "1.5.0",
            "_view_name": "HTMLView",
            "description": "",
            "description_tooltip": null,
            "layout": "IPY_MODEL_625c4bb5175744d69e2fa44af267da89",
            "placeholder": "​",
            "style": "IPY_MODEL_8d720cce317d46ae9bf12707d26d072a",
            "value": ""
          }
        },
        "a2c00bd30e52455aa6068ae493836e98": {
          "model_module": "@jupyter-widgets/controls",
          "model_name": "FloatProgressModel",
          "model_module_version": "1.5.0",
          "state": {
            "_dom_classes": [],
            "_model_module": "@jupyter-widgets/controls",
            "_model_module_version": "1.5.0",
            "_model_name": "FloatProgressModel",
            "_view_count": null,
            "_view_module": "@jupyter-widgets/controls",
            "_view_module_version": "1.5.0",
            "_view_name": "ProgressView",
            "bar_style": "success",
            "description": "",
            "description_tooltip": null,
            "layout": "IPY_MODEL_efa8601b15f94be688f34b18ea9a8501",
            "max": 1648877,
            "min": 0,
            "orientation": "horizontal",
            "style": "IPY_MODEL_4c7eeeb554db4ba18d8562167a57499c",
            "value": 1648877
          }
        },
        "2452fca67a8c4f86b130d8208beedb39": {
          "model_module": "@jupyter-widgets/controls",
          "model_name": "HTMLModel",
          "model_module_version": "1.5.0",
          "state": {
            "_dom_classes": [],
            "_model_module": "@jupyter-widgets/controls",
            "_model_module_version": "1.5.0",
            "_model_name": "HTMLModel",
            "_view_count": null,
            "_view_module": "@jupyter-widgets/controls",
            "_view_module_version": "1.5.0",
            "_view_name": "HTMLView",
            "description": "",
            "description_tooltip": null,
            "layout": "IPY_MODEL_b7c52954f690406f9069286a31803eab",
            "placeholder": "​",
            "style": "IPY_MODEL_998f5377f7f54fc3a29ae8e98625acb8",
            "value": " 1649664/? [00:00&lt;00:00, 2851695.62it/s]"
          }
        },
        "547ba1a832b64735b0fbbf79cf4707b9": {
          "model_module": "@jupyter-widgets/base",
          "model_name": "LayoutModel",
          "model_module_version": "1.2.0",
          "state": {
            "_model_module": "@jupyter-widgets/base",
            "_model_module_version": "1.2.0",
            "_model_name": "LayoutModel",
            "_view_count": null,
            "_view_module": "@jupyter-widgets/base",
            "_view_module_version": "1.2.0",
            "_view_name": "LayoutView",
            "align_content": null,
            "align_items": null,
            "align_self": null,
            "border": null,
            "bottom": null,
            "display": null,
            "flex": null,
            "flex_flow": null,
            "grid_area": null,
            "grid_auto_columns": null,
            "grid_auto_flow": null,
            "grid_auto_rows": null,
            "grid_column": null,
            "grid_gap": null,
            "grid_row": null,
            "grid_template_areas": null,
            "grid_template_columns": null,
            "grid_template_rows": null,
            "height": null,
            "justify_content": null,
            "justify_items": null,
            "left": null,
            "margin": null,
            "max_height": null,
            "max_width": null,
            "min_height": null,
            "min_width": null,
            "object_fit": null,
            "object_position": null,
            "order": null,
            "overflow": null,
            "overflow_x": null,
            "overflow_y": null,
            "padding": null,
            "right": null,
            "top": null,
            "visibility": null,
            "width": null
          }
        },
        "625c4bb5175744d69e2fa44af267da89": {
          "model_module": "@jupyter-widgets/base",
          "model_name": "LayoutModel",
          "model_module_version": "1.2.0",
          "state": {
            "_model_module": "@jupyter-widgets/base",
            "_model_module_version": "1.2.0",
            "_model_name": "LayoutModel",
            "_view_count": null,
            "_view_module": "@jupyter-widgets/base",
            "_view_module_version": "1.2.0",
            "_view_name": "LayoutView",
            "align_content": null,
            "align_items": null,
            "align_self": null,
            "border": null,
            "bottom": null,
            "display": null,
            "flex": null,
            "flex_flow": null,
            "grid_area": null,
            "grid_auto_columns": null,
            "grid_auto_flow": null,
            "grid_auto_rows": null,
            "grid_column": null,
            "grid_gap": null,
            "grid_row": null,
            "grid_template_areas": null,
            "grid_template_columns": null,
            "grid_template_rows": null,
            "height": null,
            "justify_content": null,
            "justify_items": null,
            "left": null,
            "margin": null,
            "max_height": null,
            "max_width": null,
            "min_height": null,
            "min_width": null,
            "object_fit": null,
            "object_position": null,
            "order": null,
            "overflow": null,
            "overflow_x": null,
            "overflow_y": null,
            "padding": null,
            "right": null,
            "top": null,
            "visibility": null,
            "width": null
          }
        },
        "8d720cce317d46ae9bf12707d26d072a": {
          "model_module": "@jupyter-widgets/controls",
          "model_name": "DescriptionStyleModel",
          "model_module_version": "1.5.0",
          "state": {
            "_model_module": "@jupyter-widgets/controls",
            "_model_module_version": "1.5.0",
            "_model_name": "DescriptionStyleModel",
            "_view_count": null,
            "_view_module": "@jupyter-widgets/base",
            "_view_module_version": "1.2.0",
            "_view_name": "StyleView",
            "description_width": ""
          }
        },
        "efa8601b15f94be688f34b18ea9a8501": {
          "model_module": "@jupyter-widgets/base",
          "model_name": "LayoutModel",
          "model_module_version": "1.2.0",
          "state": {
            "_model_module": "@jupyter-widgets/base",
            "_model_module_version": "1.2.0",
            "_model_name": "LayoutModel",
            "_view_count": null,
            "_view_module": "@jupyter-widgets/base",
            "_view_module_version": "1.2.0",
            "_view_name": "LayoutView",
            "align_content": null,
            "align_items": null,
            "align_self": null,
            "border": null,
            "bottom": null,
            "display": null,
            "flex": null,
            "flex_flow": null,
            "grid_area": null,
            "grid_auto_columns": null,
            "grid_auto_flow": null,
            "grid_auto_rows": null,
            "grid_column": null,
            "grid_gap": null,
            "grid_row": null,
            "grid_template_areas": null,
            "grid_template_columns": null,
            "grid_template_rows": null,
            "height": null,
            "justify_content": null,
            "justify_items": null,
            "left": null,
            "margin": null,
            "max_height": null,
            "max_width": null,
            "min_height": null,
            "min_width": null,
            "object_fit": null,
            "object_position": null,
            "order": null,
            "overflow": null,
            "overflow_x": null,
            "overflow_y": null,
            "padding": null,
            "right": null,
            "top": null,
            "visibility": null,
            "width": null
          }
        },
        "4c7eeeb554db4ba18d8562167a57499c": {
          "model_module": "@jupyter-widgets/controls",
          "model_name": "ProgressStyleModel",
          "model_module_version": "1.5.0",
          "state": {
            "_model_module": "@jupyter-widgets/controls",
            "_model_module_version": "1.5.0",
            "_model_name": "ProgressStyleModel",
            "_view_count": null,
            "_view_module": "@jupyter-widgets/base",
            "_view_module_version": "1.2.0",
            "_view_name": "StyleView",
            "bar_color": null,
            "description_width": ""
          }
        },
        "b7c52954f690406f9069286a31803eab": {
          "model_module": "@jupyter-widgets/base",
          "model_name": "LayoutModel",
          "model_module_version": "1.2.0",
          "state": {
            "_model_module": "@jupyter-widgets/base",
            "_model_module_version": "1.2.0",
            "_model_name": "LayoutModel",
            "_view_count": null,
            "_view_module": "@jupyter-widgets/base",
            "_view_module_version": "1.2.0",
            "_view_name": "LayoutView",
            "align_content": null,
            "align_items": null,
            "align_self": null,
            "border": null,
            "bottom": null,
            "display": null,
            "flex": null,
            "flex_flow": null,
            "grid_area": null,
            "grid_auto_columns": null,
            "grid_auto_flow": null,
            "grid_auto_rows": null,
            "grid_column": null,
            "grid_gap": null,
            "grid_row": null,
            "grid_template_areas": null,
            "grid_template_columns": null,
            "grid_template_rows": null,
            "height": null,
            "justify_content": null,
            "justify_items": null,
            "left": null,
            "margin": null,
            "max_height": null,
            "max_width": null,
            "min_height": null,
            "min_width": null,
            "object_fit": null,
            "object_position": null,
            "order": null,
            "overflow": null,
            "overflow_x": null,
            "overflow_y": null,
            "padding": null,
            "right": null,
            "top": null,
            "visibility": null,
            "width": null
          }
        },
        "998f5377f7f54fc3a29ae8e98625acb8": {
          "model_module": "@jupyter-widgets/controls",
          "model_name": "DescriptionStyleModel",
          "model_module_version": "1.5.0",
          "state": {
            "_model_module": "@jupyter-widgets/controls",
            "_model_module_version": "1.5.0",
            "_model_name": "DescriptionStyleModel",
            "_view_count": null,
            "_view_module": "@jupyter-widgets/base",
            "_view_module_version": "1.2.0",
            "_view_name": "StyleView",
            "description_width": ""
          }
        },
        "3249efb2421a4e1f8758cec8a468430b": {
          "model_module": "@jupyter-widgets/controls",
          "model_name": "HBoxModel",
          "model_module_version": "1.5.0",
          "state": {
            "_dom_classes": [],
            "_model_module": "@jupyter-widgets/controls",
            "_model_module_version": "1.5.0",
            "_model_name": "HBoxModel",
            "_view_count": null,
            "_view_module": "@jupyter-widgets/controls",
            "_view_module_version": "1.5.0",
            "_view_name": "HBoxView",
            "box_style": "",
            "children": [
              "IPY_MODEL_3dafc5f19d7346028249f99b80f8a786",
              "IPY_MODEL_fdef405a299e4ad48c434e6c90e7d71e",
              "IPY_MODEL_835352cc8ddb470a8a5c57d7ac12f2a3"
            ],
            "layout": "IPY_MODEL_89af67f15c32488d8f0e945ec03d0362"
          }
        },
        "3dafc5f19d7346028249f99b80f8a786": {
          "model_module": "@jupyter-widgets/controls",
          "model_name": "HTMLModel",
          "model_module_version": "1.5.0",
          "state": {
            "_dom_classes": [],
            "_model_module": "@jupyter-widgets/controls",
            "_model_module_version": "1.5.0",
            "_model_name": "HTMLModel",
            "_view_count": null,
            "_view_module": "@jupyter-widgets/controls",
            "_view_module_version": "1.5.0",
            "_view_name": "HTMLView",
            "description": "",
            "description_tooltip": null,
            "layout": "IPY_MODEL_c518c0ae9a884d0aa5d93b5ada63eb61",
            "placeholder": "​",
            "style": "IPY_MODEL_84d45ae16ceb4f91a140d06bab30adf2",
            "value": ""
          }
        },
        "fdef405a299e4ad48c434e6c90e7d71e": {
          "model_module": "@jupyter-widgets/controls",
          "model_name": "FloatProgressModel",
          "model_module_version": "1.5.0",
          "state": {
            "_dom_classes": [],
            "_model_module": "@jupyter-widgets/controls",
            "_model_module_version": "1.5.0",
            "_model_name": "FloatProgressModel",
            "_view_count": null,
            "_view_module": "@jupyter-widgets/controls",
            "_view_module_version": "1.5.0",
            "_view_name": "ProgressView",
            "bar_style": "success",
            "description": "",
            "description_tooltip": null,
            "layout": "IPY_MODEL_1f9cd61493c34309bca6664b3590ed55",
            "max": 4542,
            "min": 0,
            "orientation": "horizontal",
            "style": "IPY_MODEL_d982ffae61d54b09b8140ecdb7f8d261",
            "value": 4542
          }
        },
        "835352cc8ddb470a8a5c57d7ac12f2a3": {
          "model_module": "@jupyter-widgets/controls",
          "model_name": "HTMLModel",
          "model_module_version": "1.5.0",
          "state": {
            "_dom_classes": [],
            "_model_module": "@jupyter-widgets/controls",
            "_model_module_version": "1.5.0",
            "_model_name": "HTMLModel",
            "_view_count": null,
            "_view_module": "@jupyter-widgets/controls",
            "_view_module_version": "1.5.0",
            "_view_name": "HTMLView",
            "description": "",
            "description_tooltip": null,
            "layout": "IPY_MODEL_8938a74ad4db4dd8a3f97be893c4bba1",
            "placeholder": "​",
            "style": "IPY_MODEL_b111bc5a68d74bd3bc402dac4b639727",
            "value": " 5120/? [00:00&lt;00:00, 102909.95it/s]"
          }
        },
        "89af67f15c32488d8f0e945ec03d0362": {
          "model_module": "@jupyter-widgets/base",
          "model_name": "LayoutModel",
          "model_module_version": "1.2.0",
          "state": {
            "_model_module": "@jupyter-widgets/base",
            "_model_module_version": "1.2.0",
            "_model_name": "LayoutModel",
            "_view_count": null,
            "_view_module": "@jupyter-widgets/base",
            "_view_module_version": "1.2.0",
            "_view_name": "LayoutView",
            "align_content": null,
            "align_items": null,
            "align_self": null,
            "border": null,
            "bottom": null,
            "display": null,
            "flex": null,
            "flex_flow": null,
            "grid_area": null,
            "grid_auto_columns": null,
            "grid_auto_flow": null,
            "grid_auto_rows": null,
            "grid_column": null,
            "grid_gap": null,
            "grid_row": null,
            "grid_template_areas": null,
            "grid_template_columns": null,
            "grid_template_rows": null,
            "height": null,
            "justify_content": null,
            "justify_items": null,
            "left": null,
            "margin": null,
            "max_height": null,
            "max_width": null,
            "min_height": null,
            "min_width": null,
            "object_fit": null,
            "object_position": null,
            "order": null,
            "overflow": null,
            "overflow_x": null,
            "overflow_y": null,
            "padding": null,
            "right": null,
            "top": null,
            "visibility": null,
            "width": null
          }
        },
        "c518c0ae9a884d0aa5d93b5ada63eb61": {
          "model_module": "@jupyter-widgets/base",
          "model_name": "LayoutModel",
          "model_module_version": "1.2.0",
          "state": {
            "_model_module": "@jupyter-widgets/base",
            "_model_module_version": "1.2.0",
            "_model_name": "LayoutModel",
            "_view_count": null,
            "_view_module": "@jupyter-widgets/base",
            "_view_module_version": "1.2.0",
            "_view_name": "LayoutView",
            "align_content": null,
            "align_items": null,
            "align_self": null,
            "border": null,
            "bottom": null,
            "display": null,
            "flex": null,
            "flex_flow": null,
            "grid_area": null,
            "grid_auto_columns": null,
            "grid_auto_flow": null,
            "grid_auto_rows": null,
            "grid_column": null,
            "grid_gap": null,
            "grid_row": null,
            "grid_template_areas": null,
            "grid_template_columns": null,
            "grid_template_rows": null,
            "height": null,
            "justify_content": null,
            "justify_items": null,
            "left": null,
            "margin": null,
            "max_height": null,
            "max_width": null,
            "min_height": null,
            "min_width": null,
            "object_fit": null,
            "object_position": null,
            "order": null,
            "overflow": null,
            "overflow_x": null,
            "overflow_y": null,
            "padding": null,
            "right": null,
            "top": null,
            "visibility": null,
            "width": null
          }
        },
        "84d45ae16ceb4f91a140d06bab30adf2": {
          "model_module": "@jupyter-widgets/controls",
          "model_name": "DescriptionStyleModel",
          "model_module_version": "1.5.0",
          "state": {
            "_model_module": "@jupyter-widgets/controls",
            "_model_module_version": "1.5.0",
            "_model_name": "DescriptionStyleModel",
            "_view_count": null,
            "_view_module": "@jupyter-widgets/base",
            "_view_module_version": "1.2.0",
            "_view_name": "StyleView",
            "description_width": ""
          }
        },
        "1f9cd61493c34309bca6664b3590ed55": {
          "model_module": "@jupyter-widgets/base",
          "model_name": "LayoutModel",
          "model_module_version": "1.2.0",
          "state": {
            "_model_module": "@jupyter-widgets/base",
            "_model_module_version": "1.2.0",
            "_model_name": "LayoutModel",
            "_view_count": null,
            "_view_module": "@jupyter-widgets/base",
            "_view_module_version": "1.2.0",
            "_view_name": "LayoutView",
            "align_content": null,
            "align_items": null,
            "align_self": null,
            "border": null,
            "bottom": null,
            "display": null,
            "flex": null,
            "flex_flow": null,
            "grid_area": null,
            "grid_auto_columns": null,
            "grid_auto_flow": null,
            "grid_auto_rows": null,
            "grid_column": null,
            "grid_gap": null,
            "grid_row": null,
            "grid_template_areas": null,
            "grid_template_columns": null,
            "grid_template_rows": null,
            "height": null,
            "justify_content": null,
            "justify_items": null,
            "left": null,
            "margin": null,
            "max_height": null,
            "max_width": null,
            "min_height": null,
            "min_width": null,
            "object_fit": null,
            "object_position": null,
            "order": null,
            "overflow": null,
            "overflow_x": null,
            "overflow_y": null,
            "padding": null,
            "right": null,
            "top": null,
            "visibility": null,
            "width": null
          }
        },
        "d982ffae61d54b09b8140ecdb7f8d261": {
          "model_module": "@jupyter-widgets/controls",
          "model_name": "ProgressStyleModel",
          "model_module_version": "1.5.0",
          "state": {
            "_model_module": "@jupyter-widgets/controls",
            "_model_module_version": "1.5.0",
            "_model_name": "ProgressStyleModel",
            "_view_count": null,
            "_view_module": "@jupyter-widgets/base",
            "_view_module_version": "1.2.0",
            "_view_name": "StyleView",
            "bar_color": null,
            "description_width": ""
          }
        },
        "8938a74ad4db4dd8a3f97be893c4bba1": {
          "model_module": "@jupyter-widgets/base",
          "model_name": "LayoutModel",
          "model_module_version": "1.2.0",
          "state": {
            "_model_module": "@jupyter-widgets/base",
            "_model_module_version": "1.2.0",
            "_model_name": "LayoutModel",
            "_view_count": null,
            "_view_module": "@jupyter-widgets/base",
            "_view_module_version": "1.2.0",
            "_view_name": "LayoutView",
            "align_content": null,
            "align_items": null,
            "align_self": null,
            "border": null,
            "bottom": null,
            "display": null,
            "flex": null,
            "flex_flow": null,
            "grid_area": null,
            "grid_auto_columns": null,
            "grid_auto_flow": null,
            "grid_auto_rows": null,
            "grid_column": null,
            "grid_gap": null,
            "grid_row": null,
            "grid_template_areas": null,
            "grid_template_columns": null,
            "grid_template_rows": null,
            "height": null,
            "justify_content": null,
            "justify_items": null,
            "left": null,
            "margin": null,
            "max_height": null,
            "max_width": null,
            "min_height": null,
            "min_width": null,
            "object_fit": null,
            "object_position": null,
            "order": null,
            "overflow": null,
            "overflow_x": null,
            "overflow_y": null,
            "padding": null,
            "right": null,
            "top": null,
            "visibility": null,
            "width": null
          }
        },
        "b111bc5a68d74bd3bc402dac4b639727": {
          "model_module": "@jupyter-widgets/controls",
          "model_name": "DescriptionStyleModel",
          "model_module_version": "1.5.0",
          "state": {
            "_model_module": "@jupyter-widgets/controls",
            "_model_module_version": "1.5.0",
            "_model_name": "DescriptionStyleModel",
            "_view_count": null,
            "_view_module": "@jupyter-widgets/base",
            "_view_module_version": "1.2.0",
            "_view_name": "StyleView",
            "description_width": ""
          }
        }
      }
    }
  },
  "cells": [
    {
      "cell_type": "markdown",
      "metadata": {
        "id": "LlCgM9taJwb6"
      },
      "source": [
        "## [MNIST](https://pytorch.org/docs/stable/torchvision/datasets.html#mnist)"
      ]
    },
    {
      "cell_type": "code",
      "metadata": {
        "id": "W799OrnsJwb6"
      },
      "source": [
        "import os\n",
        "import random\n",
        "import numpy as np\n",
        "import torch\n",
        "import torchvision"
      ],
      "execution_count": 1,
      "outputs": []
    },
    {
      "cell_type": "code",
      "metadata": {
        "id": "FX2UYM-jdrbC"
      },
      "source": [
        "def seed_everything(seed):\n",
        "    random.seed(seed)\n",
        "    os.environ['PYTHONHASHSEED'] = str(seed)\n",
        "    np.random.seed(seed)\n",
        "    torch.manual_seed(seed)\n",
        "    torch.cuda.manual_seed(seed)\n",
        "    torch.backends.cudnn.deterministic = True\n",
        "    torch.backends.cudnn.benchmark = False\n",
        "\n",
        "seed_everything(42)"
      ],
      "execution_count": 2,
      "outputs": []
    },
    {
      "cell_type": "code",
      "metadata": {
        "id": "nml4KU9nJwb6",
        "colab": {
          "base_uri": "https://localhost:8080/",
          "height": 440,
          "referenced_widgets": [
            "8ba9c3f4ddb643b3b31ece32a57d3d6e",
            "34ecf22c4a4445a4939f4abc07b0a736",
            "75d031d533514284a70cbe175f3fa7e8",
            "ccc218f08bc8427a894f8711c06ef2d1",
            "4708a1cde15a4f35b595a6554bbf81c8",
            "d875cb05ea114757814aae4433b67bcf",
            "c79dfd172a8947819288bff38c8e2069",
            "b9e524239a894f8f908fde59294b55d8",
            "cca9b4543276410087cf8fe3a8b1ae12",
            "60182f576e1b4b9cb02e31227eb29769",
            "aa4c6d46852a4faa952d51e609eb86b3",
            "f89282197fac406fa5f164c2126e638b",
            "ab106cd79849445dbd834e7a31a68274",
            "ddf1493d11c4480bbb7bdeaba8ef85a0",
            "2930c3063702476a9ebaeb756b311006",
            "38b52b8dbb4240569c6e8d4e754c35fa",
            "57375a49a295460999dc293a9c644f47",
            "2998ea03108944e2b0b3ae9bd39ae536",
            "95656508ede349838dcd25503ef90c69",
            "d8ec0a5b14704aa8b981f243912ce546",
            "9846c0b5c2e348fd80a0563581f0f721",
            "bbfa2e2a3bda4a57b6101a1df0163b3a",
            "4b72228bc28348cfac518429b7d40c19",
            "2da63a3c54f7440ca1ddd3f140dbd5e6",
            "a2c00bd30e52455aa6068ae493836e98",
            "2452fca67a8c4f86b130d8208beedb39",
            "547ba1a832b64735b0fbbf79cf4707b9",
            "625c4bb5175744d69e2fa44af267da89",
            "8d720cce317d46ae9bf12707d26d072a",
            "efa8601b15f94be688f34b18ea9a8501",
            "4c7eeeb554db4ba18d8562167a57499c",
            "b7c52954f690406f9069286a31803eab",
            "998f5377f7f54fc3a29ae8e98625acb8",
            "3249efb2421a4e1f8758cec8a468430b",
            "3dafc5f19d7346028249f99b80f8a786",
            "fdef405a299e4ad48c434e6c90e7d71e",
            "835352cc8ddb470a8a5c57d7ac12f2a3",
            "89af67f15c32488d8f0e945ec03d0362",
            "c518c0ae9a884d0aa5d93b5ada63eb61",
            "84d45ae16ceb4f91a140d06bab30adf2",
            "1f9cd61493c34309bca6664b3590ed55",
            "d982ffae61d54b09b8140ecdb7f8d261",
            "8938a74ad4db4dd8a3f97be893c4bba1",
            "b111bc5a68d74bd3bc402dac4b639727"
          ]
        },
        "outputId": "0d459c9b-80f3-47d0-d935-bea24ab645b4"
      },
      "source": [
        "dataset = torchvision.datasets.MNIST('./data', download=True)"
      ],
      "execution_count": 3,
      "outputs": [
        {
          "output_type": "stream",
          "name": "stdout",
          "text": [
            "Downloading http://yann.lecun.com/exdb/mnist/train-images-idx3-ubyte.gz\n",
            "Downloading http://yann.lecun.com/exdb/mnist/train-images-idx3-ubyte.gz to ./data/MNIST/raw/train-images-idx3-ubyte.gz\n"
          ]
        },
        {
          "output_type": "display_data",
          "data": {
            "text/plain": [
              "  0%|          | 0/9912422 [00:00<?, ?it/s]"
            ],
            "application/vnd.jupyter.widget-view+json": {
              "version_major": 2,
              "version_minor": 0,
              "model_id": "8ba9c3f4ddb643b3b31ece32a57d3d6e"
            }
          },
          "metadata": {}
        },
        {
          "output_type": "stream",
          "name": "stdout",
          "text": [
            "Extracting ./data/MNIST/raw/train-images-idx3-ubyte.gz to ./data/MNIST/raw\n",
            "\n",
            "Downloading http://yann.lecun.com/exdb/mnist/train-labels-idx1-ubyte.gz\n",
            "Downloading http://yann.lecun.com/exdb/mnist/train-labels-idx1-ubyte.gz to ./data/MNIST/raw/train-labels-idx1-ubyte.gz\n"
          ]
        },
        {
          "output_type": "display_data",
          "data": {
            "text/plain": [
              "  0%|          | 0/28881 [00:00<?, ?it/s]"
            ],
            "application/vnd.jupyter.widget-view+json": {
              "version_major": 2,
              "version_minor": 0,
              "model_id": "f89282197fac406fa5f164c2126e638b"
            }
          },
          "metadata": {}
        },
        {
          "output_type": "stream",
          "name": "stdout",
          "text": [
            "Extracting ./data/MNIST/raw/train-labels-idx1-ubyte.gz to ./data/MNIST/raw\n",
            "\n",
            "Downloading http://yann.lecun.com/exdb/mnist/t10k-images-idx3-ubyte.gz\n",
            "Downloading http://yann.lecun.com/exdb/mnist/t10k-images-idx3-ubyte.gz to ./data/MNIST/raw/t10k-images-idx3-ubyte.gz\n"
          ]
        },
        {
          "output_type": "display_data",
          "data": {
            "text/plain": [
              "  0%|          | 0/1648877 [00:00<?, ?it/s]"
            ],
            "application/vnd.jupyter.widget-view+json": {
              "version_major": 2,
              "version_minor": 0,
              "model_id": "4b72228bc28348cfac518429b7d40c19"
            }
          },
          "metadata": {}
        },
        {
          "output_type": "stream",
          "name": "stdout",
          "text": [
            "Extracting ./data/MNIST/raw/t10k-images-idx3-ubyte.gz to ./data/MNIST/raw\n",
            "\n",
            "Downloading http://yann.lecun.com/exdb/mnist/t10k-labels-idx1-ubyte.gz\n",
            "Downloading http://yann.lecun.com/exdb/mnist/t10k-labels-idx1-ubyte.gz to ./data/MNIST/raw/t10k-labels-idx1-ubyte.gz\n"
          ]
        },
        {
          "output_type": "display_data",
          "data": {
            "text/plain": [
              "  0%|          | 0/4542 [00:00<?, ?it/s]"
            ],
            "application/vnd.jupyter.widget-view+json": {
              "version_major": 2,
              "version_minor": 0,
              "model_id": "3249efb2421a4e1f8758cec8a468430b"
            }
          },
          "metadata": {}
        },
        {
          "output_type": "stream",
          "name": "stdout",
          "text": [
            "Extracting ./data/MNIST/raw/t10k-labels-idx1-ubyte.gz to ./data/MNIST/raw\n",
            "\n"
          ]
        }
      ]
    },
    {
      "cell_type": "code",
      "metadata": {
        "colab": {
          "base_uri": "https://localhost:8080/"
        },
        "id": "TSlH780eJwb6",
        "outputId": "b1cae21e-5272-49b7-c000-91e954b5b4d0"
      },
      "source": [
        "print(type(dataset))\n",
        "\n",
        "# tuple: (image, target)"
      ],
      "execution_count": 4,
      "outputs": [
        {
          "output_type": "stream",
          "name": "stdout",
          "text": [
            "<class 'torchvision.datasets.mnist.MNIST'>\n"
          ]
        }
      ]
    },
    {
      "cell_type": "code",
      "metadata": {
        "colab": {
          "base_uri": "https://localhost:8080/"
        },
        "id": "fNrFWcM5Jwb7",
        "outputId": "a4cfeeeb-a40f-4537-b76b-766e92bda40a"
      },
      "source": [
        "print(len(dataset))"
      ],
      "execution_count": 5,
      "outputs": [
        {
          "output_type": "stream",
          "name": "stdout",
          "text": [
            "60000\n"
          ]
        }
      ]
    },
    {
      "cell_type": "code",
      "metadata": {
        "id": "7Wkaywg1Jwb7"
      },
      "source": [
        "n = 200\n",
        "data, target = dataset[n]"
      ],
      "execution_count": 6,
      "outputs": []
    },
    {
      "cell_type": "code",
      "metadata": {
        "colab": {
          "base_uri": "https://localhost:8080/"
        },
        "id": "eTGJ4zgVJwb8",
        "outputId": "7737af72-2ddf-460b-d375-a89540a928cf"
      },
      "source": [
        "print(type(data))"
      ],
      "execution_count": 7,
      "outputs": [
        {
          "output_type": "stream",
          "name": "stdout",
          "text": [
            "<class 'PIL.Image.Image'>\n"
          ]
        }
      ]
    },
    {
      "cell_type": "code",
      "metadata": {
        "colab": {
          "base_uri": "https://localhost:8080/"
        },
        "id": "06LhHh-TzCwg",
        "outputId": "21fca6dd-99a6-4fd8-fa5a-da09499b1799"
      },
      "source": [
        "print(data.mode, data.width, data.height)"
      ],
      "execution_count": 8,
      "outputs": [
        {
          "output_type": "stream",
          "name": "stdout",
          "text": [
            "L 28 28\n"
          ]
        }
      ]
    },
    {
      "cell_type": "code",
      "metadata": {
        "colab": {
          "base_uri": "https://localhost:8080/"
        },
        "id": "wTyu7DRzJwb8",
        "outputId": "b30f8bcc-b742-41bd-82e9-3039526fa392"
      },
      "source": [
        "print(type(target))"
      ],
      "execution_count": 9,
      "outputs": [
        {
          "output_type": "stream",
          "name": "stdout",
          "text": [
            "<class 'int'>\n"
          ]
        }
      ]
    },
    {
      "cell_type": "code",
      "metadata": {
        "colab": {
          "base_uri": "https://localhost:8080/",
          "height": 281
        },
        "id": "_KEg637dJwb8",
        "outputId": "c8435d3c-f59a-42af-8357-f4b5637b76e0"
      },
      "source": [
        "import matplotlib.pyplot as plt\n",
        "%matplotlib inline\n",
        "\n",
        "plt.title(target)\n",
        "plt.imshow(data, cmap='gray')\n",
        "data.show()"
      ],
      "execution_count": 10,
      "outputs": [
        {
          "output_type": "display_data",
          "data": {
            "text/plain": [
              "<Figure size 432x288 with 1 Axes>"
            ],
            "image/png": "[encoded data removed]"
          },
          "metadata": {
            "needs_background": "light"
          }
        }
      ]
    },
    {
      "cell_type": "code",
      "metadata": {
        "id": "6DsiDw7wJwb8"
      },
      "source": [
        "import torchvision.transforms as transforms\n",
        "# batch must contain tensors, numpy arrays, numbers, dicts or lists\n",
        "ToTensor = transforms.Compose([\n",
        "    transforms.ToTensor()\n",
        "])\n",
        "dataset = torchvision.datasets.MNIST('./data', transform = ToTensor)"
      ],
      "execution_count": 11,
      "outputs": []
    },
    {
      "cell_type": "code",
      "metadata": {
        "id": "GrB--IvSJwb8"
      },
      "source": [
        "data_loader = torch.utils.data.DataLoader(dataset,\n",
        "                                          batch_size=1,\n",
        "                                          shuffle=True)"
      ],
      "execution_count": 12,
      "outputs": []
    },
    {
      "cell_type": "code",
      "metadata": {
        "colab": {
          "base_uri": "https://localhost:8080/",
          "height": 318
        },
        "id": "b9-5bqlWJwb8",
        "outputId": "114c745a-5509-4c84-b31b-0ec84f189293"
      },
      "source": [
        "ToPILImage = transforms.Compose([\n",
        "    transforms.ToPILImage()\n",
        "])\n",
        "\n",
        "for data, target in data_loader:\n",
        "    print(data.shape)\n",
        "    data = data.squeeze() # 불필요한 차원 하나를 줄인다(batch_size=1)\n",
        "    data = data.squeeze() # 불필요한 차원 하나를 줄인다(color)\n",
        "    print(data.shape)\n",
        "    pic = ToPILImage(data)\n",
        "    plt.title(int(target))\n",
        "    plt.imshow(pic, cmap='gray')\n",
        "    plt.show()\n",
        "    break"
      ],
      "execution_count": 13,
      "outputs": [
        {
          "output_type": "stream",
          "name": "stdout",
          "text": [
            "torch.Size([1, 1, 28, 28])\n",
            "torch.Size([28, 28])\n"
          ]
        },
        {
          "output_type": "display_data",
          "data": {
            "text/plain": [
              "<Figure size 432x288 with 1 Axes>"
            ],
            "image/png": "[encoded data removed]"
          },
          "metadata": {
            "needs_background": "light"
          }
        }
      ]
    },
    {
      "cell_type": "code",
      "metadata": {
        "id": "UZlUCeMeJwb8"
      },
      "source": [
        "data_loader = torch.utils.data.DataLoader(dataset,\n",
        "                                          batch_size=10,\n",
        "                                          shuffle=True)"
      ],
      "execution_count": 14,
      "outputs": []
    },
    {
      "cell_type": "code",
      "metadata": {
        "colab": {
          "base_uri": "https://localhost:8080/",
          "height": 336
        },
        "id": "nZGsSucCJwb8",
        "outputId": "22be075a-47ff-46d1-c0f4-83ee6bf9ee93"
      },
      "source": [
        "ToPILImage = transforms.Compose([\n",
        "    transforms.ToPILImage()\n",
        "])\n",
        "\n",
        "for data, target in data_loader:\n",
        "    index = 5\n",
        "    print(data.shape)\n",
        "    img = data[index]\n",
        "    print(img.shape)\n",
        "    img = img[0] \n",
        "    print(img.shape)\n",
        "    pic = ToPILImage(img)\n",
        "    plt.title(int(target[index]))\n",
        "    plt.imshow(img, cmap='gray')\n",
        "    plt.show()\n",
        "    break"
      ],
      "execution_count": 15,
      "outputs": [
        {
          "output_type": "stream",
          "name": "stdout",
          "text": [
            "torch.Size([10, 1, 28, 28])\n",
            "torch.Size([1, 28, 28])\n",
            "torch.Size([28, 28])\n"
          ]
        },
        {
          "output_type": "display_data",
          "data": {
            "text/plain": [
              "<Figure size 432x288 with 1 Axes>"
            ],
            "image/png": "[encoded data removed]"
          },
          "metadata": {
            "needs_background": "light"
          }
        }
      ]
    },
    {
      "cell_type": "code",
      "metadata": {
        "colab": {
          "base_uri": "https://localhost:8080/"
        },
        "id": "jOQuiaBdJwb8",
        "outputId": "eb2cb866-a656-4a5c-9c2c-e1c190694014"
      },
      "source": [
        "# 1000개 batch\n",
        "n = 1000\n",
        "data_loader = torch.utils.data.DataLoader(dataset,\n",
        "                                          batch_size=n,\n",
        "                                          shuffle=True)\n",
        "i = 0\n",
        "l = []\n",
        "for data, target in data_loader:\n",
        "    i += len(data)\n",
        "    l.append(len(data))\n",
        "    \n",
        "print(l)\n",
        "print('Total number of data: {}'.format(i))\n",
        "\n",
        "# 2000개 batch\n",
        "n = 2000\n",
        "data_loader = torch.utils.data.DataLoader(dataset,\n",
        "                                          batch_size=n,\n",
        "                                          shuffle=True)\n",
        "i = 0\n",
        "l = []\n",
        "for data, target in data_loader:\n",
        "    i += len(data)\n",
        "    l.append(len(data))\n",
        "    \n",
        "print(l)\n",
        "print('Total number of data: {}'.format(i))\n",
        "\n",
        "# 999개 batch\n",
        "n = 999\n",
        "data_loader = torch.utils.data.DataLoader(dataset,\n",
        "                                          batch_size=n,\n",
        "                                          shuffle=True)\n",
        "i = 0\n",
        "l = []\n",
        "for data, target in data_loader:\n",
        "    i += len(data)\n",
        "    l.append(len(data))\n",
        "\n",
        "print(l)\n",
        "print('Total number of data: {}'.format(i))"
      ],
      "execution_count": 16,
      "outputs": [
        {
          "output_type": "stream",
          "name": "stdout",
          "text": [
            "[1000, 1000, 1000, 1000, 1000, 1000, 1000, 1000, 1000, 1000, 1000, 1000, 1000, 1000, 1000, 1000, 1000, 1000, 1000, 1000, 1000, 1000, 1000, 1000, 1000, 1000, 1000, 1000, 1000, 1000, 1000, 1000, 1000, 1000, 1000, 1000, 1000, 1000, 1000, 1000, 1000, 1000, 1000, 1000, 1000, 1000, 1000, 1000, 1000, 1000, 1000, 1000, 1000, 1000, 1000, 1000, 1000, 1000, 1000, 1000]\n",
            "Total number of data: 60000\n",
            "[2000, 2000, 2000, 2000, 2000, 2000, 2000, 2000, 2000, 2000, 2000, 2000, 2000, 2000, 2000, 2000, 2000, 2000, 2000, 2000, 2000, 2000, 2000, 2000, 2000, 2000, 2000, 2000, 2000, 2000]\n",
            "Total number of data: 60000\n",
            "[999, 999, 999, 999, 999, 999, 999, 999, 999, 999, 999, 999, 999, 999, 999, 999, 999, 999, 999, 999, 999, 999, 999, 999, 999, 999, 999, 999, 999, 999, 999, 999, 999, 999, 999, 999, 999, 999, 999, 999, 999, 999, 999, 999, 999, 999, 999, 999, 999, 999, 999, 999, 999, 999, 999, 999, 999, 999, 999, 999, 60]\n",
            "Total number of data: 60000\n"
          ]
        }
      ]
    },
    {
      "cell_type": "code",
      "metadata": {
        "id": "R6Ob7Vk8KSgM"
      },
      "source": [
        "%matplotlib inline\n",
        "\n",
        "import numpy as np\n",
        "\n",
        "import torch\n",
        "import torch.nn as nn\n",
        "import torch.nn.functional as F\n",
        "import torch.optim as optim\n",
        "import torchvision.utils as utils\n",
        "import torchvision.transforms as transforms\n",
        "\n",
        "is_cuda = torch.cuda.is_available()\n",
        "device = torch.device('cuda' if is_cuda else 'cpu')"
      ],
      "execution_count": 17,
      "outputs": []
    },
    {
      "cell_type": "code",
      "metadata": {
        "id": "He8bMST7iTtw"
      },
      "source": [
        "import torchvision.transforms as transforms\n",
        "#compose = transforms.Compose([\n",
        "#    transforms.ToTensor()\n",
        "#])\n",
        "\n",
        "compose = transforms.Compose([\n",
        "    transforms.ToTensor(),\n",
        "    transforms.Normalize(mean=(0.5), std=(0.5))\n",
        "])\n",
        "\n",
        "train_data = torchvision.datasets.MNIST(root='./data/', train=True, transform=compose, download=True)\n",
        "test_data  = torchvision.datasets.MNIST(root='./data/', train=False, transform=compose, download=True)"
      ],
      "execution_count": 18,
      "outputs": []
    },
    {
      "cell_type": "code",
      "metadata": {
        "colab": {
          "base_uri": "https://localhost:8080/"
        },
        "id": "wTjnS56zi36O",
        "outputId": "c0eaf81e-775b-4764-a495-8fa3b559978c"
      },
      "source": [
        "print('train sets: {}'.format(len(train_data)))\n",
        "print('test sets: {}'.format(len(test_data)))"
      ],
      "execution_count": 19,
      "outputs": [
        {
          "output_type": "stream",
          "name": "stdout",
          "text": [
            "train sets: 60000\n",
            "test sets: 10000\n"
          ]
        }
      ]
    },
    {
      "cell_type": "code",
      "metadata": {
        "id": "GL9pEBkBjO3I"
      },
      "source": [
        "BATCH_SIZE = 10\n",
        "\n",
        "train_loader = torch.utils.data.DataLoader(train_data,\n",
        "                                          batch_size=BATCH_SIZE,\n",
        "                                          shuffle=True)\n",
        "test_loader = torch.utils.data.DataLoader(test_data,\n",
        "                                          batch_size=BATCH_SIZE,\n",
        "                                          shuffle=True)"
      ],
      "execution_count": 20,
      "outputs": []
    },
    {
      "cell_type": "code",
      "metadata": {
        "id": "Bj6t-yD2joSr"
      },
      "source": [
        "class MNISTModel(nn.Module):\n",
        "    def __init__(self, output_size):\n",
        "        super(MNISTModel, self).__init__()\n",
        "\n",
        "        self.c1 = nn.Conv2d(1, 8, kernel_size=3)\n",
        "        self.c2 = nn.Conv2d(8, 16, kernel_size=3) # (n, 16, 11, 11)\n",
        "        self.c3 = nn.Conv2d(16, 32, kernel_size=3) # (n, 32, 9, 9)\n",
        "        self.c4 = nn.Conv2d(32, 32, kernel_size=1) # (n, 32, 9, 9)\n",
        "\n",
        "        nn.init.kaiming_normal_(self.c1.weight)\n",
        "        nn.init.kaiming_normal_(self.c2.weight)\n",
        "        nn.init.kaiming_normal_(self.c3.weight)\n",
        "        nn.init.kaiming_normal_(self.c4.weight)\n",
        "        \n",
        "        self.cv = nn.Sequential(\n",
        "                self.c1,\n",
        "                nn.BatchNorm2d(8),\n",
        "                nn.ReLU(),\n",
        "                nn.MaxPool2d(2),\n",
        "                self.c2,\n",
        "                nn.BatchNorm2d(16),\n",
        "                nn.ReLU(),\n",
        "                self.c3,\n",
        "                nn.BatchNorm2d(32),\n",
        "                nn.ReLU(),\n",
        "                self.c4,\n",
        "                nn.BatchNorm2d(32),\n",
        "                nn.ReLU(),\n",
        "                nn.Dropout(0.2)\n",
        "        )\n",
        "\n",
        "        self.l1 = nn.Linear(32*9*9, output_size)\n",
        "        nn.init.kaiming_normal_(self.l1.weight)\n",
        "\n",
        "        self.fc = nn.Sequential(self.l1, \n",
        "                        nn.BatchNorm1d(output_size))        \n",
        "\n",
        "    def forward(self, x):\n",
        "        x = self.cv(x)\n",
        "        x = x.view(-1, 32*9*9)\n",
        "        output = self.fc(x)\n",
        "        result = F.softmax(output, dim=0)\n",
        "        with torch.no_grad():\n",
        "            value = torch.max(result, 1)[1]\n",
        "        return result, value"
      ],
      "execution_count": 21,
      "outputs": []
    },
    {
      "cell_type": "code",
      "metadata": {
        "id": "YoABcrSWjyLt"
      },
      "source": [
        "model = MNISTModel(10).to(device)"
      ],
      "execution_count": 22,
      "outputs": []
    },
    {
      "cell_type": "code",
      "metadata": {
        "colab": {
          "base_uri": "https://localhost:8080/"
        },
        "id": "Z4v_e3ioj_Co",
        "outputId": "87fc5a83-8792-4fb0-926e-b46bfa841626"
      },
      "source": [
        "n = 0\n",
        "for data, target in train_loader:\n",
        "    print(data.shape) # (batch, channel, width, height)\n",
        "    break\n",
        "\n",
        "data = data.to(device)\n",
        "\n",
        "with torch.no_grad():\n",
        "    y, _ = model(data)\n",
        "    print(y)\n",
        "    print(y.sum(dim=1))\n",
        "    print(np.argmax(y.cpu(), axis=1), target)"
      ],
      "execution_count": 23,
      "outputs": [
        {
          "output_type": "stream",
          "name": "stdout",
          "text": [
            "torch.Size([10, 1, 28, 28])\n",
            "tensor([[0.0952, 0.0260, 0.0218, 0.0465, 0.2471, 0.0637, 0.0566, 0.0259, 0.0549,\n",
            "         0.3630],\n",
            "        [0.1702, 0.2580, 0.0203, 0.0128, 0.0524, 0.2059, 0.0209, 0.0119, 0.0127,\n",
            "         0.1211],\n",
            "        [0.0280, 0.0337, 0.1759, 0.0536, 0.0233, 0.1554, 0.1048, 0.0732, 0.0514,\n",
            "         0.1643],\n",
            "        [0.0202, 0.3126, 0.1742, 0.0986, 0.0231, 0.0129, 0.0108, 0.0296, 0.0297,\n",
            "         0.1063],\n",
            "        [0.1910, 0.0278, 0.0336, 0.2609, 0.0423, 0.0450, 0.2015, 0.0470, 0.1038,\n",
            "         0.0810],\n",
            "        [0.0343, 0.0224, 0.3777, 0.0129, 0.0904, 0.1561, 0.0345, 0.1525, 0.2890,\n",
            "         0.0599],\n",
            "        [0.3358, 0.0868, 0.0879, 0.0445, 0.1628, 0.0237, 0.0421, 0.0336, 0.0315,\n",
            "         0.0318],\n",
            "        [0.0310, 0.0349, 0.0490, 0.2086, 0.0157, 0.0566, 0.3864, 0.3430, 0.3255,\n",
            "         0.0383],\n",
            "        [0.0787, 0.0224, 0.0179, 0.1433, 0.3106, 0.0197, 0.0475, 0.0526, 0.0227,\n",
            "         0.0092],\n",
            "        [0.0156, 0.1755, 0.0418, 0.1183, 0.0322, 0.2610, 0.0949, 0.2308, 0.0788,\n",
            "         0.0251]], device='cuda:0')\n",
            "tensor([1.0008, 0.8861, 0.8635, 0.8179, 1.0339, 1.2296, 0.8805, 1.4890, 0.7245,\n",
            "        1.0741], device='cuda:0')\n",
            "tensor([9, 1, 2, 1, 3, 2, 0, 6, 4, 5]) tensor([7, 0, 4, 4, 8, 0, 2, 4, 3, 0])\n"
          ]
        }
      ]
    },
    {
      "cell_type": "code",
      "metadata": {
        "id": "My2ja1_0nT7_"
      },
      "source": [
        "BATCH_SIZE = 1000\n",
        "\n",
        "train_loader = torch.utils.data.DataLoader(train_data,\n",
        "                                          batch_size=BATCH_SIZE,\n",
        "                                          shuffle=True)\n",
        "test_loader = torch.utils.data.DataLoader(test_data,\n",
        "                                          batch_size=BATCH_SIZE,\n",
        "                                          shuffle=True)"
      ],
      "execution_count": 24,
      "outputs": []
    },
    {
      "cell_type": "code",
      "metadata": {
        "colab": {
          "base_uri": "https://localhost:8080/"
        },
        "id": "mZY8Iyp9mZxm",
        "outputId": "ff35b73a-f24b-40e4-eaf3-8e5ed7cb6609"
      },
      "source": [
        "model = MNISTModel(10).to(device)\n",
        "optimizer = torch.optim.Adam(model.parameters(), lr=0.05)\n",
        "criterion = nn.CrossEntropyLoss().to(device)\n",
        "\n",
        "n_epochs = 10 # 10회 학습\n",
        "\n",
        "for epoch in range(n_epochs):\n",
        "    total_loss = 0\n",
        "    for data, target in train_loader:\n",
        "        data = data.to(device)\n",
        "        target = target.to(device)\n",
        "        y, _ = model(data)\n",
        "        del data\n",
        "        loss = criterion(y, target)\n",
        "        del target\n",
        "        total_loss += loss.data.cpu().numpy()\n",
        "        optimizer.zero_grad()\n",
        "        loss.backward()\n",
        "        optimizer.step()\n",
        "        \n",
        "    print('epoch {}th loss: {}'.format(epoch, total_loss / 60))"
      ],
      "execution_count": 25,
      "outputs": [
        {
          "output_type": "stream",
          "name": "stdout",
          "text": [
            "epoch 0th loss: 2.29445317586263\n",
            "epoch 1th loss: 2.293664872646332\n",
            "epoch 2th loss: 2.293644746144613\n",
            "epoch 3th loss: 2.2936342636744182\n",
            "epoch 4th loss: 2.293626304467519\n",
            "epoch 5th loss: 2.293620932102203\n",
            "epoch 6th loss: 2.293616998195648\n",
            "epoch 7th loss: 2.2936148206392923\n",
            "epoch 8th loss: 2.293611987431844\n",
            "epoch 9th loss: 2.293609857559204\n"
          ]
        }
      ]
    },
    {
      "cell_type": "code",
      "metadata": {
        "colab": {
          "base_uri": "https://localhost:8080/"
        },
        "id": "GYuHTXCiomhn",
        "outputId": "a64582f3-4953-4873-fbe1-fdd60897a706"
      },
      "source": [
        "model = MNISTModel(10).to(device) \n",
        "optimizer = torch.optim.Adam(model.parameters(), lr=0.05)\n",
        "criterion = nn.CrossEntropyLoss().to(device)\n",
        "\n",
        "n_epochs = 50 # 50회 학습\n",
        "\n",
        "list_training_loss = []\n",
        "list_test_loss = []\n",
        "\n",
        "for epoch in range(n_epochs):\n",
        "    n_train = 0\n",
        "    train_loss = 0\n",
        "    model.train()\n",
        "    for train_data, train_target in train_loader:\n",
        "        train_data = train_data.to(device)\n",
        "        train_target = train_target.to(device)\n",
        "        y, _ = model(train_data)\n",
        "        del train_data\n",
        "        loss = criterion(y, train_target).sum()\n",
        "        del train_target\n",
        "        train_loss += loss.data.cpu().numpy()\n",
        "        optimizer.zero_grad()\n",
        "        loss.backward()\n",
        "        optimizer.step()\n",
        "        n_train += 1\n",
        "\n",
        "    if epoch % 10 == 0:\n",
        "        model.eval()\n",
        "        n_test = 0\n",
        "        test_loss = 0\n",
        "        for test_data, test_target in test_loader:\n",
        "            test_data = test_data.to(device)\n",
        "            test_target = test_target.to(device)\n",
        "            y_pred, _ = model(test_data)\n",
        "            del test_data\n",
        "            loss = criterion(y_pred, test_target).sum()\n",
        "            test_loss += loss.data.cpu().numpy()\n",
        "            n_test += 1\n",
        "\n",
        "        print('epoch {}th training loss: {} test loss: {}'.format(epoch, train_loss / n_train, test_loss / n_test))\n",
        "        list_training_loss.append(train_loss / n_train)\n",
        "        list_test_loss.append(test_loss / n_test)"
      ],
      "execution_count": 26,
      "outputs": [
        {
          "output_type": "stream",
          "name": "stdout",
          "text": [
            "epoch 0th training loss: 2.2944116234779357 test loss: 2.2936654806137087\n",
            "epoch 10th training loss: 2.2936079065004984 test loss: 2.2936039924621583\n",
            "epoch 20th training loss: 2.293599267800649 test loss: 2.2935975551605225\n",
            "epoch 30th training loss: 2.2935961723327636 test loss: 2.293595385551453\n",
            "epoch 40th training loss: 2.2935944477717083 test loss: 2.29359393119812\n"
          ]
        }
      ]
    },
    {
      "cell_type": "code",
      "metadata": {
        "colab": {
          "base_uri": "https://localhost:8080/",
          "height": 265
        },
        "id": "GimmZFqco_cn",
        "outputId": "939757f5-e349-473f-dbbc-dea4e9893620"
      },
      "source": [
        "import matplotlib.pyplot as plt\n",
        "\n",
        "plt.plot(list_training_loss, label='training')\n",
        "plt.plot(list_test_loss, label='test')\n",
        "plt.legend()\n",
        "plt.show()"
      ],
      "execution_count": 27,
      "outputs": [
        {
          "output_type": "display_data",
          "data": {
            "text/plain": [
              "<Figure size 432x288 with 1 Axes>"
            ],
            "image/png": "[encoded data removed]"
          },
          "metadata": {
            "needs_background": "light"
          }
        }
      ]
    },
    {
      "cell_type": "code",
      "metadata": {
        "colab": {
          "base_uri": "https://localhost:8080/"
        },
        "id": "_CCtqC0LpBnZ",
        "outputId": "521a8bfe-f3f4-495a-a58e-8004d071d5f4"
      },
      "source": [
        "from sklearn.metrics import accuracy_score\n",
        "import numpy as np\n",
        "\n",
        "model.eval()\n",
        "y_test = None\n",
        "y_pred = None\n",
        "for test_data, test_target in test_loader:\n",
        "    test_data = test_data.to(device)\n",
        "    test_target = test_target.to(device)\n",
        "    _, y = model(test_data)\n",
        "    del test_data\n",
        "    if None == y_test:\n",
        "        y_test = test_target\n",
        "    else:\n",
        "        torch.cat([y_test, test_target], dim=0)\n",
        "    if None == y_pred:\n",
        "        y_pred = y\n",
        "    else:\n",
        "        torch.cat([y_pred, y], dim=0)\n",
        "\n",
        "score = accuracy_score(y_test.cpu(), y_pred.cpu())\n",
        "print(score)"
      ],
      "execution_count": 28,
      "outputs": [
        {
          "output_type": "stream",
          "name": "stdout",
          "text": [
            "0.976\n"
          ]
        }
      ]
    }
  ]
}